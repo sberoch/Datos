{
 "cells": [
  {
   "cell_type": "code",
   "execution_count": 17,
   "metadata": {},
   "outputs": [],
   "source": [
    "import pandas as pd\n",
    "import numpy as np\n",
    "import matplotlib.pyplot as plt\n",
    "import seaborn as sns\n",
    "from pywaffle import Waffle  # pip install pywaffle\n",
    "\n",
    "%matplotlib inline"
   ]
  },
  {
   "cell_type": "code",
   "execution_count": 18,
   "metadata": {},
   "outputs": [],
   "source": [
    "dtypes_clk = { \"advertiser_id\": np.int8, \"action_id\": np.float16, \"source_id\": np.int8, \"country_code\": \"category\", \n",
    "               \"latitude\": np.float16, \"longitude\": np.float16, \"wifi_connection\": \"category\", \"carrier_id\": np.float16,\n",
    "               \"trans_id\": \"object\", \"os_major\":np.float32, \"brand\": np.float16, \"touchX\": np.float16,\n",
    "               \"touchY\": np.float16  }"
   ]
  },
  {
   "cell_type": "code",
   "execution_count": 19,
   "metadata": {},
   "outputs": [],
   "source": [
    "clicks = pd.read_csv('data/clicks.csv.gzip', compression = 'gzip', low_memory = False, dtype=dtypes_clk)"
   ]
  },
  {
   "cell_type": "code",
   "execution_count": 20,
   "metadata": {},
   "outputs": [],
   "source": [
    "clicks['created'] = pd.to_datetime(clicks['created'])"
   ]
  },
  {
   "cell_type": "code",
   "execution_count": 21,
   "metadata": {},
   "outputs": [],
   "source": [
    "for col in ['advertiser_id', 'source_id', 'country_code', 'latitude', 'longitude', 'wifi_connection', 'carrier_id', 'os_minor', 'os_major', 'specs_brand', 'ref_type']:\n",
    "    clicks[col] = clicks[col].astype('category')"
   ]
  },
  {
   "cell_type": "markdown",
   "metadata": {},
   "source": [
    "## **Analisis inicial**"
   ]
  },
  {
   "cell_type": "code",
   "execution_count": 22,
   "metadata": {},
   "outputs": [
    {
     "data": {
      "text/html": [
       "<div>\n",
       "<style scoped>\n",
       "    .dataframe tbody tr th:only-of-type {\n",
       "        vertical-align: middle;\n",
       "    }\n",
       "\n",
       "    .dataframe tbody tr th {\n",
       "        vertical-align: top;\n",
       "    }\n",
       "\n",
       "    .dataframe thead th {\n",
       "        text-align: right;\n",
       "    }\n",
       "</style>\n",
       "<table border=\"1\" class=\"dataframe\">\n",
       "  <thead>\n",
       "    <tr style=\"text-align: right;\">\n",
       "      <th></th>\n",
       "      <th>advertiser_id</th>\n",
       "      <th>action_id</th>\n",
       "      <th>source_id</th>\n",
       "      <th>created</th>\n",
       "      <th>country_code</th>\n",
       "      <th>latitude</th>\n",
       "      <th>longitude</th>\n",
       "      <th>wifi_connection</th>\n",
       "      <th>carrier_id</th>\n",
       "      <th>trans_id</th>\n",
       "      <th>os_minor</th>\n",
       "      <th>agent_device</th>\n",
       "      <th>os_major</th>\n",
       "      <th>specs_brand</th>\n",
       "      <th>brand</th>\n",
       "      <th>timeToClick</th>\n",
       "      <th>touchX</th>\n",
       "      <th>touchY</th>\n",
       "      <th>ref_type</th>\n",
       "      <th>ref_hash</th>\n",
       "    </tr>\n",
       "  </thead>\n",
       "  <tbody>\n",
       "    <tr>\n",
       "      <th>0</th>\n",
       "      <td>2</td>\n",
       "      <td>NaN</td>\n",
       "      <td>4</td>\n",
       "      <td>2019-03-06 22:42:12.755</td>\n",
       "      <td>6333597102633388268</td>\n",
       "      <td>1.206055</td>\n",
       "      <td>1.070312</td>\n",
       "      <td>False</td>\n",
       "      <td>1.0</td>\n",
       "      <td>iGgClCM9exiHF4K31g94XmvHEBSLKIY</td>\n",
       "      <td>6.768137e+18</td>\n",
       "      <td>NaN</td>\n",
       "      <td>3.072849e+18</td>\n",
       "      <td>2733035977666442898</td>\n",
       "      <td>NaN</td>\n",
       "      <td>1.563</td>\n",
       "      <td>0.904785</td>\n",
       "      <td>0.078003</td>\n",
       "      <td>1891515180541284343</td>\n",
       "      <td>1904083516767779093</td>\n",
       "    </tr>\n",
       "    <tr>\n",
       "      <th>1</th>\n",
       "      <td>0</td>\n",
       "      <td>NaN</td>\n",
       "      <td>0</td>\n",
       "      <td>2019-03-08 10:24:30.641</td>\n",
       "      <td>6333597102633388268</td>\n",
       "      <td>1.218750</td>\n",
       "      <td>1.071289</td>\n",
       "      <td>False</td>\n",
       "      <td>4.0</td>\n",
       "      <td>MMHTOJ6qKAOeIH_Eywh1KIcCaxtO9oM</td>\n",
       "      <td>3.025219e+18</td>\n",
       "      <td>NaN</td>\n",
       "      <td>1.774085e+18</td>\n",
       "      <td>392184377613098015</td>\n",
       "      <td>NaN</td>\n",
       "      <td>NaN</td>\n",
       "      <td>NaN</td>\n",
       "      <td>NaN</td>\n",
       "      <td>1891515180541284343</td>\n",
       "      <td>3086509764961796666</td>\n",
       "    </tr>\n",
       "    <tr>\n",
       "      <th>2</th>\n",
       "      <td>0</td>\n",
       "      <td>NaN</td>\n",
       "      <td>0</td>\n",
       "      <td>2019-03-08 15:24:16.069</td>\n",
       "      <td>6333597102633388268</td>\n",
       "      <td>1.206055</td>\n",
       "      <td>1.070312</td>\n",
       "      <td>False</td>\n",
       "      <td>6.0</td>\n",
       "      <td>vIrEIdf9izUaWdAri6Ezk7T3nHFvNQU</td>\n",
       "      <td>5.975656e+18</td>\n",
       "      <td>NaN</td>\n",
       "      <td>3.072849e+18</td>\n",
       "      <td>392184377613098015</td>\n",
       "      <td>NaN</td>\n",
       "      <td>NaN</td>\n",
       "      <td>0.945801</td>\n",
       "      <td>0.472900</td>\n",
       "      <td>1891515180541284343</td>\n",
       "      <td>6958163894863846647</td>\n",
       "    </tr>\n",
       "    <tr>\n",
       "      <th>3</th>\n",
       "      <td>2</td>\n",
       "      <td>NaN</td>\n",
       "      <td>3</td>\n",
       "      <td>2019-03-06 03:08:51.543</td>\n",
       "      <td>6333597102633388268</td>\n",
       "      <td>1.206055</td>\n",
       "      <td>1.070312</td>\n",
       "      <td>False</td>\n",
       "      <td>45.0</td>\n",
       "      <td>YaKxxEAs2UmZhSpRfiCO9Zpa82B_AKM</td>\n",
       "      <td>6.768137e+18</td>\n",
       "      <td>NaN</td>\n",
       "      <td>3.072849e+18</td>\n",
       "      <td>2733035977666442898</td>\n",
       "      <td>NaN</td>\n",
       "      <td>19.013</td>\n",
       "      <td>0.035004</td>\n",
       "      <td>0.430908</td>\n",
       "      <td>1891515180541284343</td>\n",
       "      <td>4368617728156436525</td>\n",
       "    </tr>\n",
       "    <tr>\n",
       "      <th>4</th>\n",
       "      <td>2</td>\n",
       "      <td>NaN</td>\n",
       "      <td>3</td>\n",
       "      <td>2019-03-06 03:32:55.570</td>\n",
       "      <td>6333597102633388268</td>\n",
       "      <td>1.206055</td>\n",
       "      <td>1.070312</td>\n",
       "      <td>False</td>\n",
       "      <td>45.0</td>\n",
       "      <td>X5XTOcYQovkl6yadYdAD7xioVGU9jiY</td>\n",
       "      <td>6.768137e+18</td>\n",
       "      <td>NaN</td>\n",
       "      <td>3.072849e+18</td>\n",
       "      <td>2733035977666442898</td>\n",
       "      <td>NaN</td>\n",
       "      <td>28.110</td>\n",
       "      <td>0.053986</td>\n",
       "      <td>0.423096</td>\n",
       "      <td>1891515180541284343</td>\n",
       "      <td>4368617728156436525</td>\n",
       "    </tr>\n",
       "  </tbody>\n",
       "</table>\n",
       "</div>"
      ],
      "text/plain": [
       "  advertiser_id  action_id source_id                 created  \\\n",
       "0             2        NaN         4 2019-03-06 22:42:12.755   \n",
       "1             0        NaN         0 2019-03-08 10:24:30.641   \n",
       "2             0        NaN         0 2019-03-08 15:24:16.069   \n",
       "3             2        NaN         3 2019-03-06 03:08:51.543   \n",
       "4             2        NaN         3 2019-03-06 03:32:55.570   \n",
       "\n",
       "          country_code  latitude longitude wifi_connection carrier_id  \\\n",
       "0  6333597102633388268  1.206055  1.070312           False        1.0   \n",
       "1  6333597102633388268  1.218750  1.071289           False        4.0   \n",
       "2  6333597102633388268  1.206055  1.070312           False        6.0   \n",
       "3  6333597102633388268  1.206055  1.070312           False       45.0   \n",
       "4  6333597102633388268  1.206055  1.070312           False       45.0   \n",
       "\n",
       "                          trans_id      os_minor  agent_device      os_major  \\\n",
       "0  iGgClCM9exiHF4K31g94XmvHEBSLKIY  6.768137e+18           NaN  3.072849e+18   \n",
       "1  MMHTOJ6qKAOeIH_Eywh1KIcCaxtO9oM  3.025219e+18           NaN  1.774085e+18   \n",
       "2  vIrEIdf9izUaWdAri6Ezk7T3nHFvNQU  5.975656e+18           NaN  3.072849e+18   \n",
       "3  YaKxxEAs2UmZhSpRfiCO9Zpa82B_AKM  6.768137e+18           NaN  3.072849e+18   \n",
       "4  X5XTOcYQovkl6yadYdAD7xioVGU9jiY  6.768137e+18           NaN  3.072849e+18   \n",
       "\n",
       "           specs_brand  brand  timeToClick    touchX    touchY  \\\n",
       "0  2733035977666442898    NaN        1.563  0.904785  0.078003   \n",
       "1   392184377613098015    NaN          NaN       NaN       NaN   \n",
       "2   392184377613098015    NaN          NaN  0.945801  0.472900   \n",
       "3  2733035977666442898    NaN       19.013  0.035004  0.430908   \n",
       "4  2733035977666442898    NaN       28.110  0.053986  0.423096   \n",
       "\n",
       "              ref_type             ref_hash  \n",
       "0  1891515180541284343  1904083516767779093  \n",
       "1  1891515180541284343  3086509764961796666  \n",
       "2  1891515180541284343  6958163894863846647  \n",
       "3  1891515180541284343  4368617728156436525  \n",
       "4  1891515180541284343  4368617728156436525  "
      ]
     },
     "execution_count": 22,
     "metadata": {},
     "output_type": "execute_result"
    }
   ],
   "source": [
    "clicks.head()"
   ]
  },
  {
   "cell_type": "code",
   "execution_count": 23,
   "metadata": {},
   "outputs": [
    {
     "data": {
      "text/plain": [
       "26351"
      ]
     },
     "execution_count": 23,
     "metadata": {},
     "output_type": "execute_result"
    }
   ],
   "source": [
    "len(clicks)"
   ]
  },
  {
   "cell_type": "code",
   "execution_count": 24,
   "metadata": {},
   "outputs": [
    {
     "data": {
      "text/plain": [
       "advertiser_id          0\n",
       "action_id          26351\n",
       "source_id              0\n",
       "created                0\n",
       "country_code           0\n",
       "latitude               0\n",
       "longitude              0\n",
       "wifi_connection        0\n",
       "carrier_id            11\n",
       "trans_id               0\n",
       "os_minor              12\n",
       "agent_device       23108\n",
       "os_major              12\n",
       "specs_brand            0\n",
       "brand              20116\n",
       "timeToClick         3374\n",
       "touchX              3340\n",
       "touchY              3340\n",
       "ref_type               0\n",
       "ref_hash               0\n",
       "dtype: int64"
      ]
     },
     "execution_count": 24,
     "metadata": {},
     "output_type": "execute_result"
    }
   ],
   "source": [
    "clicks.isnull().sum()\n",
    "# action_id, agent_device y brand son casi todo Null #"
   ]
  },
  {
   "cell_type": "code",
   "execution_count": 25,
   "metadata": {},
   "outputs": [
    {
     "data": {
      "text/plain": [
       "False    26351\n",
       "Name: wifi_connection, dtype: int64"
      ]
     },
     "execution_count": 25,
     "metadata": {},
     "output_type": "execute_result"
    }
   ],
   "source": [
    "clicks['wifi_connection'].value_counts()\n",
    "# Todos los valores son False, no aporta informacion relevante #"
   ]
  },
  {
   "cell_type": "markdown",
   "metadata": {},
   "source": [
    "## 1 - HeatMap de los clicks en la pantalla del dispositivo"
   ]
  },
  {
   "cell_type": "code",
   "execution_count": 26,
   "metadata": {},
   "outputs": [
    {
     "data": {
      "text/html": [
       "<div>\n",
       "<style scoped>\n",
       "    .dataframe tbody tr th:only-of-type {\n",
       "        vertical-align: middle;\n",
       "    }\n",
       "\n",
       "    .dataframe tbody tr th {\n",
       "        vertical-align: top;\n",
       "    }\n",
       "\n",
       "    .dataframe thead th {\n",
       "        text-align: right;\n",
       "    }\n",
       "</style>\n",
       "<table border=\"1\" class=\"dataframe\">\n",
       "  <thead>\n",
       "    <tr style=\"text-align: right;\">\n",
       "      <th></th>\n",
       "      <th>advertiser_id</th>\n",
       "      <th>action_id</th>\n",
       "      <th>source_id</th>\n",
       "      <th>created</th>\n",
       "      <th>country_code</th>\n",
       "      <th>latitude</th>\n",
       "      <th>longitude</th>\n",
       "      <th>wifi_connection</th>\n",
       "      <th>carrier_id</th>\n",
       "      <th>trans_id</th>\n",
       "      <th>...</th>\n",
       "      <th>os_major</th>\n",
       "      <th>specs_brand</th>\n",
       "      <th>brand</th>\n",
       "      <th>timeToClick</th>\n",
       "      <th>touchX</th>\n",
       "      <th>touchY</th>\n",
       "      <th>ref_type</th>\n",
       "      <th>ref_hash</th>\n",
       "      <th>X</th>\n",
       "      <th>Y</th>\n",
       "    </tr>\n",
       "  </thead>\n",
       "  <tbody>\n",
       "    <tr>\n",
       "      <th>0</th>\n",
       "      <td>2</td>\n",
       "      <td>NaN</td>\n",
       "      <td>4</td>\n",
       "      <td>2019-03-06 22:42:12.755</td>\n",
       "      <td>6333597102633388268</td>\n",
       "      <td>1.206055</td>\n",
       "      <td>1.070312</td>\n",
       "      <td>False</td>\n",
       "      <td>1.0</td>\n",
       "      <td>iGgClCM9exiHF4K31g94XmvHEBSLKIY</td>\n",
       "      <td>...</td>\n",
       "      <td>3.072849e+18</td>\n",
       "      <td>2733035977666442898</td>\n",
       "      <td>NaN</td>\n",
       "      <td>1.563</td>\n",
       "      <td>0.904785</td>\n",
       "      <td>0.078003</td>\n",
       "      <td>1891515180541284343</td>\n",
       "      <td>1904083516767779093</td>\n",
       "      <td>0.899902</td>\n",
       "      <td>0.099976</td>\n",
       "    </tr>\n",
       "    <tr>\n",
       "      <th>1</th>\n",
       "      <td>0</td>\n",
       "      <td>NaN</td>\n",
       "      <td>0</td>\n",
       "      <td>2019-03-08 10:24:30.641</td>\n",
       "      <td>6333597102633388268</td>\n",
       "      <td>1.218750</td>\n",
       "      <td>1.071289</td>\n",
       "      <td>False</td>\n",
       "      <td>4.0</td>\n",
       "      <td>MMHTOJ6qKAOeIH_Eywh1KIcCaxtO9oM</td>\n",
       "      <td>...</td>\n",
       "      <td>1.774085e+18</td>\n",
       "      <td>392184377613098015</td>\n",
       "      <td>NaN</td>\n",
       "      <td>NaN</td>\n",
       "      <td>NaN</td>\n",
       "      <td>NaN</td>\n",
       "      <td>1891515180541284343</td>\n",
       "      <td>3086509764961796666</td>\n",
       "      <td>NaN</td>\n",
       "      <td>NaN</td>\n",
       "    </tr>\n",
       "    <tr>\n",
       "      <th>2</th>\n",
       "      <td>0</td>\n",
       "      <td>NaN</td>\n",
       "      <td>0</td>\n",
       "      <td>2019-03-08 15:24:16.069</td>\n",
       "      <td>6333597102633388268</td>\n",
       "      <td>1.206055</td>\n",
       "      <td>1.070312</td>\n",
       "      <td>False</td>\n",
       "      <td>6.0</td>\n",
       "      <td>vIrEIdf9izUaWdAri6Ezk7T3nHFvNQU</td>\n",
       "      <td>...</td>\n",
       "      <td>3.072849e+18</td>\n",
       "      <td>392184377613098015</td>\n",
       "      <td>NaN</td>\n",
       "      <td>NaN</td>\n",
       "      <td>0.945801</td>\n",
       "      <td>0.472900</td>\n",
       "      <td>1891515180541284343</td>\n",
       "      <td>6958163894863846647</td>\n",
       "      <td>0.899902</td>\n",
       "      <td>0.500000</td>\n",
       "    </tr>\n",
       "    <tr>\n",
       "      <th>3</th>\n",
       "      <td>2</td>\n",
       "      <td>NaN</td>\n",
       "      <td>3</td>\n",
       "      <td>2019-03-06 03:08:51.543</td>\n",
       "      <td>6333597102633388268</td>\n",
       "      <td>1.206055</td>\n",
       "      <td>1.070312</td>\n",
       "      <td>False</td>\n",
       "      <td>45.0</td>\n",
       "      <td>YaKxxEAs2UmZhSpRfiCO9Zpa82B_AKM</td>\n",
       "      <td>...</td>\n",
       "      <td>3.072849e+18</td>\n",
       "      <td>2733035977666442898</td>\n",
       "      <td>NaN</td>\n",
       "      <td>19.013</td>\n",
       "      <td>0.035004</td>\n",
       "      <td>0.430908</td>\n",
       "      <td>1891515180541284343</td>\n",
       "      <td>4368617728156436525</td>\n",
       "      <td>0.000000</td>\n",
       "      <td>0.399902</td>\n",
       "    </tr>\n",
       "    <tr>\n",
       "      <th>4</th>\n",
       "      <td>2</td>\n",
       "      <td>NaN</td>\n",
       "      <td>3</td>\n",
       "      <td>2019-03-06 03:32:55.570</td>\n",
       "      <td>6333597102633388268</td>\n",
       "      <td>1.206055</td>\n",
       "      <td>1.070312</td>\n",
       "      <td>False</td>\n",
       "      <td>45.0</td>\n",
       "      <td>X5XTOcYQovkl6yadYdAD7xioVGU9jiY</td>\n",
       "      <td>...</td>\n",
       "      <td>3.072849e+18</td>\n",
       "      <td>2733035977666442898</td>\n",
       "      <td>NaN</td>\n",
       "      <td>28.110</td>\n",
       "      <td>0.053986</td>\n",
       "      <td>0.423096</td>\n",
       "      <td>1891515180541284343</td>\n",
       "      <td>4368617728156436525</td>\n",
       "      <td>0.099976</td>\n",
       "      <td>0.399902</td>\n",
       "    </tr>\n",
       "  </tbody>\n",
       "</table>\n",
       "<p>5 rows × 22 columns</p>\n",
       "</div>"
      ],
      "text/plain": [
       "  advertiser_id  action_id source_id                 created  \\\n",
       "0             2        NaN         4 2019-03-06 22:42:12.755   \n",
       "1             0        NaN         0 2019-03-08 10:24:30.641   \n",
       "2             0        NaN         0 2019-03-08 15:24:16.069   \n",
       "3             2        NaN         3 2019-03-06 03:08:51.543   \n",
       "4             2        NaN         3 2019-03-06 03:32:55.570   \n",
       "\n",
       "          country_code  latitude longitude wifi_connection carrier_id  \\\n",
       "0  6333597102633388268  1.206055  1.070312           False        1.0   \n",
       "1  6333597102633388268  1.218750  1.071289           False        4.0   \n",
       "2  6333597102633388268  1.206055  1.070312           False        6.0   \n",
       "3  6333597102633388268  1.206055  1.070312           False       45.0   \n",
       "4  6333597102633388268  1.206055  1.070312           False       45.0   \n",
       "\n",
       "                          trans_id    ...         os_major  \\\n",
       "0  iGgClCM9exiHF4K31g94XmvHEBSLKIY    ...     3.072849e+18   \n",
       "1  MMHTOJ6qKAOeIH_Eywh1KIcCaxtO9oM    ...     1.774085e+18   \n",
       "2  vIrEIdf9izUaWdAri6Ezk7T3nHFvNQU    ...     3.072849e+18   \n",
       "3  YaKxxEAs2UmZhSpRfiCO9Zpa82B_AKM    ...     3.072849e+18   \n",
       "4  X5XTOcYQovkl6yadYdAD7xioVGU9jiY    ...     3.072849e+18   \n",
       "\n",
       "           specs_brand brand timeToClick    touchX    touchY  \\\n",
       "0  2733035977666442898   NaN       1.563  0.904785  0.078003   \n",
       "1   392184377613098015   NaN         NaN       NaN       NaN   \n",
       "2   392184377613098015   NaN         NaN  0.945801  0.472900   \n",
       "3  2733035977666442898   NaN      19.013  0.035004  0.430908   \n",
       "4  2733035977666442898   NaN      28.110  0.053986  0.423096   \n",
       "\n",
       "              ref_type             ref_hash         X         Y  \n",
       "0  1891515180541284343  1904083516767779093  0.899902  0.099976  \n",
       "1  1891515180541284343  3086509764961796666       NaN       NaN  \n",
       "2  1891515180541284343  6958163894863846647  0.899902  0.500000  \n",
       "3  1891515180541284343  4368617728156436525  0.000000  0.399902  \n",
       "4  1891515180541284343  4368617728156436525  0.099976  0.399902  \n",
       "\n",
       "[5 rows x 22 columns]"
      ]
     },
     "execution_count": 26,
     "metadata": {},
     "output_type": "execute_result"
    }
   ],
   "source": [
    "#redondeo decimales asi coinciden varios valores, sino son todos unicos\n",
    "clicks['X'] = clicks['touchX'].round(1)\n",
    "clicks['Y'] = clicks['touchY'].round(1)\n",
    "\n",
    "clicks.head()"
   ]
  },
  {
   "cell_type": "code",
   "execution_count": 27,
   "metadata": {},
   "outputs": [],
   "source": [
    "#me quedo solo con lo que me interesa y quito Nans mas adelante\n",
    "filtered = clicks.filter(items=['X', 'Y'])"
   ]
  },
  {
   "cell_type": "code",
   "execution_count": 28,
   "metadata": {},
   "outputs": [],
   "source": [
    "filtered = filtered.dropna()"
   ]
  },
  {
   "cell_type": "code",
   "execution_count": 29,
   "metadata": {},
   "outputs": [],
   "source": [
    "#agrego una columna que contara apariciones\n",
    "filtered['values'] = 1"
   ]
  },
  {
   "cell_type": "code",
   "execution_count": 30,
   "metadata": {},
   "outputs": [
    {
     "data": {
      "text/html": [
       "<div>\n",
       "<style scoped>\n",
       "    .dataframe tbody tr th:only-of-type {\n",
       "        vertical-align: middle;\n",
       "    }\n",
       "\n",
       "    .dataframe tbody tr th {\n",
       "        vertical-align: top;\n",
       "    }\n",
       "\n",
       "    .dataframe thead th {\n",
       "        text-align: right;\n",
       "    }\n",
       "</style>\n",
       "<table border=\"1\" class=\"dataframe\">\n",
       "  <thead>\n",
       "    <tr style=\"text-align: right;\">\n",
       "      <th>X</th>\n",
       "      <th>0.0</th>\n",
       "      <th>0.0999755859375</th>\n",
       "      <th>0.199951171875</th>\n",
       "      <th>0.300048828125</th>\n",
       "      <th>0.39990234375</th>\n",
       "      <th>0.5</th>\n",
       "      <th>0.60009765625</th>\n",
       "      <th>0.7001953125</th>\n",
       "      <th>0.7998046875</th>\n",
       "      <th>0.89990234375</th>\n",
       "      <th>1.0</th>\n",
       "    </tr>\n",
       "    <tr>\n",
       "      <th>Y</th>\n",
       "      <th></th>\n",
       "      <th></th>\n",
       "      <th></th>\n",
       "      <th></th>\n",
       "      <th></th>\n",
       "      <th></th>\n",
       "      <th></th>\n",
       "      <th></th>\n",
       "      <th></th>\n",
       "      <th></th>\n",
       "      <th></th>\n",
       "    </tr>\n",
       "  </thead>\n",
       "  <tbody>\n",
       "    <tr>\n",
       "      <th>0.000000</th>\n",
       "      <td>111</td>\n",
       "      <td>121</td>\n",
       "      <td>81</td>\n",
       "      <td>78</td>\n",
       "      <td>59</td>\n",
       "      <td>72</td>\n",
       "      <td>91</td>\n",
       "      <td>111</td>\n",
       "      <td>203</td>\n",
       "      <td>768</td>\n",
       "      <td>833</td>\n",
       "    </tr>\n",
       "    <tr>\n",
       "      <th>0.099976</th>\n",
       "      <td>175</td>\n",
       "      <td>137</td>\n",
       "      <td>63</td>\n",
       "      <td>57</td>\n",
       "      <td>47</td>\n",
       "      <td>61</td>\n",
       "      <td>82</td>\n",
       "      <td>57</td>\n",
       "      <td>158</td>\n",
       "      <td>918</td>\n",
       "      <td>1080</td>\n",
       "    </tr>\n",
       "    <tr>\n",
       "      <th>0.199951</th>\n",
       "      <td>63</td>\n",
       "      <td>84</td>\n",
       "      <td>65</td>\n",
       "      <td>58</td>\n",
       "      <td>40</td>\n",
       "      <td>66</td>\n",
       "      <td>69</td>\n",
       "      <td>69</td>\n",
       "      <td>115</td>\n",
       "      <td>164</td>\n",
       "      <td>149</td>\n",
       "    </tr>\n",
       "    <tr>\n",
       "      <th>0.300049</th>\n",
       "      <td>61</td>\n",
       "      <td>70</td>\n",
       "      <td>48</td>\n",
       "      <td>45</td>\n",
       "      <td>38</td>\n",
       "      <td>72</td>\n",
       "      <td>82</td>\n",
       "      <td>78</td>\n",
       "      <td>118</td>\n",
       "      <td>108</td>\n",
       "      <td>73</td>\n",
       "    </tr>\n",
       "    <tr>\n",
       "      <th>0.399902</th>\n",
       "      <td>90</td>\n",
       "      <td>126</td>\n",
       "      <td>57</td>\n",
       "      <td>59</td>\n",
       "      <td>68</td>\n",
       "      <td>59</td>\n",
       "      <td>100</td>\n",
       "      <td>107</td>\n",
       "      <td>136</td>\n",
       "      <td>230</td>\n",
       "      <td>126</td>\n",
       "    </tr>\n",
       "  </tbody>\n",
       "</table>\n",
       "</div>"
      ],
      "text/plain": [
       "X         0.000000  0.099976  0.199951  0.300049  0.399902  0.500000  \\\n",
       "Y                                                                      \n",
       "0.000000       111       121        81        78        59        72   \n",
       "0.099976       175       137        63        57        47        61   \n",
       "0.199951        63        84        65        58        40        66   \n",
       "0.300049        61        70        48        45        38        72   \n",
       "0.399902        90       126        57        59        68        59   \n",
       "\n",
       "X         0.600098  0.700195  0.799805  0.899902  1.000000  \n",
       "Y                                                           \n",
       "0.000000        91       111       203       768       833  \n",
       "0.099976        82        57       158       918      1080  \n",
       "0.199951        69        69       115       164       149  \n",
       "0.300049        82        78       118       108        73  \n",
       "0.399902       100       107       136       230       126  "
      ]
     },
     "execution_count": 30,
     "metadata": {},
     "output_type": "execute_result"
    }
   ],
   "source": [
    "#pivoteo cosmico\n",
    "nuevo = filtered.pivot_table(index='X', columns='Y',values='values' ,fill_value=0, aggfunc=np.sum).T\n",
    "\n",
    "nuevo.head()"
   ]
  },
  {
   "cell_type": "code",
   "execution_count": 64,
   "metadata": {},
   "outputs": [
    {
     "data": {
      "image/png": "[encoded data removed]",
      "text/plain": [
       "<Figure size 576x720 with 2 Axes>"
      ]
     },
     "metadata": {
      "needs_background": "light"
     },
     "output_type": "display_data"
    }
   ],
   "source": [
    "#resize del heatmap\n",
    "plt.figure(figsize=(8, 10))\n",
    "\n",
    "grph1 = sns.heatmap(nuevo)\n",
    "grph1.set_title('Clicks en la pantalla del dispositivo')\n",
    "plt.xticks(rotation=45);"
   ]
  },
  {
   "cell_type": "markdown",
   "metadata": {},
   "source": [
    "## 2 - Canidad de clicks en funcion del timeToClick"
   ]
  },
  {
   "cell_type": "code",
   "execution_count": 32,
   "metadata": {},
   "outputs": [
    {
     "data": {
      "text/plain": [
       "count    22977.000000\n",
       "mean       230.403309\n",
       "std        976.849149\n",
       "min          0.017000\n",
       "25%          2.915000\n",
       "50%         10.588000\n",
       "75%         71.703000\n",
       "max      17616.188000\n",
       "Name: timeToClick, dtype: float64"
      ]
     },
     "execution_count": 32,
     "metadata": {},
     "output_type": "execute_result"
    }
   ],
   "source": [
    "clicks['timeToClick'].describe()"
   ]
  },
  {
   "cell_type": "markdown",
   "metadata": {},
   "source": [
    "Debido a la variacion de los datos, se trabajara con aquellos clicks que se hicieron en menos\n",
    "de 75 segundos."
   ]
  },
  {
   "cell_type": "code",
   "execution_count": 33,
   "metadata": {},
   "outputs": [
    {
     "data": {
      "text/html": [
       "<div>\n",
       "<style scoped>\n",
       "    .dataframe tbody tr th:only-of-type {\n",
       "        vertical-align: middle;\n",
       "    }\n",
       "\n",
       "    .dataframe tbody tr th {\n",
       "        vertical-align: top;\n",
       "    }\n",
       "\n",
       "    .dataframe thead th {\n",
       "        text-align: right;\n",
       "    }\n",
       "</style>\n",
       "<table border=\"1\" class=\"dataframe\">\n",
       "  <thead>\n",
       "    <tr style=\"text-align: right;\">\n",
       "      <th></th>\n",
       "      <th>timeToClick</th>\n",
       "    </tr>\n",
       "  </thead>\n",
       "  <tbody>\n",
       "    <tr>\n",
       "      <th>0</th>\n",
       "      <td>1.563</td>\n",
       "    </tr>\n",
       "    <tr>\n",
       "      <th>3</th>\n",
       "      <td>19.013</td>\n",
       "    </tr>\n",
       "    <tr>\n",
       "      <th>4</th>\n",
       "      <td>28.110</td>\n",
       "    </tr>\n",
       "    <tr>\n",
       "      <th>8</th>\n",
       "      <td>3.129</td>\n",
       "    </tr>\n",
       "    <tr>\n",
       "      <th>9</th>\n",
       "      <td>1.707</td>\n",
       "    </tr>\n",
       "  </tbody>\n",
       "</table>\n",
       "</div>"
      ],
      "text/plain": [
       "   timeToClick\n",
       "0        1.563\n",
       "3       19.013\n",
       "4       28.110\n",
       "8        3.129\n",
       "9        1.707"
      ]
     },
     "execution_count": 33,
     "metadata": {},
     "output_type": "execute_result"
    }
   ],
   "source": [
    "asd = clicks.loc[(clicks['timeToClick']) < 75, ['timeToClick']]\n",
    "asd.head()"
   ]
  },
  {
   "cell_type": "markdown",
   "metadata": {},
   "source": [
    "Se puede ver que la tendencia es hacer el click rapidamente"
   ]
  },
  {
   "cell_type": "code",
   "execution_count": 76,
   "metadata": {},
   "outputs": [
    {
     "data": {
      "image/png": "[encoded data removed]",
      "text/plain": [
       "<Figure size 1152x576 with 1 Axes>"
      ]
     },
     "metadata": {
      "needs_background": "light"
     },
     "output_type": "display_data"
    }
   ],
   "source": [
    "bins = np.linspace(0,80,21)\n",
    "plt.figure(figsize=(16,8))\n",
    "grph2 = plt.hist(clicks.timeToClick, bins = bins)\n",
    "plt.xticks(bins)\n",
    "plt.grid()\n",
    "plt.ylabel('Cantidad de clicks')\n",
    "plt.xlabel('Demora en clickear')\n",
    "plt.title('Distribucion de los clicks segun su demora');"
   ]
  },
  {
   "cell_type": "markdown",
   "metadata": {},
   "source": [
    "## 3 - Cantidad de clicks por hora"
   ]
  },
  {
   "cell_type": "code",
   "execution_count": 35,
   "metadata": {},
   "outputs": [],
   "source": [
    "clicks['hour'] = clicks['created'].dt.hour"
   ]
  },
  {
   "cell_type": "code",
   "execution_count": 36,
   "metadata": {},
   "outputs": [],
   "source": [
    "clicks_graficable = clicks.groupby('hour').agg({ 'hour' :'count'})"
   ]
  },
  {
   "cell_type": "code",
   "execution_count": 37,
   "metadata": {},
   "outputs": [],
   "source": [
    "clicks_graficable.columns = ['count']"
   ]
  },
  {
   "cell_type": "code",
   "execution_count": 38,
   "metadata": {},
   "outputs": [
    {
     "data": {
      "text/html": [
       "<div>\n",
       "<style scoped>\n",
       "    .dataframe tbody tr th:only-of-type {\n",
       "        vertical-align: middle;\n",
       "    }\n",
       "\n",
       "    .dataframe tbody tr th {\n",
       "        vertical-align: top;\n",
       "    }\n",
       "\n",
       "    .dataframe thead th {\n",
       "        text-align: right;\n",
       "    }\n",
       "</style>\n",
       "<table border=\"1\" class=\"dataframe\">\n",
       "  <thead>\n",
       "    <tr style=\"text-align: right;\">\n",
       "      <th></th>\n",
       "      <th>0</th>\n",
       "      <th>1</th>\n",
       "      <th>2</th>\n",
       "      <th>3</th>\n",
       "      <th>4</th>\n",
       "      <th>5</th>\n",
       "      <th>6</th>\n",
       "      <th>7</th>\n",
       "      <th>8</th>\n",
       "      <th>9</th>\n",
       "      <th>...</th>\n",
       "      <th>14</th>\n",
       "      <th>15</th>\n",
       "      <th>16</th>\n",
       "      <th>17</th>\n",
       "      <th>18</th>\n",
       "      <th>19</th>\n",
       "      <th>20</th>\n",
       "      <th>21</th>\n",
       "      <th>22</th>\n",
       "      <th>23</th>\n",
       "    </tr>\n",
       "  </thead>\n",
       "  <tbody>\n",
       "    <tr>\n",
       "      <th>hour</th>\n",
       "      <td>0</td>\n",
       "      <td>1</td>\n",
       "      <td>2</td>\n",
       "      <td>3</td>\n",
       "      <td>4</td>\n",
       "      <td>5</td>\n",
       "      <td>6</td>\n",
       "      <td>7</td>\n",
       "      <td>8</td>\n",
       "      <td>9</td>\n",
       "      <td>...</td>\n",
       "      <td>14</td>\n",
       "      <td>15</td>\n",
       "      <td>16</td>\n",
       "      <td>17</td>\n",
       "      <td>18</td>\n",
       "      <td>19</td>\n",
       "      <td>20</td>\n",
       "      <td>21</td>\n",
       "      <td>22</td>\n",
       "      <td>23</td>\n",
       "    </tr>\n",
       "    <tr>\n",
       "      <th>count</th>\n",
       "      <td>440</td>\n",
       "      <td>4209</td>\n",
       "      <td>2327</td>\n",
       "      <td>754</td>\n",
       "      <td>1079</td>\n",
       "      <td>945</td>\n",
       "      <td>678</td>\n",
       "      <td>518</td>\n",
       "      <td>537</td>\n",
       "      <td>754</td>\n",
       "      <td>...</td>\n",
       "      <td>834</td>\n",
       "      <td>959</td>\n",
       "      <td>966</td>\n",
       "      <td>641</td>\n",
       "      <td>655</td>\n",
       "      <td>380</td>\n",
       "      <td>389</td>\n",
       "      <td>451</td>\n",
       "      <td>1386</td>\n",
       "      <td>2726</td>\n",
       "    </tr>\n",
       "  </tbody>\n",
       "</table>\n",
       "<p>2 rows × 24 columns</p>\n",
       "</div>"
      ],
      "text/plain": [
       "        0     1     2    3     4    5    6    7    8    9   ...    14   15  \\\n",
       "hour     0     1     2    3     4    5    6    7    8    9  ...    14   15   \n",
       "count  440  4209  2327  754  1079  945  678  518  537  754  ...   834  959   \n",
       "\n",
       "        16   17   18   19   20   21    22    23  \n",
       "hour    16   17   18   19   20   21    22    23  \n",
       "count  966  641  655  380  389  451  1386  2726  \n",
       "\n",
       "[2 rows x 24 columns]"
      ]
     },
     "execution_count": 38,
     "metadata": {},
     "output_type": "execute_result"
    }
   ],
   "source": [
    "clicks_graficable.reset_index().T"
   ]
  },
  {
   "cell_type": "code",
   "execution_count": 79,
   "metadata": {},
   "outputs": [
    {
     "data": {
      "image/png": "[encoded data removed]",
      "text/plain": [
       "<Figure size 1440x720 with 1 Axes>"
      ]
     },
     "metadata": {
      "needs_background": "light"
     },
     "output_type": "display_data"
    }
   ],
   "source": [
    "grph2 = clicks_graficable.plot.bar(grid = True, figsize = (20,10), title = 'Clicks por hora', rot = 0, legend = False)\n",
    "grph2.set_xlabel('Horas')\n",
    "grph2.set_ylabel('Cantidad de clicks');"
   ]
  },
  {
   "cell_type": "markdown",
   "metadata": {},
   "source": [
    "## 4 - Cantidad de clicks por dia de la semana"
   ]
  },
  {
   "cell_type": "code",
   "execution_count": 133,
   "metadata": {},
   "outputs": [],
   "source": [
    "clicks['day_of_week'] = clicks['created'].dt.dayofweek"
   ]
  },
  {
   "cell_type": "code",
   "execution_count": 134,
   "metadata": {},
   "outputs": [],
   "source": [
    "clicks['day'] = clicks['created'].dt.day"
   ]
  },
  {
   "cell_type": "code",
   "execution_count": 144,
   "metadata": {},
   "outputs": [],
   "source": [
    "graficable_day_of_week = clicks.groupby(['day_of_week', 'day']).agg({'day_of_week':'count'})"
   ]
  },
  {
   "cell_type": "code",
   "execution_count": 158,
   "metadata": {},
   "outputs": [
    {
     "data": {
      "text/html": [
       "<div>\n",
       "<style scoped>\n",
       "    .dataframe tbody tr th:only-of-type {\n",
       "        vertical-align: middle;\n",
       "    }\n",
       "\n",
       "    .dataframe tbody tr th {\n",
       "        vertical-align: top;\n",
       "    }\n",
       "\n",
       "    .dataframe thead th {\n",
       "        text-align: right;\n",
       "    }\n",
       "</style>\n",
       "<table border=\"1\" class=\"dataframe\">\n",
       "  <thead>\n",
       "    <tr style=\"text-align: right;\">\n",
       "      <th></th>\n",
       "      <th>count</th>\n",
       "      <th>alias</th>\n",
       "    </tr>\n",
       "    <tr>\n",
       "      <th>day_of_week</th>\n",
       "      <th></th>\n",
       "      <th></th>\n",
       "    </tr>\n",
       "  </thead>\n",
       "  <tbody>\n",
       "    <tr>\n",
       "      <th>0</th>\n",
       "      <td>4557</td>\n",
       "      <td>Lunes</td>\n",
       "    </tr>\n",
       "    <tr>\n",
       "      <th>1</th>\n",
       "      <td>5235</td>\n",
       "      <td>Martes</td>\n",
       "    </tr>\n",
       "    <tr>\n",
       "      <th>2</th>\n",
       "      <td>3482</td>\n",
       "      <td>Miercoles</td>\n",
       "    </tr>\n",
       "    <tr>\n",
       "      <th>3</th>\n",
       "      <td>2989</td>\n",
       "      <td>Jueves</td>\n",
       "    </tr>\n",
       "    <tr>\n",
       "      <th>4</th>\n",
       "      <td>2839</td>\n",
       "      <td>Viernes</td>\n",
       "    </tr>\n",
       "    <tr>\n",
       "      <th>5</th>\n",
       "      <td>3283</td>\n",
       "      <td>Sabado</td>\n",
       "    </tr>\n",
       "    <tr>\n",
       "      <th>6</th>\n",
       "      <td>3966</td>\n",
       "      <td>Domingo</td>\n",
       "    </tr>\n",
       "  </tbody>\n",
       "</table>\n",
       "</div>"
      ],
      "text/plain": [
       "             count      alias\n",
       "day_of_week                  \n",
       "0             4557      Lunes\n",
       "1             5235     Martes\n",
       "2             3482  Miercoles\n",
       "3             2989     Jueves\n",
       "4             2839    Viernes\n",
       "5             3283     Sabado\n",
       "6             3966    Domingo"
      ]
     },
     "execution_count": 158,
     "metadata": {},
     "output_type": "execute_result"
    }
   ],
   "source": [
    "graficable_day_of_week"
   ]
  },
  {
   "cell_type": "markdown",
   "metadata": {},
   "source": [
    "Vamos a descartar los dias 5 y 6 debido a sus valores anormalmente bajos"
   ]
  },
  {
   "cell_type": "code",
   "execution_count": 145,
   "metadata": {},
   "outputs": [],
   "source": [
    "graficable_day_of_week = graficable_day_of_week.loc[[(0,11),(1,12),(2,13),(3,7),(4,8),(5,9),(6,10)]]"
   ]
  },
  {
   "cell_type": "code",
   "execution_count": 146,
   "metadata": {},
   "outputs": [],
   "source": [
    "graficable_day_of_week = clicks.groupby(['day_of_week']).agg({'day_of_week':'count'})"
   ]
  },
  {
   "cell_type": "code",
   "execution_count": 147,
   "metadata": {},
   "outputs": [],
   "source": [
    "graficable_day_of_week.columns = ['count']"
   ]
  },
  {
   "cell_type": "code",
   "execution_count": 160,
   "metadata": {},
   "outputs": [],
   "source": [
    "graficable_day_of_week['alias'] = ['Lunes','Martes','Miercoles','Jueves','Viernes','Sabado','Domingo']"
   ]
  },
  {
   "cell_type": "code",
   "execution_count": 163,
   "metadata": {},
   "outputs": [],
   "source": [
    "graficable_day_of_week.set_index('alias', drop = True, inplace = True)"
   ]
  },
  {
   "cell_type": "code",
   "execution_count": 165,
   "metadata": {},
   "outputs": [
    {
     "data": {
      "image/png": "[encoded data removed]",
      "text/plain": [
       "<Figure size 720x720 with 1 Axes>"
      ]
     },
     "metadata": {
      "needs_background": "light"
     },
     "output_type": "display_data"
    }
   ],
   "source": [
    "grph4 = graficable_day_of_week.plot.bar( figsize = (10,10), grid = True, rot = 0, legend = False , title = 'Clicks por dia de la semana')\n",
    "grph4.set_ylabel(\"Cantidad de clicks\")\n",
    "grph4.set_xlabel(\"Dia de la semana\");"
   ]
  },
  {
   "cell_type": "markdown",
   "metadata": {},
   "source": [
    "## 5 - Cantidad de clicks por dia"
   ]
  },
  {
   "cell_type": "code",
   "execution_count": 98,
   "metadata": {},
   "outputs": [],
   "source": [
    "clicks['day'] = clicks['created'].dt.day"
   ]
  },
  {
   "cell_type": "code",
   "execution_count": 99,
   "metadata": {},
   "outputs": [],
   "source": [
    "graficable_dias = clicks.groupby(['day']).agg({'day':'count'})"
   ]
  },
  {
   "cell_type": "code",
   "execution_count": 100,
   "metadata": {},
   "outputs": [],
   "source": [
    "graficable_dias.columns = ['count']"
   ]
  },
  {
   "cell_type": "code",
   "execution_count": 101,
   "metadata": {},
   "outputs": [
    {
     "data": {
      "text/html": [
       "<div>\n",
       "<style scoped>\n",
       "    .dataframe tbody tr th:only-of-type {\n",
       "        vertical-align: middle;\n",
       "    }\n",
       "\n",
       "    .dataframe tbody tr th {\n",
       "        vertical-align: top;\n",
       "    }\n",
       "\n",
       "    .dataframe thead th {\n",
       "        text-align: right;\n",
       "    }\n",
       "</style>\n",
       "<table border=\"1\" class=\"dataframe\">\n",
       "  <thead>\n",
       "    <tr style=\"text-align: right;\">\n",
       "      <th></th>\n",
       "      <th>count</th>\n",
       "    </tr>\n",
       "    <tr>\n",
       "      <th>day</th>\n",
       "      <th></th>\n",
       "    </tr>\n",
       "  </thead>\n",
       "  <tbody>\n",
       "    <tr>\n",
       "      <th>5</th>\n",
       "      <td>31</td>\n",
       "    </tr>\n",
       "    <tr>\n",
       "      <th>6</th>\n",
       "      <td>14</td>\n",
       "    </tr>\n",
       "    <tr>\n",
       "      <th>7</th>\n",
       "      <td>2989</td>\n",
       "    </tr>\n",
       "    <tr>\n",
       "      <th>8</th>\n",
       "      <td>2839</td>\n",
       "    </tr>\n",
       "    <tr>\n",
       "      <th>9</th>\n",
       "      <td>3283</td>\n",
       "    </tr>\n",
       "    <tr>\n",
       "      <th>10</th>\n",
       "      <td>3966</td>\n",
       "    </tr>\n",
       "    <tr>\n",
       "      <th>11</th>\n",
       "      <td>4557</td>\n",
       "    </tr>\n",
       "    <tr>\n",
       "      <th>12</th>\n",
       "      <td>5204</td>\n",
       "    </tr>\n",
       "    <tr>\n",
       "      <th>13</th>\n",
       "      <td>3468</td>\n",
       "    </tr>\n",
       "  </tbody>\n",
       "</table>\n",
       "</div>"
      ],
      "text/plain": [
       "     count\n",
       "day       \n",
       "5       31\n",
       "6       14\n",
       "7     2989\n",
       "8     2839\n",
       "9     3283\n",
       "10    3966\n",
       "11    4557\n",
       "12    5204\n",
       "13    3468"
      ]
     },
     "execution_count": 101,
     "metadata": {},
     "output_type": "execute_result"
    }
   ],
   "source": [
    "graficable_dias"
   ]
  },
  {
   "cell_type": "markdown",
   "metadata": {},
   "source": [
    "Vamos a descartar los dias 5 y 6 debido a sus valores anormalmente bajos"
   ]
  },
  {
   "cell_type": "code",
   "execution_count": 105,
   "metadata": {},
   "outputs": [],
   "source": [
    "graficable_dias = graficable_dias.loc[[7,8,9,10,11,12,13]]"
   ]
  },
  {
   "cell_type": "code",
   "execution_count": 107,
   "metadata": {},
   "outputs": [
    {
     "data": {
      "image/png": "[encoded data removed]",
      "text/plain": [
       "<Figure size 720x720 with 1 Axes>"
      ]
     },
     "metadata": {
      "needs_background": "light"
     },
     "output_type": "display_data"
    }
   ],
   "source": [
    "grph5 = graficable_dias.plot.bar(figsize= (10,10), grid = True, title = 'Clicks por dia', legend = False, rot =0)\n",
    "grph5.set_ylabel(\"Cantidad de clicks\")\n",
    "grph5.set_xlabel(\"Dias de Marzo\");"
   ]
  },
  {
   "cell_type": "code",
   "execution_count": null,
   "metadata": {},
   "outputs": [],
   "source": []
  }
 ],
 "metadata": {
  "kernelspec": {
   "display_name": "Python 3",
   "language": "python",
   "name": "python3"
  },
  "language_info": {
   "codemirror_mode": {
    "name": "ipython",
    "version": 3
   },
   "file_extension": ".py",
   "mimetype": "text/x-python",
   "name": "python",
   "nbconvert_exporter": "python",
   "pygments_lexer": "ipython3",
   "version": "3.7.1"
  }
 },
 "nbformat": 4,
 "nbformat_minor": 2
}
