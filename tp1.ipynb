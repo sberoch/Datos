{
 "cells": [
  {
   "cell_type": "code",
   "execution_count": 1,
   "metadata": {},
   "outputs": [],
   "source": [
    "import pandas as pd\n",
    "import numpy as np\n",
    "import matplotlib.pyplot as plt\n",
    "\n",
    "%matplotlib inline"
   ]
  },
  {
   "cell_type": "code",
   "execution_count": 2,
   "metadata": {},
   "outputs": [
    {
     "name": "stderr",
     "output_type": "stream",
     "text": [
      "C:\\ProgramData\\Anaconda3\\lib\\site-packages\\IPython\\core\\interactiveshell.py:3020: DtypeWarning: Columns (12,18,19) have mixed types. Specify dtype option on import or set low_memory=False.\n",
      "  interactivity=interactivity, compiler=compiler, result=result)\n"
     ]
    }
   ],
   "source": [
    "auctions = pd.read_csv('auctions.csv.gzip', compression = 'gzip')\n",
    "clicks = pd.read_csv('clicks.csv.gzip', compression = 'gzip')\n",
    "events = pd.read_csv('events.csv.gzip', compression = 'gzip')\n",
    "installs = pd.read_csv('installs.csv.gzip', compression = 'gzip')\n",
    "target_competencia = pd.read_csv('target_competencia.csv')"
   ]
  },
  {
   "cell_type": "markdown",
   "metadata": {},
   "source": [
    "Tarda aproximadamente 3 minutos en levantar. 3,6 GB en RAM."
   ]
  },
  {
   "cell_type": "code",
   "execution_count": 3,
   "metadata": {},
   "outputs": [
    {
     "data": {
      "text/html": [
       "<div>\n",
       "<style scoped>\n",
       "    .dataframe tbody tr th:only-of-type {\n",
       "        vertical-align: middle;\n",
       "    }\n",
       "\n",
       "    .dataframe tbody tr th {\n",
       "        vertical-align: top;\n",
       "    }\n",
       "\n",
       "    .dataframe thead th {\n",
       "        text-align: right;\n",
       "    }\n",
       "</style>\n",
       "<table border=\"1\" class=\"dataframe\">\n",
       "  <thead>\n",
       "    <tr style=\"text-align: right;\">\n",
       "      <th></th>\n",
       "      <th>auction_type_id</th>\n",
       "      <th>country</th>\n",
       "      <th>date</th>\n",
       "      <th>device_id</th>\n",
       "      <th>platform</th>\n",
       "      <th>ref_type_id</th>\n",
       "      <th>source_id</th>\n",
       "    </tr>\n",
       "  </thead>\n",
       "  <tbody>\n",
       "    <tr>\n",
       "      <th>0</th>\n",
       "      <td>NaN</td>\n",
       "      <td>6333597102633388268</td>\n",
       "      <td>2019-03-11 14:18:33.290763</td>\n",
       "      <td>6059599345986491085</td>\n",
       "      <td>1</td>\n",
       "      <td>1</td>\n",
       "      <td>0</td>\n",
       "    </tr>\n",
       "    <tr>\n",
       "      <th>1</th>\n",
       "      <td>NaN</td>\n",
       "      <td>6333597102633388268</td>\n",
       "      <td>2019-03-11 14:18:34.440157</td>\n",
       "      <td>1115994996230693426</td>\n",
       "      <td>1</td>\n",
       "      <td>1</td>\n",
       "      <td>0</td>\n",
       "    </tr>\n",
       "    <tr>\n",
       "      <th>2</th>\n",
       "      <td>NaN</td>\n",
       "      <td>6333597102633388268</td>\n",
       "      <td>2019-03-11 14:18:35.862360</td>\n",
       "      <td>7463856250762200923</td>\n",
       "      <td>1</td>\n",
       "      <td>1</td>\n",
       "      <td>0</td>\n",
       "    </tr>\n",
       "    <tr>\n",
       "      <th>3</th>\n",
       "      <td>NaN</td>\n",
       "      <td>6333597102633388268</td>\n",
       "      <td>2019-03-11 14:18:36.167163</td>\n",
       "      <td>7829815350267792040</td>\n",
       "      <td>1</td>\n",
       "      <td>1</td>\n",
       "      <td>0</td>\n",
       "    </tr>\n",
       "    <tr>\n",
       "      <th>4</th>\n",
       "      <td>NaN</td>\n",
       "      <td>6333597102633388268</td>\n",
       "      <td>2019-03-11 14:18:37.728590</td>\n",
       "      <td>1448534231953777480</td>\n",
       "      <td>1</td>\n",
       "      <td>1</td>\n",
       "      <td>0</td>\n",
       "    </tr>\n",
       "  </tbody>\n",
       "</table>\n",
       "</div>"
      ],
      "text/plain": [
       "   auction_type_id              country                        date  \\\n",
       "0              NaN  6333597102633388268  2019-03-11 14:18:33.290763   \n",
       "1              NaN  6333597102633388268  2019-03-11 14:18:34.440157   \n",
       "2              NaN  6333597102633388268  2019-03-11 14:18:35.862360   \n",
       "3              NaN  6333597102633388268  2019-03-11 14:18:36.167163   \n",
       "4              NaN  6333597102633388268  2019-03-11 14:18:37.728590   \n",
       "\n",
       "             device_id  platform  ref_type_id  source_id  \n",
       "0  6059599345986491085         1            1          0  \n",
       "1  1115994996230693426         1            1          0  \n",
       "2  7463856250762200923         1            1          0  \n",
       "3  7829815350267792040         1            1          0  \n",
       "4  1448534231953777480         1            1          0  "
      ]
     },
     "execution_count": 3,
     "metadata": {},
     "output_type": "execute_result"
    }
   ],
   "source": [
    "auctions.head()"
   ]
  },
  {
   "cell_type": "code",
   "execution_count": 4,
   "metadata": {},
   "outputs": [
    {
     "data": {
      "text/plain": [
       "0"
      ]
     },
     "execution_count": 4,
     "metadata": {},
     "output_type": "execute_result"
    }
   ],
   "source": [
    "auctions['auction_type_id'].count()"
   ]
  },
  {
   "cell_type": "code",
   "execution_count": 5,
   "metadata": {},
   "outputs": [],
   "source": [
    "del(auctions['auction_type_id'])"
   ]
  },
  {
   "cell_type": "code",
   "execution_count": 6,
   "metadata": {},
   "outputs": [
    {
     "name": "stdout",
     "output_type": "stream",
     "text": [
      "<class 'pandas.core.frame.DataFrame'>\n",
      "RangeIndex: 19571319 entries, 0 to 19571318\n",
      "Data columns (total 6 columns):\n",
      "country        int64\n",
      "date           object\n",
      "device_id      int64\n",
      "platform       int64\n",
      "ref_type_id    int64\n",
      "source_id      int64\n",
      "dtypes: int64(5), object(1)\n",
      "memory usage: 895.9+ MB\n"
     ]
    }
   ],
   "source": [
    "auctions.info()"
   ]
  },
  {
   "cell_type": "code",
   "execution_count": 7,
   "metadata": {},
   "outputs": [],
   "source": [
    "auctions['date'] = pd.to_datetime(auctions['date'])"
   ]
  },
  {
   "cell_type": "code",
   "execution_count": 8,
   "metadata": {},
   "outputs": [],
   "source": [
    "auctions['country'] = auctions['country'].astype('category')\n",
    "auctions['platform'] = auctions['platform'].astype('category')\n",
    "auctions['device_id'] = auctions['device_id'].astype('category')\n",
    "auctions['ref_type_id'] = auctions['ref_type_id'].astype('category')\n",
    "auctions['source_id'] = auctions['source_id'].astype('category')"
   ]
  },
  {
   "cell_type": "code",
   "execution_count": 9,
   "metadata": {},
   "outputs": [
    {
     "name": "stdout",
     "output_type": "stream",
     "text": [
      "<class 'pandas.core.frame.DataFrame'>\n",
      "RangeIndex: 19571319 entries, 0 to 19571318\n",
      "Data columns (total 6 columns):\n",
      "country        category\n",
      "date           datetime64[ns]\n",
      "device_id      category\n",
      "platform       category\n",
      "ref_type_id    category\n",
      "source_id      category\n",
      "dtypes: category(5), datetime64[ns](1)\n",
      "memory usage: 310.2 MB\n"
     ]
    }
   ],
   "source": [
    "auctions.info()"
   ]
  },
  {
   "cell_type": "code",
   "execution_count": 10,
   "metadata": {},
   "outputs": [
    {
     "data": {
      "text/html": [
       "<div>\n",
       "<style scoped>\n",
       "    .dataframe tbody tr th:only-of-type {\n",
       "        vertical-align: middle;\n",
       "    }\n",
       "\n",
       "    .dataframe tbody tr th {\n",
       "        vertical-align: top;\n",
       "    }\n",
       "\n",
       "    .dataframe thead th {\n",
       "        text-align: right;\n",
       "    }\n",
       "</style>\n",
       "<table border=\"1\" class=\"dataframe\">\n",
       "  <thead>\n",
       "    <tr style=\"text-align: right;\">\n",
       "      <th></th>\n",
       "      <th>advertiser_id</th>\n",
       "      <th>action_id</th>\n",
       "      <th>source_id</th>\n",
       "      <th>created</th>\n",
       "      <th>country_code</th>\n",
       "      <th>latitude</th>\n",
       "      <th>longitude</th>\n",
       "      <th>wifi_connection</th>\n",
       "      <th>carrier_id</th>\n",
       "      <th>trans_id</th>\n",
       "      <th>os_minor</th>\n",
       "      <th>agent_device</th>\n",
       "      <th>os_major</th>\n",
       "      <th>specs_brand</th>\n",
       "      <th>brand</th>\n",
       "      <th>timeToClick</th>\n",
       "      <th>touchX</th>\n",
       "      <th>touchY</th>\n",
       "      <th>ref_type</th>\n",
       "      <th>ref_hash</th>\n",
       "    </tr>\n",
       "  </thead>\n",
       "  <tbody>\n",
       "    <tr>\n",
       "      <th>0</th>\n",
       "      <td>2</td>\n",
       "      <td>NaN</td>\n",
       "      <td>4</td>\n",
       "      <td>2019-03-06T22:42:12.755Z</td>\n",
       "      <td>6333597102633388268</td>\n",
       "      <td>1.205689</td>\n",
       "      <td>1.070234</td>\n",
       "      <td>False</td>\n",
       "      <td>1.0</td>\n",
       "      <td>iGgClCM9exiHF4K31g94XmvHEBSLKIY</td>\n",
       "      <td>6.768137e+18</td>\n",
       "      <td>NaN</td>\n",
       "      <td>3.072849e+18</td>\n",
       "      <td>2733035977666442898</td>\n",
       "      <td>NaN</td>\n",
       "      <td>1.563</td>\n",
       "      <td>0.905</td>\n",
       "      <td>0.078</td>\n",
       "      <td>1891515180541284343</td>\n",
       "      <td>1904083516767779093</td>\n",
       "    </tr>\n",
       "    <tr>\n",
       "      <th>1</th>\n",
       "      <td>0</td>\n",
       "      <td>NaN</td>\n",
       "      <td>0</td>\n",
       "      <td>2019-03-08T10:24:30.641Z</td>\n",
       "      <td>6333597102633388268</td>\n",
       "      <td>1.218924</td>\n",
       "      <td>1.071209</td>\n",
       "      <td>False</td>\n",
       "      <td>4.0</td>\n",
       "      <td>MMHTOJ6qKAOeIH_Eywh1KIcCaxtO9oM</td>\n",
       "      <td>3.025219e+18</td>\n",
       "      <td>NaN</td>\n",
       "      <td>1.774085e+18</td>\n",
       "      <td>392184377613098015</td>\n",
       "      <td>NaN</td>\n",
       "      <td>NaN</td>\n",
       "      <td>NaN</td>\n",
       "      <td>NaN</td>\n",
       "      <td>1891515180541284343</td>\n",
       "      <td>3086509764961796666</td>\n",
       "    </tr>\n",
       "    <tr>\n",
       "      <th>2</th>\n",
       "      <td>0</td>\n",
       "      <td>NaN</td>\n",
       "      <td>0</td>\n",
       "      <td>2019-03-08T15:24:16.069Z</td>\n",
       "      <td>6333597102633388268</td>\n",
       "      <td>1.205689</td>\n",
       "      <td>1.070234</td>\n",
       "      <td>False</td>\n",
       "      <td>6.0</td>\n",
       "      <td>vIrEIdf9izUaWdAri6Ezk7T3nHFvNQU</td>\n",
       "      <td>5.975656e+18</td>\n",
       "      <td>NaN</td>\n",
       "      <td>3.072849e+18</td>\n",
       "      <td>392184377613098015</td>\n",
       "      <td>NaN</td>\n",
       "      <td>NaN</td>\n",
       "      <td>0.946</td>\n",
       "      <td>0.473</td>\n",
       "      <td>1891515180541284343</td>\n",
       "      <td>6958163894863846647</td>\n",
       "    </tr>\n",
       "    <tr>\n",
       "      <th>3</th>\n",
       "      <td>2</td>\n",
       "      <td>NaN</td>\n",
       "      <td>3</td>\n",
       "      <td>2019-03-06T03:08:51.543Z</td>\n",
       "      <td>6333597102633388268</td>\n",
       "      <td>1.205689</td>\n",
       "      <td>1.070234</td>\n",
       "      <td>False</td>\n",
       "      <td>45.0</td>\n",
       "      <td>YaKxxEAs2UmZhSpRfiCO9Zpa82B_AKM</td>\n",
       "      <td>6.768137e+18</td>\n",
       "      <td>NaN</td>\n",
       "      <td>3.072849e+18</td>\n",
       "      <td>2733035977666442898</td>\n",
       "      <td>NaN</td>\n",
       "      <td>19.013</td>\n",
       "      <td>0.035</td>\n",
       "      <td>0.431</td>\n",
       "      <td>1891515180541284343</td>\n",
       "      <td>4368617728156436525</td>\n",
       "    </tr>\n",
       "    <tr>\n",
       "      <th>4</th>\n",
       "      <td>2</td>\n",
       "      <td>NaN</td>\n",
       "      <td>3</td>\n",
       "      <td>2019-03-06T03:32:55.570Z</td>\n",
       "      <td>6333597102633388268</td>\n",
       "      <td>1.205689</td>\n",
       "      <td>1.070234</td>\n",
       "      <td>False</td>\n",
       "      <td>45.0</td>\n",
       "      <td>X5XTOcYQovkl6yadYdAD7xioVGU9jiY</td>\n",
       "      <td>6.768137e+18</td>\n",
       "      <td>NaN</td>\n",
       "      <td>3.072849e+18</td>\n",
       "      <td>2733035977666442898</td>\n",
       "      <td>NaN</td>\n",
       "      <td>28.110</td>\n",
       "      <td>0.054</td>\n",
       "      <td>0.423</td>\n",
       "      <td>1891515180541284343</td>\n",
       "      <td>4368617728156436525</td>\n",
       "    </tr>\n",
       "  </tbody>\n",
       "</table>\n",
       "</div>"
      ],
      "text/plain": [
       "   advertiser_id  action_id  source_id                   created  \\\n",
       "0              2        NaN          4  2019-03-06T22:42:12.755Z   \n",
       "1              0        NaN          0  2019-03-08T10:24:30.641Z   \n",
       "2              0        NaN          0  2019-03-08T15:24:16.069Z   \n",
       "3              2        NaN          3  2019-03-06T03:08:51.543Z   \n",
       "4              2        NaN          3  2019-03-06T03:32:55.570Z   \n",
       "\n",
       "          country_code  latitude  longitude  wifi_connection  carrier_id  \\\n",
       "0  6333597102633388268  1.205689   1.070234            False         1.0   \n",
       "1  6333597102633388268  1.218924   1.071209            False         4.0   \n",
       "2  6333597102633388268  1.205689   1.070234            False         6.0   \n",
       "3  6333597102633388268  1.205689   1.070234            False        45.0   \n",
       "4  6333597102633388268  1.205689   1.070234            False        45.0   \n",
       "\n",
       "                          trans_id      os_minor  agent_device      os_major  \\\n",
       "0  iGgClCM9exiHF4K31g94XmvHEBSLKIY  6.768137e+18           NaN  3.072849e+18   \n",
       "1  MMHTOJ6qKAOeIH_Eywh1KIcCaxtO9oM  3.025219e+18           NaN  1.774085e+18   \n",
       "2  vIrEIdf9izUaWdAri6Ezk7T3nHFvNQU  5.975656e+18           NaN  3.072849e+18   \n",
       "3  YaKxxEAs2UmZhSpRfiCO9Zpa82B_AKM  6.768137e+18           NaN  3.072849e+18   \n",
       "4  X5XTOcYQovkl6yadYdAD7xioVGU9jiY  6.768137e+18           NaN  3.072849e+18   \n",
       "\n",
       "           specs_brand  brand  timeToClick  touchX  touchY  \\\n",
       "0  2733035977666442898    NaN        1.563   0.905   0.078   \n",
       "1   392184377613098015    NaN          NaN     NaN     NaN   \n",
       "2   392184377613098015    NaN          NaN   0.946   0.473   \n",
       "3  2733035977666442898    NaN       19.013   0.035   0.431   \n",
       "4  2733035977666442898    NaN       28.110   0.054   0.423   \n",
       "\n",
       "              ref_type             ref_hash  \n",
       "0  1891515180541284343  1904083516767779093  \n",
       "1  1891515180541284343  3086509764961796666  \n",
       "2  1891515180541284343  6958163894863846647  \n",
       "3  1891515180541284343  4368617728156436525  \n",
       "4  1891515180541284343  4368617728156436525  "
      ]
     },
     "execution_count": 10,
     "metadata": {},
     "output_type": "execute_result"
    }
   ],
   "source": [
    "clicks.head()"
   ]
  },
  {
   "cell_type": "code",
   "execution_count": 14,
   "metadata": {},
   "outputs": [
    {
     "name": "stdout",
     "output_type": "stream",
     "text": [
      "0\n",
      "3243\n",
      "6235\n"
     ]
    }
   ],
   "source": [
    "print(clicks['action_id'].count())\n",
    "print(clicks['agent_device'].count())\n",
    "print(clicks['brand'].count())"
   ]
  },
  {
   "cell_type": "code",
   "execution_count": 15,
   "metadata": {},
   "outputs": [],
   "source": [
    "del(clicks['action_id'])"
   ]
  },
  {
   "cell_type": "code",
   "execution_count": 16,
   "metadata": {},
   "outputs": [],
   "source": [
    "clicks['created'] = pd.to_datetime(clicks['created'])"
   ]
  },
  {
   "cell_type": "code",
   "execution_count": 17,
   "metadata": {},
   "outputs": [
    {
     "data": {
      "text/plain": [
       "array([2733035977666442898,  392184377613098015, 8930605132947907029,\n",
       "       3855167788531275156, 5675295985273558497], dtype=int64)"
      ]
     },
     "execution_count": 17,
     "metadata": {},
     "output_type": "execute_result"
    }
   ],
   "source": [
    "clicks.specs_brand.unique()"
   ]
  },
  {
   "cell_type": "code",
   "execution_count": 20,
   "metadata": {},
   "outputs": [
    {
     "data": {
      "text/plain": [
       "array([1891515180541284343, 1494519392962156891, 5016171802147987303,\n",
       "       6323871695571587575], dtype=int64)"
      ]
     },
     "execution_count": 20,
     "metadata": {},
     "output_type": "execute_result"
    }
   ],
   "source": [
    "clicks.ref_type.unique()"
   ]
  },
  {
   "cell_type": "code",
   "execution_count": 26,
   "metadata": {},
   "outputs": [],
   "source": [
    "for col in ['advertiser_id', 'source_id', 'country_code', 'latitude', 'longitude', 'wifi_connection', 'carrier_id', 'os_minor', 'os_major', 'specs_brand', 'ref_type']:\n",
    "    clicks[col] = clicks[col].astype('category')"
   ]
  },
  {
   "cell_type": "code",
   "execution_count": 27,
   "metadata": {},
   "outputs": [
    {
     "name": "stdout",
     "output_type": "stream",
     "text": [
      "<class 'pandas.core.frame.DataFrame'>\n",
      "RangeIndex: 26351 entries, 0 to 26350\n",
      "Data columns (total 19 columns):\n",
      "advertiser_id      26351 non-null category\n",
      "source_id          26351 non-null category\n",
      "created            26351 non-null datetime64[ns]\n",
      "country_code       26351 non-null category\n",
      "latitude           26351 non-null category\n",
      "longitude          26351 non-null category\n",
      "wifi_connection    26351 non-null category\n",
      "carrier_id         26340 non-null category\n",
      "trans_id           26351 non-null object\n",
      "os_minor           26339 non-null category\n",
      "agent_device       3243 non-null float64\n",
      "os_major           26339 non-null category\n",
      "specs_brand        26351 non-null category\n",
      "brand              6235 non-null float64\n",
      "timeToClick        22977 non-null float64\n",
      "touchX             23011 non-null float64\n",
      "touchY             23011 non-null float64\n",
      "ref_type           26351 non-null category\n",
      "ref_hash           26351 non-null int64\n",
      "dtypes: category(11), datetime64[ns](1), float64(5), int64(1), object(1)\n",
      "memory usage: 1.9+ MB\n"
     ]
    }
   ],
   "source": [
    "clicks.info()"
   ]
  },
  {
   "cell_type": "code",
   "execution_count": null,
   "metadata": {},
   "outputs": [],
   "source": []
  }
 ],
 "metadata": {
  "kernelspec": {
   "display_name": "Python 3",
   "language": "python",
   "name": "python3"
  },
  "language_info": {
   "codemirror_mode": {
    "name": "ipython",
    "version": 3
   },
   "file_extension": ".py",
   "mimetype": "text/x-python",
   "name": "python",
   "nbconvert_exporter": "python",
   "pygments_lexer": "ipython3",
   "version": "3.7.1"
  }
 },
 "nbformat": 4,
 "nbformat_minor": 2
}
