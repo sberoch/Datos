{
 "cells": [
  {
   "cell_type": "code",
   "execution_count": 90,
   "metadata": {},
   "outputs": [],
   "source": [
    "import pandas as pd\n",
    "import numpy as np\n",
    "import matplotlib.pyplot as plt\n",
    "import seaborn as sns\n",
    "from pywaffle import Waffle  # pip install pywaffle\n",
    "\n",
    "%matplotlib inline"
   ]
  },
  {
   "cell_type": "code",
   "execution_count": 91,
   "metadata": {},
   "outputs": [],
   "source": [
    "installs = pd.read_csv('data/installs.csv.gzip', compression = 'gzip')"
   ]
  },
  {
   "cell_type": "markdown",
   "metadata": {},
   "source": [
    "## **Analisis inicial**"
   ]
  },
  {
   "cell_type": "code",
   "execution_count": 92,
   "metadata": {},
   "outputs": [
    {
     "data": {
      "text/html": [
       "<div>\n",
       "<style scoped>\n",
       "    .dataframe tbody tr th:only-of-type {\n",
       "        vertical-align: middle;\n",
       "    }\n",
       "\n",
       "    .dataframe tbody tr th {\n",
       "        vertical-align: top;\n",
       "    }\n",
       "\n",
       "    .dataframe thead th {\n",
       "        text-align: right;\n",
       "    }\n",
       "</style>\n",
       "<table border=\"1\" class=\"dataframe\">\n",
       "  <thead>\n",
       "    <tr style=\"text-align: right;\">\n",
       "      <th></th>\n",
       "      <th>created</th>\n",
       "      <th>application_id</th>\n",
       "      <th>ref_type</th>\n",
       "      <th>ref_hash</th>\n",
       "      <th>click_hash</th>\n",
       "      <th>attributed</th>\n",
       "      <th>implicit</th>\n",
       "      <th>device_countrycode</th>\n",
       "      <th>device_brand</th>\n",
       "      <th>device_model</th>\n",
       "      <th>session_user_agent</th>\n",
       "      <th>user_agent</th>\n",
       "      <th>event_uuid</th>\n",
       "      <th>kind</th>\n",
       "      <th>wifi</th>\n",
       "      <th>trans_id</th>\n",
       "      <th>ip_address</th>\n",
       "      <th>device_language</th>\n",
       "    </tr>\n",
       "  </thead>\n",
       "  <tbody>\n",
       "    <tr>\n",
       "      <th>0</th>\n",
       "      <td>2019-03-13 01:43:33.445</td>\n",
       "      <td>0</td>\n",
       "      <td>1891515180541284343</td>\n",
       "      <td>8464844987297247076</td>\n",
       "      <td>NaN</td>\n",
       "      <td>False</td>\n",
       "      <td>False</td>\n",
       "      <td>6333597102633388268</td>\n",
       "      <td>3.083059e+17</td>\n",
       "      <td>4.445252e+18</td>\n",
       "      <td>NaN</td>\n",
       "      <td>NaN</td>\n",
       "      <td>NaN</td>\n",
       "      <td>NaN</td>\n",
       "      <td>NaN</td>\n",
       "      <td>NaN</td>\n",
       "      <td>5529284367937637301</td>\n",
       "      <td>NaN</td>\n",
       "    </tr>\n",
       "    <tr>\n",
       "      <th>1</th>\n",
       "      <td>2019-03-13 04:58:35.078</td>\n",
       "      <td>0</td>\n",
       "      <td>1891515180541284343</td>\n",
       "      <td>3250564871270161533</td>\n",
       "      <td>NaN</td>\n",
       "      <td>False</td>\n",
       "      <td>False</td>\n",
       "      <td>6333597102633388268</td>\n",
       "      <td>3.083059e+17</td>\n",
       "      <td>4.445252e+18</td>\n",
       "      <td>NaN</td>\n",
       "      <td>NaN</td>\n",
       "      <td>NaN</td>\n",
       "      <td>NaN</td>\n",
       "      <td>NaN</td>\n",
       "      <td>NaN</td>\n",
       "      <td>6098022721363533304</td>\n",
       "      <td>NaN</td>\n",
       "    </tr>\n",
       "    <tr>\n",
       "      <th>2</th>\n",
       "      <td>2019-03-13 04:20:57.666</td>\n",
       "      <td>0</td>\n",
       "      <td>1891515180541284343</td>\n",
       "      <td>7953318831018100268</td>\n",
       "      <td>NaN</td>\n",
       "      <td>False</td>\n",
       "      <td>True</td>\n",
       "      <td>6333597102633388268</td>\n",
       "      <td>5.137992e+17</td>\n",
       "      <td>6.026543e+18</td>\n",
       "      <td>HasOffers Mobile AppTracking v1.0</td>\n",
       "      <td>NaN</td>\n",
       "      <td>0bfa9b4c-e07a-4522-b32d-138e3165ac98</td>\n",
       "      <td>Open</td>\n",
       "      <td>NaN</td>\n",
       "      <td>NaN</td>\n",
       "      <td>4636407223847323867</td>\n",
       "      <td>3.301378e+18</td>\n",
       "    </tr>\n",
       "    <tr>\n",
       "      <th>3</th>\n",
       "      <td>2019-03-13 04:20:57.698</td>\n",
       "      <td>0</td>\n",
       "      <td>1891515180541284343</td>\n",
       "      <td>7953318831018100268</td>\n",
       "      <td>NaN</td>\n",
       "      <td>False</td>\n",
       "      <td>False</td>\n",
       "      <td>6333597102633388268</td>\n",
       "      <td>5.137992e+17</td>\n",
       "      <td>6.026543e+18</td>\n",
       "      <td>NaN</td>\n",
       "      <td>NaN</td>\n",
       "      <td>NaN</td>\n",
       "      <td>NaN</td>\n",
       "      <td>NaN</td>\n",
       "      <td>NaN</td>\n",
       "      <td>4636407223847323867</td>\n",
       "      <td>NaN</td>\n",
       "    </tr>\n",
       "    <tr>\n",
       "      <th>4</th>\n",
       "      <td>2019-03-10 22:24:56.684</td>\n",
       "      <td>0</td>\n",
       "      <td>1891515180541284343</td>\n",
       "      <td>8355110941557237501</td>\n",
       "      <td>NaN</td>\n",
       "      <td>False</td>\n",
       "      <td>True</td>\n",
       "      <td>6333597102633388268</td>\n",
       "      <td>1.083369e+18</td>\n",
       "      <td>7.876612e+18</td>\n",
       "      <td>HasOffers Mobile AppTracking v1.0</td>\n",
       "      <td>NaN</td>\n",
       "      <td>8f235a8c-41bf-4399-b33d-c41577c949b0</td>\n",
       "      <td>Open</td>\n",
       "      <td>NaN</td>\n",
       "      <td>NaN</td>\n",
       "      <td>685400811232710215</td>\n",
       "      <td>3.301378e+18</td>\n",
       "    </tr>\n",
       "  </tbody>\n",
       "</table>\n",
       "</div>"
      ],
      "text/plain": [
       "                   created  application_id             ref_type  \\\n",
       "0  2019-03-13 01:43:33.445               0  1891515180541284343   \n",
       "1  2019-03-13 04:58:35.078               0  1891515180541284343   \n",
       "2  2019-03-13 04:20:57.666               0  1891515180541284343   \n",
       "3  2019-03-13 04:20:57.698               0  1891515180541284343   \n",
       "4  2019-03-10 22:24:56.684               0  1891515180541284343   \n",
       "\n",
       "              ref_hash  click_hash  attributed  implicit   device_countrycode  \\\n",
       "0  8464844987297247076         NaN       False     False  6333597102633388268   \n",
       "1  3250564871270161533         NaN       False     False  6333597102633388268   \n",
       "2  7953318831018100268         NaN       False      True  6333597102633388268   \n",
       "3  7953318831018100268         NaN       False     False  6333597102633388268   \n",
       "4  8355110941557237501         NaN       False      True  6333597102633388268   \n",
       "\n",
       "   device_brand  device_model                 session_user_agent user_agent  \\\n",
       "0  3.083059e+17  4.445252e+18                                NaN        NaN   \n",
       "1  3.083059e+17  4.445252e+18                                NaN        NaN   \n",
       "2  5.137992e+17  6.026543e+18  HasOffers Mobile AppTracking v1.0        NaN   \n",
       "3  5.137992e+17  6.026543e+18                                NaN        NaN   \n",
       "4  1.083369e+18  7.876612e+18  HasOffers Mobile AppTracking v1.0        NaN   \n",
       "\n",
       "                             event_uuid  kind wifi trans_id  \\\n",
       "0                                   NaN   NaN  NaN      NaN   \n",
       "1                                   NaN   NaN  NaN      NaN   \n",
       "2  0bfa9b4c-e07a-4522-b32d-138e3165ac98  Open  NaN      NaN   \n",
       "3                                   NaN   NaN  NaN      NaN   \n",
       "4  8f235a8c-41bf-4399-b33d-c41577c949b0  Open  NaN      NaN   \n",
       "\n",
       "            ip_address  device_language  \n",
       "0  5529284367937637301              NaN  \n",
       "1  6098022721363533304              NaN  \n",
       "2  4636407223847323867     3.301378e+18  \n",
       "3  4636407223847323867              NaN  \n",
       "4   685400811232710215     3.301378e+18  "
      ]
     },
     "execution_count": 92,
     "metadata": {},
     "output_type": "execute_result"
    }
   ],
   "source": [
    "installs.head()"
   ]
  },
  {
   "cell_type": "code",
   "execution_count": 93,
   "metadata": {},
   "outputs": [
    {
     "data": {
      "text/plain": [
       "3412"
      ]
     },
     "execution_count": 93,
     "metadata": {},
     "output_type": "execute_result"
    }
   ],
   "source": [
    "len(installs)"
   ]
  },
  {
   "cell_type": "code",
   "execution_count": 94,
   "metadata": {},
   "outputs": [
    {
     "data": {
      "text/plain": [
       "created                  0\n",
       "application_id           0\n",
       "ref_type                 0\n",
       "ref_hash                 0\n",
       "click_hash            3412\n",
       "attributed               0\n",
       "implicit                 0\n",
       "device_countrycode       0\n",
       "device_brand          2365\n",
       "device_model             1\n",
       "session_user_agent      48\n",
       "user_agent            1683\n",
       "event_uuid            2547\n",
       "kind                  2547\n",
       "wifi                  1683\n",
       "trans_id              3406\n",
       "ip_address               0\n",
       "device_language         34\n",
       "dtype: int64"
      ]
     },
     "execution_count": 94,
     "metadata": {},
     "output_type": "execute_result"
    }
   ],
   "source": [
    "installs.isnull().sum()\n",
    "# click_hash, device_brand, user_agent (1/2 nulls), event_uuid, kind, wifi (1/2 nulls), trans_id son casi todos Null #"
   ]
  },
  {
   "cell_type": "code",
   "execution_count": 95,
   "metadata": {},
   "outputs": [
    {
     "data": {
      "text/plain": [
       "False    3412\n",
       "Name: attributed, dtype: int64"
      ]
     },
     "execution_count": 95,
     "metadata": {},
     "output_type": "execute_result"
    }
   ],
   "source": [
    "installs['attributed'].value_counts()\n",
    "# Todos los valores son False, no aporta informacion relevante #"
   ]
  },
  {
   "cell_type": "markdown",
   "metadata": {},
   "source": [
    "## 1 - Cantitad de installs por tipo"
   ]
  },
  {
   "cell_type": "code",
   "execution_count": 96,
   "metadata": {},
   "outputs": [
    {
     "data": {
      "text/plain": [
       "array([nan, 'Open', 'open', 'registration', 'app_open',\n",
       "       'EVENT_LISTINGVIEW_FLIGHT', 'EVENT_Homepage', 'EVENT_OPEN_APP',\n",
       "       'af_app_opened', 'deeplink', 'EVENT_PROMO', 'EVENT_HOMEPAGE',\n",
       "       'af_list_view', 'install', 'journey first drop off',\n",
       "       'reattribution', 'journey reserved', 'journey drop off',\n",
       "       'account_summary_first_step', 'login_success',\n",
       "       'payment method add'], dtype=object)"
      ]
     },
     "execution_count": 96,
     "metadata": {},
     "output_type": "execute_result"
    }
   ],
   "source": [
    "installs.kind.unique()"
   ]
  },
  {
   "cell_type": "code",
   "execution_count": 97,
   "metadata": {},
   "outputs": [],
   "source": [
    "kinds = installs.groupby('kind').agg({'kind':'count'})"
   ]
  },
  {
   "cell_type": "code",
   "execution_count": 98,
   "metadata": {},
   "outputs": [],
   "source": [
    "kinds = kinds.rename(index=str, columns={\"kind\":\"kind_count\",\"index\":\"kind\"})\n",
    "kinds = kinds.sort_values('kind_count', ascending=False)"
   ]
  },
  {
   "cell_type": "markdown",
   "metadata": {},
   "source": [
    "Me quedo unicamente con los tipos de instalacion que sucedieron mas de 10 veces"
   ]
  },
  {
   "cell_type": "code",
   "execution_count": 99,
   "metadata": {},
   "outputs": [],
   "source": [
    "kinds = kinds.loc[(kinds['kind_count'] > 10), ['kind_count']]"
   ]
  },
  {
   "cell_type": "code",
   "execution_count": 100,
   "metadata": {},
   "outputs": [
    {
     "name": "stderr",
     "output_type": "stream",
     "text": [
      "/anaconda3/lib/python3.7/site-packages/matplotlib/figure.py:2366: UserWarning: This figure includes Axes that are not compatible with tight_layout, so results might be incorrect.\n",
      "  warnings.warn(\"This figure includes Axes that are not compatible \"\n"
     ]
    },
    {
     "data": {
      "image/png": "[encoded data removed]",
      "text/plain": [
       "<Waffle size 1008x576 with 1 Axes>"
      ]
     },
     "metadata": {
      "needs_background": "light"
     },
     "output_type": "display_data"
    }
   ],
   "source": [
    "fig = plt.figure(\n",
    "    FigureClass=Waffle, \n",
    "    rows=20,\n",
    "    figsize=(14, 8),\n",
    "    values=kinds.kind_count,\n",
    "    labels=list(kinds.index),\n",
    "    legend={'loc': 'upper left', 'bbox_to_anchor': (1.1, 1.02)}\n",
    ")"
   ]
  },
  {
   "cell_type": "markdown",
   "metadata": {},
   "source": [
    "## 2 - Cantidad de installs por device brand"
   ]
  },
  {
   "cell_type": "code",
   "execution_count": 101,
   "metadata": {},
   "outputs": [],
   "source": [
    "installs_graficable = installs.groupby('device_brand').agg({'device_brand':'count'})\n",
    "installs_graficable.columns= ['count_installs']"
   ]
  },
  {
   "cell_type": "code",
   "execution_count": 102,
   "metadata": {},
   "outputs": [],
   "source": [
    "installs_graficable = installs_graficable.sort_values(by=['count_installs'],ascending=False)\n",
    "installs_graficable = installs_graficable.head(10)\n",
    "installs_graficable['Alias'] = ['A','C','E','X','D','B','F','I','G','J']\n",
    "installs_graficable = installs_graficable.sort_values('Alias')"
   ]
  },
  {
   "cell_type": "markdown",
   "metadata": {},
   "source": [
    "### Los alias son los mismos que en events"
   ]
  },
  {
   "cell_type": "code",
   "execution_count": 103,
   "metadata": {},
   "outputs": [
    {
     "data": {
      "image/png": "[encoded data removed]",
      "text/plain": [
       "<Figure size 1080x720 with 1 Axes>"
      ]
     },
     "metadata": {
      "needs_background": "light"
     },
     "output_type": "display_data"
    }
   ],
   "source": [
    "grph2 = installs_graficable.plot.bar(grid = True, x='Alias',figsize = (15,10))"
   ]
  },
  {
   "cell_type": "markdown",
   "metadata": {},
   "source": [
    "### 3.083059e+17\tA\n",
    "### 3.812621e+18\tB\n",
    "### 2.208835e+18\tC\n",
    "### 2.987569e+18\tD\n",
    "### 2.523246e+18\tE\n",
    "### 5.137992e+17\tF\n",
    "### 3.228516e+18\tG\n",
    "### 6.538562e+18\tI\n",
    "### 1.083369e+18\tJ\n",
    "### 5.951325e+18\tX"
   ]
  },
  {
   "cell_type": "markdown",
   "metadata": {},
   "source": [
    "## 3 - Comparacion de events e installs por device brand"
   ]
  },
  {
   "cell_type": "code",
   "execution_count": 104,
   "metadata": {},
   "outputs": [],
   "source": [
    "events = pd.read_csv('data/events.csv.gzip', compression='gzip', low_memory = False)\n",
    "events_graficable = events.groupby('device_brand').agg({'device_brand':'count'})\n",
    "events_graficable.columns= ['cantidad_eventos']"
   ]
  },
  {
   "cell_type": "code",
   "execution_count": 105,
   "metadata": {},
   "outputs": [],
   "source": [
    "events_graficable = events_graficable.sort_values(by=['cantidad_eventos'],ascending=False)\n",
    "events_graficable = events_graficable.head(10)\n",
    "events_graficable['Alias'] = ['A','B','C','D','E','F','G','H','I','J']"
   ]
  },
  {
   "cell_type": "code",
   "execution_count": 106,
   "metadata": {},
   "outputs": [],
   "source": [
    "merged = events_graficable.merge(installs_graficable, on = 'device_brand', how = 'outer')"
   ]
  },
  {
   "cell_type": "code",
   "execution_count": 107,
   "metadata": {},
   "outputs": [],
   "source": [
    "merged = merged[['cantidad_eventos','count_installs','Alias_x']]\n",
    "merged.reset_index(inplace = True)"
   ]
  },
  {
   "cell_type": "code",
   "execution_count": 108,
   "metadata": {},
   "outputs": [],
   "source": [
    "merged.loc[10, 'Alias_x'] = 'X'"
   ]
  },
  {
   "cell_type": "code",
   "execution_count": 109,
   "metadata": {},
   "outputs": [
    {
     "data": {
      "text/html": [
       "<div>\n",
       "<style scoped>\n",
       "    .dataframe tbody tr th:only-of-type {\n",
       "        vertical-align: middle;\n",
       "    }\n",
       "\n",
       "    .dataframe tbody tr th {\n",
       "        vertical-align: top;\n",
       "    }\n",
       "\n",
       "    .dataframe thead th {\n",
       "        text-align: right;\n",
       "    }\n",
       "</style>\n",
       "<table border=\"1\" class=\"dataframe\">\n",
       "  <thead>\n",
       "    <tr style=\"text-align: right;\">\n",
       "      <th></th>\n",
       "      <th>device_brand</th>\n",
       "      <th>cantidad_eventos</th>\n",
       "      <th>count_installs</th>\n",
       "      <th>Alias_x</th>\n",
       "    </tr>\n",
       "  </thead>\n",
       "  <tbody>\n",
       "    <tr>\n",
       "      <th>0</th>\n",
       "      <td>3.083059e+17</td>\n",
       "      <td>579861.0</td>\n",
       "      <td>472.0</td>\n",
       "      <td>A</td>\n",
       "    </tr>\n",
       "    <tr>\n",
       "      <th>1</th>\n",
       "      <td>3.812621e+18</td>\n",
       "      <td>115538.0</td>\n",
       "      <td>37.0</td>\n",
       "      <td>B</td>\n",
       "    </tr>\n",
       "    <tr>\n",
       "      <th>2</th>\n",
       "      <td>2.208835e+18</td>\n",
       "      <td>113636.0</td>\n",
       "      <td>185.0</td>\n",
       "      <td>C</td>\n",
       "    </tr>\n",
       "    <tr>\n",
       "      <th>3</th>\n",
       "      <td>2.987569e+18</td>\n",
       "      <td>107472.0</td>\n",
       "      <td>40.0</td>\n",
       "      <td>D</td>\n",
       "    </tr>\n",
       "    <tr>\n",
       "      <th>4</th>\n",
       "      <td>2.523246e+18</td>\n",
       "      <td>94672.0</td>\n",
       "      <td>116.0</td>\n",
       "      <td>E</td>\n",
       "    </tr>\n",
       "    <tr>\n",
       "      <th>5</th>\n",
       "      <td>5.137992e+17</td>\n",
       "      <td>39432.0</td>\n",
       "      <td>34.0</td>\n",
       "      <td>F</td>\n",
       "    </tr>\n",
       "    <tr>\n",
       "      <th>6</th>\n",
       "      <td>3.228516e+18</td>\n",
       "      <td>15589.0</td>\n",
       "      <td>9.0</td>\n",
       "      <td>G</td>\n",
       "    </tr>\n",
       "    <tr>\n",
       "      <th>7</th>\n",
       "      <td>2.262848e+18</td>\n",
       "      <td>12325.0</td>\n",
       "      <td>NaN</td>\n",
       "      <td>H</td>\n",
       "    </tr>\n",
       "    <tr>\n",
       "      <th>8</th>\n",
       "      <td>6.538562e+18</td>\n",
       "      <td>11839.0</td>\n",
       "      <td>26.0</td>\n",
       "      <td>I</td>\n",
       "    </tr>\n",
       "    <tr>\n",
       "      <th>9</th>\n",
       "      <td>1.083369e+18</td>\n",
       "      <td>9667.0</td>\n",
       "      <td>9.0</td>\n",
       "      <td>J</td>\n",
       "    </tr>\n",
       "    <tr>\n",
       "      <th>10</th>\n",
       "      <td>5.951325e+18</td>\n",
       "      <td>NaN</td>\n",
       "      <td>72.0</td>\n",
       "      <td>X</td>\n",
       "    </tr>\n",
       "  </tbody>\n",
       "</table>\n",
       "</div>"
      ],
      "text/plain": [
       "    device_brand  cantidad_eventos  count_installs Alias_x\n",
       "0   3.083059e+17          579861.0           472.0       A\n",
       "1   3.812621e+18          115538.0            37.0       B\n",
       "2   2.208835e+18          113636.0           185.0       C\n",
       "3   2.987569e+18          107472.0            40.0       D\n",
       "4   2.523246e+18           94672.0           116.0       E\n",
       "5   5.137992e+17           39432.0            34.0       F\n",
       "6   3.228516e+18           15589.0             9.0       G\n",
       "7   2.262848e+18           12325.0             NaN       H\n",
       "8   6.538562e+18           11839.0            26.0       I\n",
       "9   1.083369e+18            9667.0             9.0       J\n",
       "10  5.951325e+18               NaN            72.0       X"
      ]
     },
     "execution_count": 109,
     "metadata": {},
     "output_type": "execute_result"
    }
   ],
   "source": [
    "merged"
   ]
  },
  {
   "cell_type": "code",
   "execution_count": 110,
   "metadata": {},
   "outputs": [
    {
     "data": {
      "image/png": "[encoded data removed]",
      "text/plain": [
       "<Figure size 1080x720 with 1 Axes>"
      ]
     },
     "metadata": {
      "needs_background": "light"
     },
     "output_type": "display_data"
    }
   ],
   "source": [
    "grph3 = merged.loc[:,['cantidad_eventos','count_installs', 'Alias_x']].plot.bar(grid = True, x='Alias_x',figsize = (15,10))\n",
    "grph3.set_yscale('log')\n",
    "grph3.set_xlabel('Alias');"
   ]
  },
  {
   "cell_type": "markdown",
   "metadata": {},
   "source": [
    "Se puede ver que la marca A es la que mas interacciones totales tuvo. El resto de los installs son bastante parejos por lo que la informacion acerca de los events sigue siendo mas relevante para cada caso."
   ]
  }
 ],
 "metadata": {
  "kernelspec": {
   "display_name": "Python 3",
   "language": "python",
   "name": "python3"
  },
  "language_info": {
   "codemirror_mode": {
    "name": "ipython",
    "version": 3
   },
   "file_extension": ".py",
   "mimetype": "text/x-python",
   "name": "python",
   "nbconvert_exporter": "python",
   "pygments_lexer": "ipython3",
   "version": "3.7.1"
  }
 },
 "nbformat": 4,
 "nbformat_minor": 2
}
