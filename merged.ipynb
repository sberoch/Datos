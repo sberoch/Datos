{
 "cells": [
  {
   "cell_type": "code",
   "execution_count": 4,
   "metadata": {},
   "outputs": [],
   "source": [
    "import pandas as pd\n",
    "import numpy as np\n",
    "import matplotlib.pyplot as plt\n",
    "import seaborn as sns\n",
    "from pywaffle import Waffle  # pip install pywaffle\n",
    "\n",
    "%matplotlib inline"
   ]
  },
  {
   "cell_type": "code",
   "execution_count": 5,
   "metadata": {},
   "outputs": [],
   "source": [
    "dtypes_auc = { \"auction_type_id\": np.float16, \"country\": \"category\", \"platform\": \"category\", \"ref_type_id\": \"category\", \n",
    "               \"source_id\": \"category\", \"device_id\": \"category\"}"
   ]
  },
  {
   "cell_type": "code",
   "execution_count": 6,
   "metadata": {},
   "outputs": [],
   "source": [
    "dtypes_clk = { \"advertiser_id\": np.int8, \"action_id\": np.float16, \"source_id\": np.int8, \"country_code\": \"category\", \n",
    "               \"latitude\": np.float16, \"longitude\": np.float16, \"wifi_connection\": \"category\", \"carrier_id\": np.float16,\n",
    "               \"trans_id\": \"object\", \"os_major\":np.float32, \"brand\": np.float16, \"touchX\": np.float16,\n",
    "               \"touchY\": np.float16  }"
   ]
  },
  {
   "cell_type": "code",
   "execution_count": 7,
   "metadata": {},
   "outputs": [],
   "source": [
    "auctions = pd.read_csv('data/auctions.csv.gzip', compression = 'gzip', low_memory = False, dtype=dtypes_auc)\n",
    "installs = pd.read_csv('data/installs.csv.gzip', compression = 'gzip')\n",
    "events = pd.read_csv('data/events.csv.gzip', compression='gzip', low_memory = False)\n",
    "clicks = pd.read_csv('data/clicks.csv.gzip', compression = 'gzip', low_memory = False, dtype=dtypes_clk)"
   ]
  },
  {
   "cell_type": "markdown",
   "metadata": {},
   "source": [
    "### Se van a eliminar algunas columnas que no continen datos relevantes"
   ]
  },
  {
   "cell_type": "code",
   "execution_count": 5,
   "metadata": {},
   "outputs": [],
   "source": [
    "auct = auctions[['country', 'date', 'device_id', 'platform', 'ref_type_id', 'source_id']]\n",
    "inst = installs[['created', 'application_id', 'ref_type', 'ref_hash', 'implicit', 'device_model', 'session_user_agent', 'user_agent', \\\n",
    "                 'wifi', 'ip_address', 'device_language','device_countrycode']]\n",
    "evnt = events.drop(['trans_id', 'device_countrycode'], axis = 'columns')\n",
    "clk = clicks.drop(['action_id', 'agent_device', 'brand'], axis = 'columns')"
   ]
  },
  {
   "cell_type": "markdown",
   "metadata": {},
   "source": [
    "installs -> user_agent y wifi son 1/2 null\n",
    "events -> device_os_version, device_brand, device_city, user_agent, carrier, device_os, wifi y connection_type tienen muchos null"
   ]
  },
  {
   "cell_type": "code",
   "execution_count": 6,
   "metadata": {},
   "outputs": [
    {
     "data": {
      "text/html": [
       "<div>\n",
       "<style scoped>\n",
       "    .dataframe tbody tr th:only-of-type {\n",
       "        vertical-align: middle;\n",
       "    }\n",
       "\n",
       "    .dataframe tbody tr th {\n",
       "        vertical-align: top;\n",
       "    }\n",
       "\n",
       "    .dataframe thead th {\n",
       "        text-align: right;\n",
       "    }\n",
       "</style>\n",
       "<table border=\"1\" class=\"dataframe\">\n",
       "  <thead>\n",
       "    <tr style=\"text-align: right;\">\n",
       "      <th></th>\n",
       "      <th>0</th>\n",
       "    </tr>\n",
       "  </thead>\n",
       "  <tbody>\n",
       "    <tr>\n",
       "      <th>country</th>\n",
       "      <td>6333597102633388268</td>\n",
       "    </tr>\n",
       "    <tr>\n",
       "      <th>date</th>\n",
       "      <td>2019-03-11 14:18:33.290763</td>\n",
       "    </tr>\n",
       "    <tr>\n",
       "      <th>device_id</th>\n",
       "      <td>6059599345986491085</td>\n",
       "    </tr>\n",
       "    <tr>\n",
       "      <th>platform</th>\n",
       "      <td>1</td>\n",
       "    </tr>\n",
       "    <tr>\n",
       "      <th>ref_type_id</th>\n",
       "      <td>1</td>\n",
       "    </tr>\n",
       "    <tr>\n",
       "      <th>source_id</th>\n",
       "      <td>0</td>\n",
       "    </tr>\n",
       "  </tbody>\n",
       "</table>\n",
       "</div>"
      ],
      "text/plain": [
       "                                      0\n",
       "country             6333597102633388268\n",
       "date         2019-03-11 14:18:33.290763\n",
       "device_id           6059599345986491085\n",
       "platform                              1\n",
       "ref_type_id                           1\n",
       "source_id                             0"
      ]
     },
     "execution_count": 6,
     "metadata": {},
     "output_type": "execute_result"
    }
   ],
   "source": [
    "auct.head(1).T"
   ]
  },
  {
   "cell_type": "code",
   "execution_count": 7,
   "metadata": {},
   "outputs": [
    {
     "data": {
      "text/html": [
       "<div>\n",
       "<style scoped>\n",
       "    .dataframe tbody tr th:only-of-type {\n",
       "        vertical-align: middle;\n",
       "    }\n",
       "\n",
       "    .dataframe tbody tr th {\n",
       "        vertical-align: top;\n",
       "    }\n",
       "\n",
       "    .dataframe thead th {\n",
       "        text-align: right;\n",
       "    }\n",
       "</style>\n",
       "<table border=\"1\" class=\"dataframe\">\n",
       "  <thead>\n",
       "    <tr style=\"text-align: right;\">\n",
       "      <th></th>\n",
       "      <th>0</th>\n",
       "    </tr>\n",
       "  </thead>\n",
       "  <tbody>\n",
       "    <tr>\n",
       "      <th>created</th>\n",
       "      <td>2019-03-13 01:43:33.445</td>\n",
       "    </tr>\n",
       "    <tr>\n",
       "      <th>application_id</th>\n",
       "      <td>0</td>\n",
       "    </tr>\n",
       "    <tr>\n",
       "      <th>ref_type</th>\n",
       "      <td>1891515180541284343</td>\n",
       "    </tr>\n",
       "    <tr>\n",
       "      <th>ref_hash</th>\n",
       "      <td>8464844987297247076</td>\n",
       "    </tr>\n",
       "    <tr>\n",
       "      <th>implicit</th>\n",
       "      <td>False</td>\n",
       "    </tr>\n",
       "    <tr>\n",
       "      <th>device_model</th>\n",
       "      <td>4.44525e+18</td>\n",
       "    </tr>\n",
       "    <tr>\n",
       "      <th>session_user_agent</th>\n",
       "      <td>NaN</td>\n",
       "    </tr>\n",
       "    <tr>\n",
       "      <th>user_agent</th>\n",
       "      <td>NaN</td>\n",
       "    </tr>\n",
       "    <tr>\n",
       "      <th>wifi</th>\n",
       "      <td>NaN</td>\n",
       "    </tr>\n",
       "    <tr>\n",
       "      <th>ip_address</th>\n",
       "      <td>5529284367937637301</td>\n",
       "    </tr>\n",
       "    <tr>\n",
       "      <th>device_language</th>\n",
       "      <td>NaN</td>\n",
       "    </tr>\n",
       "    <tr>\n",
       "      <th>device_countrycode</th>\n",
       "      <td>6333597102633388268</td>\n",
       "    </tr>\n",
       "  </tbody>\n",
       "</table>\n",
       "</div>"
      ],
      "text/plain": [
       "                                          0\n",
       "created             2019-03-13 01:43:33.445\n",
       "application_id                            0\n",
       "ref_type                1891515180541284343\n",
       "ref_hash                8464844987297247076\n",
       "implicit                              False\n",
       "device_model                    4.44525e+18\n",
       "session_user_agent                      NaN\n",
       "user_agent                              NaN\n",
       "wifi                                    NaN\n",
       "ip_address              5529284367937637301\n",
       "device_language                         NaN\n",
       "device_countrycode      6333597102633388268"
      ]
     },
     "execution_count": 7,
     "metadata": {},
     "output_type": "execute_result"
    }
   ],
   "source": [
    "inst.head(1).T"
   ]
  },
  {
   "cell_type": "code",
   "execution_count": 8,
   "metadata": {},
   "outputs": [
    {
     "data": {
      "text/html": [
       "<div>\n",
       "<style scoped>\n",
       "    .dataframe tbody tr th:only-of-type {\n",
       "        vertical-align: middle;\n",
       "    }\n",
       "\n",
       "    .dataframe tbody tr th {\n",
       "        vertical-align: top;\n",
       "    }\n",
       "\n",
       "    .dataframe thead th {\n",
       "        text-align: right;\n",
       "    }\n",
       "</style>\n",
       "<table border=\"1\" class=\"dataframe\">\n",
       "  <thead>\n",
       "    <tr style=\"text-align: right;\">\n",
       "      <th></th>\n",
       "      <th>0</th>\n",
       "    </tr>\n",
       "  </thead>\n",
       "  <tbody>\n",
       "    <tr>\n",
       "      <th>date</th>\n",
       "      <td>2019-03-05 00:09:36.966</td>\n",
       "    </tr>\n",
       "    <tr>\n",
       "      <th>event_id</th>\n",
       "      <td>0</td>\n",
       "    </tr>\n",
       "    <tr>\n",
       "      <th>ref_type</th>\n",
       "      <td>1891515180541284343</td>\n",
       "    </tr>\n",
       "    <tr>\n",
       "      <th>ref_hash</th>\n",
       "      <td>2688759737656491380</td>\n",
       "    </tr>\n",
       "    <tr>\n",
       "      <th>application_id</th>\n",
       "      <td>38</td>\n",
       "    </tr>\n",
       "    <tr>\n",
       "      <th>attributed</th>\n",
       "      <td>False</td>\n",
       "    </tr>\n",
       "    <tr>\n",
       "      <th>device_os_version</th>\n",
       "      <td>5.9087e+17</td>\n",
       "    </tr>\n",
       "    <tr>\n",
       "      <th>device_brand</th>\n",
       "      <td>NaN</td>\n",
       "    </tr>\n",
       "    <tr>\n",
       "      <th>device_model</th>\n",
       "      <td>5.99012e+18</td>\n",
       "    </tr>\n",
       "    <tr>\n",
       "      <th>device_city</th>\n",
       "      <td>3.25822e+18</td>\n",
       "    </tr>\n",
       "    <tr>\n",
       "      <th>session_user_agent</th>\n",
       "      <td>7.16432e+18</td>\n",
       "    </tr>\n",
       "    <tr>\n",
       "      <th>user_agent</th>\n",
       "      <td>NaN</td>\n",
       "    </tr>\n",
       "    <tr>\n",
       "      <th>event_uuid</th>\n",
       "      <td>a9c0b263-acb2-4577-92c5-cbde5d7a5db1</td>\n",
       "    </tr>\n",
       "    <tr>\n",
       "      <th>carrier</th>\n",
       "      <td>2.24816e+17</td>\n",
       "    </tr>\n",
       "    <tr>\n",
       "      <th>kind</th>\n",
       "      <td>5.51662e+18</td>\n",
       "    </tr>\n",
       "    <tr>\n",
       "      <th>device_os</th>\n",
       "      <td>7.53167e+18</td>\n",
       "    </tr>\n",
       "    <tr>\n",
       "      <th>wifi</th>\n",
       "      <td>NaN</td>\n",
       "    </tr>\n",
       "    <tr>\n",
       "      <th>connection_type</th>\n",
       "      <td>Cable/DSL</td>\n",
       "    </tr>\n",
       "    <tr>\n",
       "      <th>ip_address</th>\n",
       "      <td>7858558567428669000</td>\n",
       "    </tr>\n",
       "    <tr>\n",
       "      <th>device_language</th>\n",
       "      <td>4.07706e+17</td>\n",
       "    </tr>\n",
       "  </tbody>\n",
       "</table>\n",
       "</div>"
      ],
      "text/plain": [
       "                                                       0\n",
       "date                             2019-03-05 00:09:36.966\n",
       "event_id                                               0\n",
       "ref_type                             1891515180541284343\n",
       "ref_hash                             2688759737656491380\n",
       "application_id                                        38\n",
       "attributed                                         False\n",
       "device_os_version                             5.9087e+17\n",
       "device_brand                                         NaN\n",
       "device_model                                 5.99012e+18\n",
       "device_city                                  3.25822e+18\n",
       "session_user_agent                           7.16432e+18\n",
       "user_agent                                           NaN\n",
       "event_uuid          a9c0b263-acb2-4577-92c5-cbde5d7a5db1\n",
       "carrier                                      2.24816e+17\n",
       "kind                                         5.51662e+18\n",
       "device_os                                    7.53167e+18\n",
       "wifi                                                 NaN\n",
       "connection_type                                Cable/DSL\n",
       "ip_address                           7858558567428669000\n",
       "device_language                              4.07706e+17"
      ]
     },
     "execution_count": 8,
     "metadata": {},
     "output_type": "execute_result"
    }
   ],
   "source": [
    "evnt.head(1).T"
   ]
  },
  {
   "cell_type": "code",
   "execution_count": 9,
   "metadata": {},
   "outputs": [
    {
     "data": {
      "text/html": [
       "<div>\n",
       "<style scoped>\n",
       "    .dataframe tbody tr th:only-of-type {\n",
       "        vertical-align: middle;\n",
       "    }\n",
       "\n",
       "    .dataframe tbody tr th {\n",
       "        vertical-align: top;\n",
       "    }\n",
       "\n",
       "    .dataframe thead th {\n",
       "        text-align: right;\n",
       "    }\n",
       "</style>\n",
       "<table border=\"1\" class=\"dataframe\">\n",
       "  <thead>\n",
       "    <tr style=\"text-align: right;\">\n",
       "      <th></th>\n",
       "      <th>0</th>\n",
       "    </tr>\n",
       "  </thead>\n",
       "  <tbody>\n",
       "    <tr>\n",
       "      <th>advertiser_id</th>\n",
       "      <td>2</td>\n",
       "    </tr>\n",
       "    <tr>\n",
       "      <th>source_id</th>\n",
       "      <td>4</td>\n",
       "    </tr>\n",
       "    <tr>\n",
       "      <th>created</th>\n",
       "      <td>2019-03-06T22:42:12.755Z</td>\n",
       "    </tr>\n",
       "    <tr>\n",
       "      <th>country_code</th>\n",
       "      <td>6333597102633388268</td>\n",
       "    </tr>\n",
       "    <tr>\n",
       "      <th>latitude</th>\n",
       "      <td>1.20605</td>\n",
       "    </tr>\n",
       "    <tr>\n",
       "      <th>longitude</th>\n",
       "      <td>1.07031</td>\n",
       "    </tr>\n",
       "    <tr>\n",
       "      <th>wifi_connection</th>\n",
       "      <td>False</td>\n",
       "    </tr>\n",
       "    <tr>\n",
       "      <th>carrier_id</th>\n",
       "      <td>1</td>\n",
       "    </tr>\n",
       "    <tr>\n",
       "      <th>trans_id</th>\n",
       "      <td>iGgClCM9exiHF4K31g94XmvHEBSLKIY</td>\n",
       "    </tr>\n",
       "    <tr>\n",
       "      <th>os_minor</th>\n",
       "      <td>6.76814e+18</td>\n",
       "    </tr>\n",
       "    <tr>\n",
       "      <th>os_major</th>\n",
       "      <td>3.07285e+18</td>\n",
       "    </tr>\n",
       "    <tr>\n",
       "      <th>specs_brand</th>\n",
       "      <td>2733035977666442898</td>\n",
       "    </tr>\n",
       "    <tr>\n",
       "      <th>timeToClick</th>\n",
       "      <td>1.563</td>\n",
       "    </tr>\n",
       "    <tr>\n",
       "      <th>touchX</th>\n",
       "      <td>0.904785</td>\n",
       "    </tr>\n",
       "    <tr>\n",
       "      <th>touchY</th>\n",
       "      <td>0.0780029</td>\n",
       "    </tr>\n",
       "    <tr>\n",
       "      <th>ref_type</th>\n",
       "      <td>1891515180541284343</td>\n",
       "    </tr>\n",
       "    <tr>\n",
       "      <th>ref_hash</th>\n",
       "      <td>1904083516767779093</td>\n",
       "    </tr>\n",
       "  </tbody>\n",
       "</table>\n",
       "</div>"
      ],
      "text/plain": [
       "                                               0\n",
       "advertiser_id                                  2\n",
       "source_id                                      4\n",
       "created                 2019-03-06T22:42:12.755Z\n",
       "country_code                 6333597102633388268\n",
       "latitude                                 1.20605\n",
       "longitude                                1.07031\n",
       "wifi_connection                            False\n",
       "carrier_id                                     1\n",
       "trans_id         iGgClCM9exiHF4K31g94XmvHEBSLKIY\n",
       "os_minor                             6.76814e+18\n",
       "os_major                             3.07285e+18\n",
       "specs_brand                  2733035977666442898\n",
       "timeToClick                                1.563\n",
       "touchX                                  0.904785\n",
       "touchY                                 0.0780029\n",
       "ref_type                     1891515180541284343\n",
       "ref_hash                     1904083516767779093"
      ]
     },
     "execution_count": 9,
     "metadata": {},
     "output_type": "execute_result"
    }
   ],
   "source": [
    "clk.head(1).T"
   ]
  },
  {
   "cell_type": "code",
   "execution_count": 8,
   "metadata": {},
   "outputs": [],
   "source": [
    "events['date'] = pd.to_datetime(events['date'])\n",
    "installs['created'] = pd.to_datetime(installs['created'])\n",
    "auctions['date'] = pd.to_datetime(auctions['date'])\n",
    "clicks['created'] = pd.to_datetime(clicks['created'])"
   ]
  },
  {
   "cell_type": "code",
   "execution_count": 11,
   "metadata": {},
   "outputs": [],
   "source": [
    "events['hour'] = events['date'].dt.hour\n",
    "installs['hour'] = installs['created'].dt.hour\n",
    "auctions['hour'] = auctions['date'].dt.hour\n",
    "clicks['hour'] = clicks['created'].dt.hour"
   ]
  },
  {
   "cell_type": "code",
   "execution_count": 10,
   "metadata": {},
   "outputs": [],
   "source": [
    "events['day'] = events['date'].dt.day\n",
    "installs['day'] = installs['created'].dt.day\n",
    "auctions['day'] = auctions['date'].dt.day\n",
    "clicks['day'] = clicks['created'].dt.day"
   ]
  },
  {
   "cell_type": "code",
   "execution_count": 9,
   "metadata": {},
   "outputs": [],
   "source": [
    "events['day_of_week'] = events['date'].dt.dayofweek\n",
    "installs['day_of_week'] = installs['created'].dt.dayofweek\n",
    "auctions['day_of_week'] = auctions['date'].dt.dayofweek\n",
    "clicks['day_of_week'] = clicks['created'].dt.dayofweek"
   ]
  },
  {
   "cell_type": "markdown",
   "metadata": {},
   "source": [
    "## 1 - Comparacion events, installs, clicks y auctions por hora"
   ]
  },
  {
   "cell_type": "code",
   "execution_count": 12,
   "metadata": {},
   "outputs": [],
   "source": [
    "evnt_hora = events.groupby('hour').agg({'hour':'count'})"
   ]
  },
  {
   "cell_type": "code",
   "execution_count": 13,
   "metadata": {},
   "outputs": [],
   "source": [
    "evnt_hora.columns = ['count_events']"
   ]
  },
  {
   "cell_type": "code",
   "execution_count": 14,
   "metadata": {},
   "outputs": [],
   "source": [
    "inst_hora = installs.groupby('hour').agg({'hour':'count'})"
   ]
  },
  {
   "cell_type": "code",
   "execution_count": 15,
   "metadata": {},
   "outputs": [],
   "source": [
    "inst_hora.columns = ['count_installs']"
   ]
  },
  {
   "cell_type": "code",
   "execution_count": 16,
   "metadata": {},
   "outputs": [],
   "source": [
    "clk_hora = clicks.groupby('hour').agg({'hour':'count'})"
   ]
  },
  {
   "cell_type": "code",
   "execution_count": 17,
   "metadata": {},
   "outputs": [],
   "source": [
    "clk_hora.columns = ['count_clicks']"
   ]
  },
  {
   "cell_type": "code",
   "execution_count": 18,
   "metadata": {},
   "outputs": [],
   "source": [
    "auct_hora = auctions.groupby('hour').agg({'hour':'count'})"
   ]
  },
  {
   "cell_type": "code",
   "execution_count": 19,
   "metadata": {},
   "outputs": [],
   "source": [
    "auct_hora.columns = ['count_auctions']"
   ]
  },
  {
   "cell_type": "code",
   "execution_count": 20,
   "metadata": {},
   "outputs": [],
   "source": [
    "merged1 = evnt_hora.join(inst_hora, on = 'hour')"
   ]
  },
  {
   "cell_type": "code",
   "execution_count": 21,
   "metadata": {},
   "outputs": [],
   "source": [
    "merged1 = merged1.join(clk_hora, on = 'hour')"
   ]
  },
  {
   "cell_type": "code",
   "execution_count": 22,
   "metadata": {},
   "outputs": [],
   "source": [
    "merged1 = merged1.join(auct_hora, on = 'hour')"
   ]
  },
  {
   "cell_type": "code",
   "execution_count": 23,
   "metadata": {},
   "outputs": [
    {
     "data": {
      "image/png": "[encoded data removed]",
      "text/plain": [
       "<Figure size 1224x792 with 1 Axes>"
      ]
     },
     "metadata": {
      "needs_background": "light"
     },
     "output_type": "display_data"
    }
   ],
   "source": [
    "grph1 = merged1.plot.barh(figsize = (17,11), rot = 0, title = 'Comparacion por hora')\n",
    "grph1.set_ylabel('Horas')\n",
    "grph1.set_xlabel('Cantidad ocurrencias')\n",
    "grph1.set_xscale('log')\n",
    "grph1.legend([\"Events\", \"Installs\", \"Clicks\", \"Auctions\"]);"
   ]
  },
  {
   "cell_type": "code",
   "execution_count": 24,
   "metadata": {},
   "outputs": [],
   "source": [
    "merged2 = merged1.loc[[4,5,6,7,8,9,10,11]]"
   ]
  },
  {
   "cell_type": "code",
   "execution_count": 61,
   "metadata": {},
   "outputs": [
    {
     "data": {
      "image/png": "[encoded data removed]",
      "text/plain": [
       "<Figure size 1080x576 with 1 Axes>"
      ]
     },
     "metadata": {
      "needs_background": "light"
     },
     "output_type": "display_data"
    }
   ],
   "source": [
    "grph2 = merged2.plot.bar(figsize = (15,8), rot = 0, title = 'Comparacion por hora (menos populares)', grid = True)\n",
    "grph2.set_ylabel('Cantidad ocurrencias')\n",
    "grph2.set_xlabel('Horas')\n",
    "grph2.set_yscale('log')\n",
    "grph2.legend([\"Events\", \"Installs\", \"Clicks\", \"Auctions\"]);"
   ]
  },
  {
   "cell_type": "code",
   "execution_count": 62,
   "metadata": {},
   "outputs": [
    {
     "data": {
      "image/png": "[encoded data removed]",
      "text/plain": [
       "<Figure size 1080x576 with 2 Axes>"
      ]
     },
     "metadata": {
      "needs_background": "light"
     },
     "output_type": "display_data"
    }
   ],
   "source": [
    "fig, ax = plt.subplots()\n",
    "ax2 = ax.twiny()\n",
    "merged2.plot(kind='bar', ax=ax, figsize = (15,8), rot = 0, title = 'Comparacion por hora (menos populares)', grid =True)\n",
    "merged2.plot(kind='line',ax=ax2,linewidth = 3, style = '--', legend = False)\n",
    "ax2.xaxis.get_major_formatter().set_useOffset(False)\n",
    "ax2.set_xticklabels([])\n",
    "ax2.set_xlabel('')\n",
    "ax.set_yscale('log')\n",
    "ax.set_xlabel('Horas')\n",
    "ax.set_ylabel('Cantidad de ocurrencias')\n",
    "ax.legend([\"Events\", \"Installs\", \"Clicks\", \"Auctions\"])\n",
    "plt.show()"
   ]
  },
  {
   "cell_type": "markdown",
   "metadata": {},
   "source": [
    "## 2. Relacion click-install"
   ]
  },
  {
   "cell_type": "markdown",
   "metadata": {},
   "source": [
    "#### Pregunta: ¿De los usuarios que hicieron click, cuantos instalaron la aplicacion?"
   ]
  },
  {
   "cell_type": "code",
   "execution_count": 27,
   "metadata": {},
   "outputs": [],
   "source": [
    "#installs = pd.read_csv('data/installs.csv.gzip', compression = 'gzip')\n",
    "#clicks = pd.read_csv('data/clicks.csv.gzip', compression = 'gzip', low_memory = False, dtype=dtypes_clk)"
   ]
  },
  {
   "cell_type": "code",
   "execution_count": 28,
   "metadata": {},
   "outputs": [],
   "source": [
    "#inst = installs[['created', 'application_id', 'ref_type', 'ref_hash', 'implicit', 'device_model', 'session_user_agent', 'user_agent', \\\n",
    "#                 'wifi', 'ip_address', 'device_language']]\n",
    "#clk = clicks.drop(['action_id', 'agent_device', 'brand'], axis = 'columns')\n",
    "\n",
    "#Use esto para no volver a importar todo"
   ]
  },
  {
   "cell_type": "code",
   "execution_count": 29,
   "metadata": {},
   "outputs": [],
   "source": [
    "clkcount = clk.groupby('ref_hash').agg({'ref_hash' : 'count'})"
   ]
  },
  {
   "cell_type": "code",
   "execution_count": 30,
   "metadata": {},
   "outputs": [
    {
     "data": {
      "text/plain": [
       "17119"
      ]
     },
     "execution_count": 30,
     "metadata": {},
     "output_type": "execute_result"
    }
   ],
   "source": [
    "len(clkcount)"
   ]
  },
  {
   "cell_type": "code",
   "execution_count": 31,
   "metadata": {},
   "outputs": [],
   "source": [
    "clkcount = clkcount.rename(columns={'ref_hash':'cant_clicks'}).reset_index()"
   ]
  },
  {
   "cell_type": "code",
   "execution_count": 32,
   "metadata": {},
   "outputs": [
    {
     "data": {
      "text/html": [
       "<div>\n",
       "<style scoped>\n",
       "    .dataframe tbody tr th:only-of-type {\n",
       "        vertical-align: middle;\n",
       "    }\n",
       "\n",
       "    .dataframe tbody tr th {\n",
       "        vertical-align: top;\n",
       "    }\n",
       "\n",
       "    .dataframe thead th {\n",
       "        text-align: right;\n",
       "    }\n",
       "</style>\n",
       "<table border=\"1\" class=\"dataframe\">\n",
       "  <thead>\n",
       "    <tr style=\"text-align: right;\">\n",
       "      <th></th>\n",
       "      <th>ref_hash</th>\n",
       "      <th>cant_clicks</th>\n",
       "    </tr>\n",
       "  </thead>\n",
       "  <tbody>\n",
       "    <tr>\n",
       "      <th>7487</th>\n",
       "      <td>4063522808706112974</td>\n",
       "      <td>41</td>\n",
       "    </tr>\n",
       "    <tr>\n",
       "      <th>12676</th>\n",
       "      <td>6841615430383729819</td>\n",
       "      <td>32</td>\n",
       "    </tr>\n",
       "    <tr>\n",
       "      <th>2374</th>\n",
       "      <td>1244272413279716745</td>\n",
       "      <td>26</td>\n",
       "    </tr>\n",
       "    <tr>\n",
       "      <th>2794</th>\n",
       "      <td>1486699123421703687</td>\n",
       "      <td>21</td>\n",
       "    </tr>\n",
       "    <tr>\n",
       "      <th>1687</th>\n",
       "      <td>871778630200697460</td>\n",
       "      <td>21</td>\n",
       "    </tr>\n",
       "  </tbody>\n",
       "</table>\n",
       "</div>"
      ],
      "text/plain": [
       "                  ref_hash  cant_clicks\n",
       "7487   4063522808706112974           41\n",
       "12676  6841615430383729819           32\n",
       "2374   1244272413279716745           26\n",
       "2794   1486699123421703687           21\n",
       "1687    871778630200697460           21"
      ]
     },
     "execution_count": 32,
     "metadata": {},
     "output_type": "execute_result"
    }
   ],
   "source": [
    "clkcount.sort_values('cant_clicks', ascending = False).head()"
   ]
  },
  {
   "cell_type": "code",
   "execution_count": 33,
   "metadata": {},
   "outputs": [],
   "source": [
    "instcount = inst.groupby('ref_hash').agg({'ref_hash' : 'count'})"
   ]
  },
  {
   "cell_type": "code",
   "execution_count": 34,
   "metadata": {},
   "outputs": [],
   "source": [
    "instcount = instcount.rename(columns={'ref_hash':'cant_installs'}).reset_index()"
   ]
  },
  {
   "cell_type": "code",
   "execution_count": 35,
   "metadata": {},
   "outputs": [],
   "source": [
    "merged_cl_in = instcount.merge(clkcount, on = 'ref_hash', how = 'left')"
   ]
  },
  {
   "cell_type": "code",
   "execution_count": 36,
   "metadata": {},
   "outputs": [
    {
     "data": {
      "text/plain": [
       "3001"
      ]
     },
     "execution_count": 36,
     "metadata": {},
     "output_type": "execute_result"
    }
   ],
   "source": [
    "merged_cl_in['cant_clicks'].isna().sum()"
   ]
  },
  {
   "cell_type": "code",
   "execution_count": 37,
   "metadata": {},
   "outputs": [
    {
     "data": {
      "text/html": [
       "<div>\n",
       "<style scoped>\n",
       "    .dataframe tbody tr th:only-of-type {\n",
       "        vertical-align: middle;\n",
       "    }\n",
       "\n",
       "    .dataframe tbody tr th {\n",
       "        vertical-align: top;\n",
       "    }\n",
       "\n",
       "    .dataframe thead th {\n",
       "        text-align: right;\n",
       "    }\n",
       "</style>\n",
       "<table border=\"1\" class=\"dataframe\">\n",
       "  <thead>\n",
       "    <tr style=\"text-align: right;\">\n",
       "      <th></th>\n",
       "      <th>ref_hash</th>\n",
       "      <th>cant_installs</th>\n",
       "      <th>cant_clicks</th>\n",
       "    </tr>\n",
       "  </thead>\n",
       "  <tbody>\n",
       "    <tr>\n",
       "      <th>192</th>\n",
       "      <td>582930240149217282</td>\n",
       "      <td>1</td>\n",
       "      <td>4.0</td>\n",
       "    </tr>\n",
       "    <tr>\n",
       "      <th>422</th>\n",
       "      <td>1254317779988816837</td>\n",
       "      <td>1</td>\n",
       "      <td>1.0</td>\n",
       "    </tr>\n",
       "    <tr>\n",
       "      <th>793</th>\n",
       "      <td>2369915544093215150</td>\n",
       "      <td>1</td>\n",
       "      <td>1.0</td>\n",
       "    </tr>\n",
       "    <tr>\n",
       "      <th>1209</th>\n",
       "      <td>3685364020547088390</td>\n",
       "      <td>1</td>\n",
       "      <td>1.0</td>\n",
       "    </tr>\n",
       "    <tr>\n",
       "      <th>2355</th>\n",
       "      <td>7190737170444985036</td>\n",
       "      <td>1</td>\n",
       "      <td>1.0</td>\n",
       "    </tr>\n",
       "    <tr>\n",
       "      <th>2532</th>\n",
       "      <td>7759178785240189555</td>\n",
       "      <td>1</td>\n",
       "      <td>2.0</td>\n",
       "    </tr>\n",
       "    <tr>\n",
       "      <th>2666</th>\n",
       "      <td>8187571300120427764</td>\n",
       "      <td>1</td>\n",
       "      <td>1.0</td>\n",
       "    </tr>\n",
       "  </tbody>\n",
       "</table>\n",
       "</div>"
      ],
      "text/plain": [
       "                 ref_hash  cant_installs  cant_clicks\n",
       "192    582930240149217282              1          4.0\n",
       "422   1254317779988816837              1          1.0\n",
       "793   2369915544093215150              1          1.0\n",
       "1209  3685364020547088390              1          1.0\n",
       "2355  7190737170444985036              1          1.0\n",
       "2532  7759178785240189555              1          2.0\n",
       "2666  8187571300120427764              1          1.0"
      ]
     },
     "execution_count": 37,
     "metadata": {},
     "output_type": "execute_result"
    }
   ],
   "source": [
    "merged_cl_in = merged_cl_in.dropna()\n",
    "merged_cl_in"
   ]
  },
  {
   "cell_type": "code",
   "execution_count": 38,
   "metadata": {},
   "outputs": [
    {
     "data": {
      "text/plain": [
       "7"
      ]
     },
     "execution_count": 38,
     "metadata": {},
     "output_type": "execute_result"
    }
   ],
   "source": [
    "len(merged_cl_in)"
   ]
  },
  {
   "cell_type": "markdown",
   "metadata": {},
   "source": [
    "### Se ve entonces que de un numero tan elevado de clicks unicos (17119 usuarios diferentes) tan solo 7 de ellos instalaron la aplicacion que se publicita."
   ]
  },
  {
   "cell_type": "markdown",
   "metadata": {},
   "source": [
    "#### Es ademas notorio que ninguno de ellos hizo una gran cantidad de clicks en las publicidades, por lo menos en comparacion los usuarios que hicieron clicks mas veces."
   ]
  },
  {
   "cell_type": "markdown",
   "metadata": {},
   "source": [
    "## La idea que sigue era restringir los dataframes por pais, pero nos encontramos con lo siguiente"
   ]
  },
  {
   "cell_type": "code",
   "execution_count": 39,
   "metadata": {},
   "outputs": [],
   "source": [
    "clkcount2 = clk.groupby(['ref_hash','country_code']).agg({'ref_hash' : 'count'})"
   ]
  },
  {
   "cell_type": "code",
   "execution_count": 40,
   "metadata": {},
   "outputs": [],
   "source": [
    "clkcount2 = clkcount2.rename(columns={'ref_hash':'cant_clicks'}).reset_index()"
   ]
  },
  {
   "cell_type": "code",
   "execution_count": 41,
   "metadata": {},
   "outputs": [],
   "source": [
    "instcount2 = inst.groupby(['ref_hash','device_countrycode']).agg({'ref_hash' : 'count'})"
   ]
  },
  {
   "cell_type": "code",
   "execution_count": 42,
   "metadata": {},
   "outputs": [],
   "source": [
    "instcount2 = instcount2.rename(columns={'ref_hash':'cant_installs'}).reset_index()"
   ]
  },
  {
   "cell_type": "code",
   "execution_count": 43,
   "metadata": {},
   "outputs": [],
   "source": [
    "merged_cl_in2 = instcount2.merge(clkcount2, on = 'ref_hash', how = 'left')"
   ]
  },
  {
   "cell_type": "code",
   "execution_count": 44,
   "metadata": {},
   "outputs": [
    {
     "data": {
      "text/plain": [
       "3004"
      ]
     },
     "execution_count": 44,
     "metadata": {},
     "output_type": "execute_result"
    }
   ],
   "source": [
    "merged_cl_in2['cant_clicks'].isna().sum()"
   ]
  },
  {
   "cell_type": "code",
   "execution_count": 45,
   "metadata": {},
   "outputs": [
    {
     "data": {
      "text/html": [
       "<div>\n",
       "<style scoped>\n",
       "    .dataframe tbody tr th:only-of-type {\n",
       "        vertical-align: middle;\n",
       "    }\n",
       "\n",
       "    .dataframe tbody tr th {\n",
       "        vertical-align: top;\n",
       "    }\n",
       "\n",
       "    .dataframe thead th {\n",
       "        text-align: right;\n",
       "    }\n",
       "</style>\n",
       "<table border=\"1\" class=\"dataframe\">\n",
       "  <thead>\n",
       "    <tr style=\"text-align: right;\">\n",
       "      <th></th>\n",
       "      <th>ref_hash</th>\n",
       "      <th>device_countrycode</th>\n",
       "      <th>cant_installs</th>\n",
       "      <th>country_code</th>\n",
       "      <th>cant_clicks</th>\n",
       "    </tr>\n",
       "  </thead>\n",
       "  <tbody>\n",
       "    <tr>\n",
       "      <th>193</th>\n",
       "      <td>582930240149217282</td>\n",
       "      <td>2970470518450881158</td>\n",
       "      <td>1</td>\n",
       "      <td>6333597102633388268</td>\n",
       "      <td>4.0</td>\n",
       "    </tr>\n",
       "    <tr>\n",
       "      <th>423</th>\n",
       "      <td>1254317779988816837</td>\n",
       "      <td>2970470518450881158</td>\n",
       "      <td>1</td>\n",
       "      <td>6333597102633388268</td>\n",
       "      <td>1.0</td>\n",
       "    </tr>\n",
       "    <tr>\n",
       "      <th>795</th>\n",
       "      <td>2369915544093215150</td>\n",
       "      <td>2970470518450881158</td>\n",
       "      <td>1</td>\n",
       "      <td>6333597102633388268</td>\n",
       "      <td>1.0</td>\n",
       "    </tr>\n",
       "    <tr>\n",
       "      <th>1211</th>\n",
       "      <td>3685364020547088390</td>\n",
       "      <td>2970470518450881158</td>\n",
       "      <td>1</td>\n",
       "      <td>6333597102633388268</td>\n",
       "      <td>1.0</td>\n",
       "    </tr>\n",
       "    <tr>\n",
       "      <th>2357</th>\n",
       "      <td>7190737170444985036</td>\n",
       "      <td>2970470518450881158</td>\n",
       "      <td>1</td>\n",
       "      <td>6333597102633388268</td>\n",
       "      <td>1.0</td>\n",
       "    </tr>\n",
       "    <tr>\n",
       "      <th>2534</th>\n",
       "      <td>7759178785240189555</td>\n",
       "      <td>2970470518450881158</td>\n",
       "      <td>1</td>\n",
       "      <td>6333597102633388268</td>\n",
       "      <td>2.0</td>\n",
       "    </tr>\n",
       "    <tr>\n",
       "      <th>2668</th>\n",
       "      <td>8187571300120427764</td>\n",
       "      <td>2970470518450881158</td>\n",
       "      <td>1</td>\n",
       "      <td>6333597102633388268</td>\n",
       "      <td>1.0</td>\n",
       "    </tr>\n",
       "  </tbody>\n",
       "</table>\n",
       "</div>"
      ],
      "text/plain": [
       "                 ref_hash   device_countrycode  cant_installs  \\\n",
       "193    582930240149217282  2970470518450881158              1   \n",
       "423   1254317779988816837  2970470518450881158              1   \n",
       "795   2369915544093215150  2970470518450881158              1   \n",
       "1211  3685364020547088390  2970470518450881158              1   \n",
       "2357  7190737170444985036  2970470518450881158              1   \n",
       "2534  7759178785240189555  2970470518450881158              1   \n",
       "2668  8187571300120427764  2970470518450881158              1   \n",
       "\n",
       "             country_code  cant_clicks  \n",
       "193   6333597102633388268          4.0  \n",
       "423   6333597102633388268          1.0  \n",
       "795   6333597102633388268          1.0  \n",
       "1211  6333597102633388268          1.0  \n",
       "2357  6333597102633388268          1.0  \n",
       "2534  6333597102633388268          2.0  \n",
       "2668  6333597102633388268          1.0  "
      ]
     },
     "execution_count": 45,
     "metadata": {},
     "output_type": "execute_result"
    }
   ],
   "source": [
    "merged_cl_in2 = merged_cl_in2.dropna()\n",
    "merged_cl_in2"
   ]
  },
  {
   "cell_type": "code",
   "execution_count": 46,
   "metadata": {},
   "outputs": [
    {
     "data": {
      "text/plain": [
       "6333597102633388268    26351\n",
       "Name: country_code, dtype: int64"
      ]
     },
     "execution_count": 46,
     "metadata": {},
     "output_type": "execute_result"
    }
   ],
   "source": [
    "clicks['country_code'].value_counts()"
   ]
  },
  {
   "cell_type": "code",
   "execution_count": 47,
   "metadata": {},
   "outputs": [
    {
     "data": {
      "text/plain": [
       "6333597102633388268    1820\n",
       "2970470518450881158    1592\n",
       "Name: device_countrycode, dtype: int64"
      ]
     },
     "execution_count": 47,
     "metadata": {},
     "output_type": "execute_result"
    }
   ],
   "source": [
    "installs['device_countrycode'].value_counts()"
   ]
  },
  {
   "cell_type": "markdown",
   "metadata": {},
   "source": [
    "### Es muy raro el resultado, no se me ocurre una explicacion logica para que el pais sea diferente en clicks e installs"
   ]
  },
  {
   "cell_type": "markdown",
   "metadata": {},
   "source": [
    "## 3. Tiempo entre que alguien instala una aplicación y realiza un event"
   ]
  },
  {
   "cell_type": "code",
   "execution_count": 48,
   "metadata": {},
   "outputs": [
    {
     "name": "stderr",
     "output_type": "stream",
     "text": [
      "/anaconda3/lib/python3.7/site-packages/ipykernel_launcher.py:1: SettingWithCopyWarning: \n",
      "A value is trying to be set on a copy of a slice from a DataFrame.\n",
      "Try using .loc[row_indexer,col_indexer] = value instead\n",
      "\n",
      "See the caveats in the documentation: http://pandas.pydata.org/pandas-docs/stable/indexing.html#indexing-view-versus-copy\n",
      "  \"\"\"Entry point for launching an IPython kernel.\n",
      "/anaconda3/lib/python3.7/site-packages/ipykernel_launcher.py:3: SettingWithCopyWarning: \n",
      "A value is trying to be set on a copy of a slice from a DataFrame.\n",
      "Try using .loc[row_indexer,col_indexer] = value instead\n",
      "\n",
      "See the caveats in the documentation: http://pandas.pydata.org/pandas-docs/stable/indexing.html#indexing-view-versus-copy\n",
      "  This is separate from the ipykernel package so we can avoid doing imports until\n"
     ]
    },
    {
     "data": {
      "text/html": [
       "<div>\n",
       "<style scoped>\n",
       "    .dataframe tbody tr th:only-of-type {\n",
       "        vertical-align: middle;\n",
       "    }\n",
       "\n",
       "    .dataframe tbody tr th {\n",
       "        vertical-align: top;\n",
       "    }\n",
       "\n",
       "    .dataframe thead th {\n",
       "        text-align: right;\n",
       "    }\n",
       "</style>\n",
       "<table border=\"1\" class=\"dataframe\">\n",
       "  <thead>\n",
       "    <tr style=\"text-align: right;\">\n",
       "      <th></th>\n",
       "      <th>ref_hash</th>\n",
       "      <th>application_id</th>\n",
       "      <th>created</th>\n",
       "      <th>cantidad_de_installs</th>\n",
       "    </tr>\n",
       "  </thead>\n",
       "  <tbody>\n",
       "    <tr>\n",
       "      <th>0</th>\n",
       "      <td>4958526679100225</td>\n",
       "      <td>10</td>\n",
       "      <td>2019-03-09 15:24:03.123</td>\n",
       "      <td>1</td>\n",
       "    </tr>\n",
       "    <tr>\n",
       "      <th>1</th>\n",
       "      <td>5610335643679608</td>\n",
       "      <td>7</td>\n",
       "      <td>2019-03-08 23:56:00.134</td>\n",
       "      <td>1</td>\n",
       "    </tr>\n",
       "    <tr>\n",
       "      <th>2</th>\n",
       "      <td>12589600065022004</td>\n",
       "      <td>8</td>\n",
       "      <td>2019-03-11 03:01:40.186</td>\n",
       "      <td>1</td>\n",
       "    </tr>\n",
       "    <tr>\n",
       "      <th>3</th>\n",
       "      <td>13755514797422075</td>\n",
       "      <td>7</td>\n",
       "      <td>2019-03-11 22:13:03.705</td>\n",
       "      <td>1</td>\n",
       "    </tr>\n",
       "    <tr>\n",
       "      <th>4</th>\n",
       "      <td>14817751128061288</td>\n",
       "      <td>7</td>\n",
       "      <td>2019-03-13 02:43:14.119</td>\n",
       "      <td>1</td>\n",
       "    </tr>\n",
       "  </tbody>\n",
       "</table>\n",
       "</div>"
      ],
      "text/plain": [
       "            ref_hash  application_id                 created  \\\n",
       "0   4958526679100225              10 2019-03-09 15:24:03.123   \n",
       "1   5610335643679608               7 2019-03-08 23:56:00.134   \n",
       "2  12589600065022004               8 2019-03-11 03:01:40.186   \n",
       "3  13755514797422075               7 2019-03-11 22:13:03.705   \n",
       "4  14817751128061288               7 2019-03-13 02:43:14.119   \n",
       "\n",
       "   cantidad_de_installs  \n",
       "0                     1  \n",
       "1                     1  \n",
       "2                     1  \n",
       "3                     1  \n",
       "4                     1  "
      ]
     },
     "execution_count": 48,
     "metadata": {},
     "output_type": "execute_result"
    }
   ],
   "source": [
    "inst['created'] = pd.to_datetime(inst['created'])\n",
    "inst_3 = inst\n",
    "inst_3['cantidad_de_installs'] = 1\n",
    "inst_3 = inst_3.groupby(['ref_hash','application_id'])\n",
    "inst_3 = inst_3['created','cantidad_de_installs'].agg({'created':'min','cantidad_de_installs':'count'})\n",
    "inst_3 = inst_3.reset_index()\n",
    "inst_3.head()"
   ]
  },
  {
   "cell_type": "code",
   "execution_count": 49,
   "metadata": {},
   "outputs": [
    {
     "data": {
      "text/html": [
       "<div>\n",
       "<style scoped>\n",
       "    .dataframe tbody tr th:only-of-type {\n",
       "        vertical-align: middle;\n",
       "    }\n",
       "\n",
       "    .dataframe tbody tr th {\n",
       "        vertical-align: top;\n",
       "    }\n",
       "\n",
       "    .dataframe thead th {\n",
       "        text-align: right;\n",
       "    }\n",
       "</style>\n",
       "<table border=\"1\" class=\"dataframe\">\n",
       "  <thead>\n",
       "    <tr style=\"text-align: right;\">\n",
       "      <th></th>\n",
       "      <th>ref_hash</th>\n",
       "      <th>application_id</th>\n",
       "      <th>date</th>\n",
       "      <th>cantidad_de_events</th>\n",
       "    </tr>\n",
       "  </thead>\n",
       "  <tbody>\n",
       "    <tr>\n",
       "      <th>0</th>\n",
       "      <td>163367509015039</td>\n",
       "      <td>66</td>\n",
       "      <td>2019-03-05 14:38:17.976</td>\n",
       "      <td>1</td>\n",
       "    </tr>\n",
       "    <tr>\n",
       "      <th>1</th>\n",
       "      <td>264819082914115</td>\n",
       "      <td>64</td>\n",
       "      <td>2019-03-13 02:30:24.861</td>\n",
       "      <td>2</td>\n",
       "    </tr>\n",
       "    <tr>\n",
       "      <th>2</th>\n",
       "      <td>400199180093841</td>\n",
       "      <td>212</td>\n",
       "      <td>2019-03-12 10:38:20.430</td>\n",
       "      <td>1</td>\n",
       "    </tr>\n",
       "    <tr>\n",
       "      <th>3</th>\n",
       "      <td>473597089501983</td>\n",
       "      <td>64</td>\n",
       "      <td>2019-03-13 11:37:00.700</td>\n",
       "      <td>4</td>\n",
       "    </tr>\n",
       "    <tr>\n",
       "      <th>4</th>\n",
       "      <td>533598976671757</td>\n",
       "      <td>64</td>\n",
       "      <td>2019-03-08 01:21:48.694</td>\n",
       "      <td>30</td>\n",
       "    </tr>\n",
       "  </tbody>\n",
       "</table>\n",
       "</div>"
      ],
      "text/plain": [
       "          ref_hash  application_id                    date  cantidad_de_events\n",
       "0  163367509015039              66 2019-03-05 14:38:17.976                   1\n",
       "1  264819082914115              64 2019-03-13 02:30:24.861                   2\n",
       "2  400199180093841             212 2019-03-12 10:38:20.430                   1\n",
       "3  473597089501983              64 2019-03-13 11:37:00.700                   4\n",
       "4  533598976671757              64 2019-03-08 01:21:48.694                  30"
      ]
     },
     "execution_count": 49,
     "metadata": {},
     "output_type": "execute_result"
    }
   ],
   "source": [
    "evnt['date'] = pd.to_datetime(evnt['date'])\n",
    "evnt_3 = evnt\n",
    "evnt_3['cantidad_de_events'] = 1\n",
    "evnt_3 = evnt_3.groupby(['ref_hash','application_id'])\n",
    "evnt_3 = evnt_3['date','cantidad_de_events'].agg({'date':'min','cantidad_de_events':'count'})\n",
    "evnt_3 = evnt_3.reset_index()\n",
    "evnt_3.head()"
   ]
  },
  {
   "cell_type": "code",
   "execution_count": 50,
   "metadata": {},
   "outputs": [
    {
     "data": {
      "text/html": [
       "<div>\n",
       "<style scoped>\n",
       "    .dataframe tbody tr th:only-of-type {\n",
       "        vertical-align: middle;\n",
       "    }\n",
       "\n",
       "    .dataframe tbody tr th {\n",
       "        vertical-align: top;\n",
       "    }\n",
       "\n",
       "    .dataframe thead th {\n",
       "        text-align: right;\n",
       "    }\n",
       "</style>\n",
       "<table border=\"1\" class=\"dataframe\">\n",
       "  <thead>\n",
       "    <tr style=\"text-align: right;\">\n",
       "      <th></th>\n",
       "      <th>ref_hash</th>\n",
       "      <th>application_id</th>\n",
       "      <th>created</th>\n",
       "      <th>cantidad_de_installs</th>\n",
       "      <th>date</th>\n",
       "      <th>cantidad_de_events</th>\n",
       "    </tr>\n",
       "  </thead>\n",
       "  <tbody>\n",
       "    <tr>\n",
       "      <th>0</th>\n",
       "      <td>4958526679100225</td>\n",
       "      <td>10</td>\n",
       "      <td>2019-03-09 15:24:03.123</td>\n",
       "      <td>1</td>\n",
       "      <td>2019-03-09 15:24:07.212</td>\n",
       "      <td>6</td>\n",
       "    </tr>\n",
       "    <tr>\n",
       "      <th>1</th>\n",
       "      <td>12589600065022004</td>\n",
       "      <td>8</td>\n",
       "      <td>2019-03-11 03:01:40.186</td>\n",
       "      <td>1</td>\n",
       "      <td>2019-03-11 03:01:40.186</td>\n",
       "      <td>85</td>\n",
       "    </tr>\n",
       "    <tr>\n",
       "      <th>2</th>\n",
       "      <td>14817751128061288</td>\n",
       "      <td>7</td>\n",
       "      <td>2019-03-13 02:43:14.119</td>\n",
       "      <td>1</td>\n",
       "      <td>2019-03-13 02:43:18.410</td>\n",
       "      <td>2</td>\n",
       "    </tr>\n",
       "    <tr>\n",
       "      <th>3</th>\n",
       "      <td>17437441331211593</td>\n",
       "      <td>16</td>\n",
       "      <td>2019-03-08 23:13:00.326</td>\n",
       "      <td>2</td>\n",
       "      <td>2019-03-08 23:13:00.326</td>\n",
       "      <td>1</td>\n",
       "    </tr>\n",
       "    <tr>\n",
       "      <th>4</th>\n",
       "      <td>19615030838209300</td>\n",
       "      <td>7</td>\n",
       "      <td>2019-03-10 19:36:47.718</td>\n",
       "      <td>1</td>\n",
       "      <td>2019-03-10 19:36:56.233</td>\n",
       "      <td>2</td>\n",
       "    </tr>\n",
       "  </tbody>\n",
       "</table>\n",
       "</div>"
      ],
      "text/plain": [
       "            ref_hash  application_id                 created  \\\n",
       "0   4958526679100225              10 2019-03-09 15:24:03.123   \n",
       "1  12589600065022004               8 2019-03-11 03:01:40.186   \n",
       "2  14817751128061288               7 2019-03-13 02:43:14.119   \n",
       "3  17437441331211593              16 2019-03-08 23:13:00.326   \n",
       "4  19615030838209300               7 2019-03-10 19:36:47.718   \n",
       "\n",
       "   cantidad_de_installs                    date  cantidad_de_events  \n",
       "0                     1 2019-03-09 15:24:07.212                   6  \n",
       "1                     1 2019-03-11 03:01:40.186                  85  \n",
       "2                     1 2019-03-13 02:43:18.410                   2  \n",
       "3                     2 2019-03-08 23:13:00.326                   1  \n",
       "4                     1 2019-03-10 19:36:56.233                   2  "
      ]
     },
     "execution_count": 50,
     "metadata": {},
     "output_type": "execute_result"
    }
   ],
   "source": [
    "merged_3 = inst_3.merge(evnt_3, on=['ref_hash','application_id'])\n",
    "merged_3.head()"
   ]
  },
  {
   "cell_type": "code",
   "execution_count": 51,
   "metadata": {},
   "outputs": [],
   "source": [
    "merged_3['date'] = pd.to_datetime(merged_3['date'])\n",
    "merged_3['created'] = pd.to_datetime(merged_3['created'])"
   ]
  },
  {
   "cell_type": "code",
   "execution_count": 65,
   "metadata": {},
   "outputs": [
    {
     "data": {
      "text/html": [
       "<div>\n",
       "<style scoped>\n",
       "    .dataframe tbody tr th:only-of-type {\n",
       "        vertical-align: middle;\n",
       "    }\n",
       "\n",
       "    .dataframe tbody tr th {\n",
       "        vertical-align: top;\n",
       "    }\n",
       "\n",
       "    .dataframe thead th {\n",
       "        text-align: right;\n",
       "    }\n",
       "</style>\n",
       "<table border=\"1\" class=\"dataframe\">\n",
       "  <thead>\n",
       "    <tr style=\"text-align: right;\">\n",
       "      <th></th>\n",
       "      <th>ref_hash</th>\n",
       "      <th>application_id</th>\n",
       "      <th>created</th>\n",
       "      <th>cantidad_de_installs</th>\n",
       "      <th>date</th>\n",
       "      <th>cantidad_de_events</th>\n",
       "      <th>diferencia</th>\n",
       "    </tr>\n",
       "  </thead>\n",
       "  <tbody>\n",
       "    <tr>\n",
       "      <th>0</th>\n",
       "      <td>4958526679100225</td>\n",
       "      <td>10</td>\n",
       "      <td>2019-03-09 15:24:03.123</td>\n",
       "      <td>1</td>\n",
       "      <td>2019-03-09 15:24:07.212</td>\n",
       "      <td>6</td>\n",
       "      <td>4.089</td>\n",
       "    </tr>\n",
       "    <tr>\n",
       "      <th>1</th>\n",
       "      <td>12589600065022004</td>\n",
       "      <td>8</td>\n",
       "      <td>2019-03-11 03:01:40.186</td>\n",
       "      <td>1</td>\n",
       "      <td>2019-03-11 03:01:40.186</td>\n",
       "      <td>85</td>\n",
       "      <td>0.000</td>\n",
       "    </tr>\n",
       "    <tr>\n",
       "      <th>2</th>\n",
       "      <td>14817751128061288</td>\n",
       "      <td>7</td>\n",
       "      <td>2019-03-13 02:43:14.119</td>\n",
       "      <td>1</td>\n",
       "      <td>2019-03-13 02:43:18.410</td>\n",
       "      <td>2</td>\n",
       "      <td>4.291</td>\n",
       "    </tr>\n",
       "    <tr>\n",
       "      <th>3</th>\n",
       "      <td>17437441331211593</td>\n",
       "      <td>16</td>\n",
       "      <td>2019-03-08 23:13:00.326</td>\n",
       "      <td>2</td>\n",
       "      <td>2019-03-08 23:13:00.326</td>\n",
       "      <td>1</td>\n",
       "      <td>0.000</td>\n",
       "    </tr>\n",
       "    <tr>\n",
       "      <th>4</th>\n",
       "      <td>19615030838209300</td>\n",
       "      <td>7</td>\n",
       "      <td>2019-03-10 19:36:47.718</td>\n",
       "      <td>1</td>\n",
       "      <td>2019-03-10 19:36:56.233</td>\n",
       "      <td>2</td>\n",
       "      <td>8.515</td>\n",
       "    </tr>\n",
       "  </tbody>\n",
       "</table>\n",
       "</div>"
      ],
      "text/plain": [
       "            ref_hash  application_id                 created  \\\n",
       "0   4958526679100225              10 2019-03-09 15:24:03.123   \n",
       "1  12589600065022004               8 2019-03-11 03:01:40.186   \n",
       "2  14817751128061288               7 2019-03-13 02:43:14.119   \n",
       "3  17437441331211593              16 2019-03-08 23:13:00.326   \n",
       "4  19615030838209300               7 2019-03-10 19:36:47.718   \n",
       "\n",
       "   cantidad_de_installs                    date  cantidad_de_events  \\\n",
       "0                     1 2019-03-09 15:24:07.212                   6   \n",
       "1                     1 2019-03-11 03:01:40.186                  85   \n",
       "2                     1 2019-03-13 02:43:18.410                   2   \n",
       "3                     2 2019-03-08 23:13:00.326                   1   \n",
       "4                     1 2019-03-10 19:36:56.233                   2   \n",
       "\n",
       "   diferencia  \n",
       "0       4.089  \n",
       "1       0.000  \n",
       "2       4.291  \n",
       "3       0.000  \n",
       "4       8.515  "
      ]
     },
     "execution_count": 65,
     "metadata": {},
     "output_type": "execute_result"
    }
   ],
   "source": [
    "merged_3 ['diferencia'] = (merged_3['date'] - merged_3['created']).dt.total_seconds()\n",
    "merged_3 = merged_3[merged_3['diferencia'] >= 0]\n",
    "merged_3.head()"
   ]
  },
  {
   "cell_type": "markdown",
   "metadata": {},
   "source": [
    "### Las fechas son las atribuidas a la primera instalación y a el primer evento"
   ]
  },
  {
   "cell_type": "code",
   "execution_count": 87,
   "metadata": {},
   "outputs": [],
   "source": [
    "mergeado_hist1 = merged_3[merged_3['diferencia']<3600]\n",
    "mergeado_hist2 = merged_3[merged_3['diferencia']<20]\n",
    "\n",
    "mergeado_hist1 = mergeado_hist1['diferencia']\n",
    "mergeado_hist2 = mergeado_hist2['diferencia']"
   ]
  },
  {
   "cell_type": "code",
   "execution_count": 59,
   "metadata": {},
   "outputs": [
    {
     "data": {
      "image/png": "[encoded data removed]",
      "text/plain": [
       "<Figure size 1296x720 with 1 Axes>"
      ]
     },
     "metadata": {
      "needs_background": "light"
     },
     "output_type": "display_data"
    }
   ],
   "source": [
    "grph3 = mergeado_hist1.plot.hist(figsize = (18,10), bins = 20, grid = True, title = 'Tiempo entre instalacion y primer evento')\n",
    "grph3.set_xlabel('Tiempo entre install y event [segundos]');"
   ]
  },
  {
   "cell_type": "markdown",
   "metadata": {},
   "source": [
    "### Se puede observar que en la primera hora, la mayor cantidad de events luego de una instalación surgen en los primeros segundos, por lo tanto fue necesario hacer otro histograma."
   ]
  },
  {
   "cell_type": "code",
   "execution_count": 60,
   "metadata": {},
   "outputs": [
    {
     "data": {
      "image/png": "[encoded data removed]",
      "text/plain": [
       "<Figure size 1296x720 with 1 Axes>"
      ]
     },
     "metadata": {
      "needs_background": "light"
     },
     "output_type": "display_data"
    }
   ],
   "source": [
    "grph3_2 = mergeado_hist2.plot.hist(figsize = (18,10), bins = 20, grid = True, title = 'Tiempo entre instalacion y primer evento')\n",
    "grph3_2.set_xlabel('Tiempo entre install y event [segundos]');"
   ]
  },
  {
   "cell_type": "markdown",
   "metadata": {},
   "source": [
    "## 4 - Comparacion auctions, clicks, events e installs por dia de la semana"
   ]
  },
  {
   "cell_type": "code",
   "execution_count": 134,
   "metadata": {},
   "outputs": [],
   "source": [
    "auctions_dow = auctions.groupby(['day_of_week', 'day']).agg({'day_of_week':'count'})\n",
    "clicks_dow = clicks.groupby(['day_of_week', 'day']).agg({'day_of_week':'count'})\n",
    "events_dow = events.groupby(['day_of_week', 'day']).agg({'day_of_week':'count'})\n",
    "installs_dow = installs.groupby(['day_of_week', 'day']).agg({'day_of_week':'count'})"
   ]
  },
  {
   "cell_type": "code",
   "execution_count": 135,
   "metadata": {},
   "outputs": [],
   "source": [
    "auctions_dow.columns = ['count_auctions']\n",
    "clicks_dow.columns = ['count_clicks']\n",
    "events_dow.columns = ['count_events']\n",
    "installs_dow.columns = ['count_installs']"
   ]
  },
  {
   "cell_type": "code",
   "execution_count": 136,
   "metadata": {},
   "outputs": [
    {
     "data": {
      "text/html": [
       "<div>\n",
       "<style scoped>\n",
       "    .dataframe tbody tr th:only-of-type {\n",
       "        vertical-align: middle;\n",
       "    }\n",
       "\n",
       "    .dataframe tbody tr th {\n",
       "        vertical-align: top;\n",
       "    }\n",
       "\n",
       "    .dataframe thead th {\n",
       "        text-align: right;\n",
       "    }\n",
       "</style>\n",
       "<table border=\"1\" class=\"dataframe\">\n",
       "  <thead>\n",
       "    <tr style=\"text-align: right;\">\n",
       "      <th></th>\n",
       "      <th></th>\n",
       "      <th>count_clicks</th>\n",
       "    </tr>\n",
       "    <tr>\n",
       "      <th>day_of_week</th>\n",
       "      <th>day</th>\n",
       "      <th></th>\n",
       "    </tr>\n",
       "  </thead>\n",
       "  <tbody>\n",
       "    <tr>\n",
       "      <th>0</th>\n",
       "      <th>11</th>\n",
       "      <td>4557</td>\n",
       "    </tr>\n",
       "    <tr>\n",
       "      <th rowspan=\"2\" valign=\"top\">1</th>\n",
       "      <th>5</th>\n",
       "      <td>31</td>\n",
       "    </tr>\n",
       "    <tr>\n",
       "      <th>12</th>\n",
       "      <td>5204</td>\n",
       "    </tr>\n",
       "    <tr>\n",
       "      <th rowspan=\"2\" valign=\"top\">2</th>\n",
       "      <th>6</th>\n",
       "      <td>14</td>\n",
       "    </tr>\n",
       "    <tr>\n",
       "      <th>13</th>\n",
       "      <td>3468</td>\n",
       "    </tr>\n",
       "    <tr>\n",
       "      <th>3</th>\n",
       "      <th>7</th>\n",
       "      <td>2989</td>\n",
       "    </tr>\n",
       "    <tr>\n",
       "      <th>4</th>\n",
       "      <th>8</th>\n",
       "      <td>2839</td>\n",
       "    </tr>\n",
       "    <tr>\n",
       "      <th>5</th>\n",
       "      <th>9</th>\n",
       "      <td>3283</td>\n",
       "    </tr>\n",
       "    <tr>\n",
       "      <th>6</th>\n",
       "      <th>10</th>\n",
       "      <td>3966</td>\n",
       "    </tr>\n",
       "  </tbody>\n",
       "</table>\n",
       "</div>"
      ],
      "text/plain": [
       "                 count_clicks\n",
       "day_of_week day              \n",
       "0           11           4557\n",
       "1           5              31\n",
       "            12           5204\n",
       "2           6              14\n",
       "            13           3468\n",
       "3           7            2989\n",
       "4           8            2839\n",
       "5           9            3283\n",
       "6           10           3966"
      ]
     },
     "execution_count": 136,
     "metadata": {},
     "output_type": "execute_result"
    }
   ],
   "source": [
    "clicks_dow"
   ]
  },
  {
   "cell_type": "markdown",
   "metadata": {},
   "source": [
    "Vamos a descartar los dias 5 y 6 debido a sus valores anormalmente bajos"
   ]
  },
  {
   "cell_type": "code",
   "execution_count": 137,
   "metadata": {},
   "outputs": [
    {
     "data": {
      "text/html": [
       "<div>\n",
       "<style scoped>\n",
       "    .dataframe tbody tr th:only-of-type {\n",
       "        vertical-align: middle;\n",
       "    }\n",
       "\n",
       "    .dataframe tbody tr th {\n",
       "        vertical-align: top;\n",
       "    }\n",
       "\n",
       "    .dataframe thead th {\n",
       "        text-align: right;\n",
       "    }\n",
       "</style>\n",
       "<table border=\"1\" class=\"dataframe\">\n",
       "  <thead>\n",
       "    <tr style=\"text-align: right;\">\n",
       "      <th></th>\n",
       "      <th></th>\n",
       "      <th>count_clicks</th>\n",
       "    </tr>\n",
       "    <tr>\n",
       "      <th>day_of_week</th>\n",
       "      <th>day</th>\n",
       "      <th></th>\n",
       "    </tr>\n",
       "  </thead>\n",
       "  <tbody>\n",
       "    <tr>\n",
       "      <th>0</th>\n",
       "      <th>11</th>\n",
       "      <td>4557</td>\n",
       "    </tr>\n",
       "    <tr>\n",
       "      <th>1</th>\n",
       "      <th>12</th>\n",
       "      <td>5204</td>\n",
       "    </tr>\n",
       "    <tr>\n",
       "      <th>2</th>\n",
       "      <th>13</th>\n",
       "      <td>3468</td>\n",
       "    </tr>\n",
       "    <tr>\n",
       "      <th>3</th>\n",
       "      <th>7</th>\n",
       "      <td>2989</td>\n",
       "    </tr>\n",
       "    <tr>\n",
       "      <th>4</th>\n",
       "      <th>8</th>\n",
       "      <td>2839</td>\n",
       "    </tr>\n",
       "    <tr>\n",
       "      <th>5</th>\n",
       "      <th>9</th>\n",
       "      <td>3283</td>\n",
       "    </tr>\n",
       "    <tr>\n",
       "      <th>6</th>\n",
       "      <th>10</th>\n",
       "      <td>3966</td>\n",
       "    </tr>\n",
       "  </tbody>\n",
       "</table>\n",
       "</div>"
      ],
      "text/plain": [
       "                 count_clicks\n",
       "day_of_week day              \n",
       "0           11           4557\n",
       "1           12           5204\n",
       "2           13           3468\n",
       "3           7            2989\n",
       "4           8            2839\n",
       "5           9            3283\n",
       "6           10           3966"
      ]
     },
     "execution_count": 137,
     "metadata": {},
     "output_type": "execute_result"
    }
   ],
   "source": [
    "clicks_dow = clicks_dow.loc[[(0,11),(1,12),(2,13),(3,7),(4,8),(5,9),(6,10)]]\n",
    "clicks_dow"
   ]
  },
  {
   "cell_type": "markdown",
   "metadata": {},
   "source": [
    "Para el resto hacemos un promedio de los dias de la sema que esta repetidos"
   ]
  },
  {
   "cell_type": "code",
   "execution_count": 138,
   "metadata": {},
   "outputs": [],
   "source": [
    "auctions_dow = auctions_dow.groupby(['day_of_week']).agg({'count_auctions':'mean'})\n",
    "clicks_dow = clicks_dow.groupby(['day_of_week']).agg({'count_clicks':'mean'})\n",
    "events_dow = events_dow.groupby(['day_of_week']).agg({'count_events':'mean'})\n",
    "installs_dow = installs_dow.groupby(['day_of_week']).agg({'count_installs':'mean'})"
   ]
  },
  {
   "cell_type": "code",
   "execution_count": 139,
   "metadata": {},
   "outputs": [],
   "source": [
    "merged4 = auctions_dow.join(clicks_dow, on = 'day_of_week')"
   ]
  },
  {
   "cell_type": "code",
   "execution_count": 140,
   "metadata": {},
   "outputs": [],
   "source": [
    "merged4 = merged4.join(events_dow, on = 'day_of_week')"
   ]
  },
  {
   "cell_type": "code",
   "execution_count": 141,
   "metadata": {},
   "outputs": [
    {
     "data": {
      "text/html": [
       "<div>\n",
       "<style scoped>\n",
       "    .dataframe tbody tr th:only-of-type {\n",
       "        vertical-align: middle;\n",
       "    }\n",
       "\n",
       "    .dataframe tbody tr th {\n",
       "        vertical-align: top;\n",
       "    }\n",
       "\n",
       "    .dataframe thead th {\n",
       "        text-align: right;\n",
       "    }\n",
       "</style>\n",
       "<table border=\"1\" class=\"dataframe\">\n",
       "  <thead>\n",
       "    <tr style=\"text-align: right;\">\n",
       "      <th></th>\n",
       "      <th>count_auctions</th>\n",
       "      <th>count_clicks</th>\n",
       "      <th>count_events</th>\n",
       "      <th>count_installs</th>\n",
       "    </tr>\n",
       "    <tr>\n",
       "      <th>day_of_week</th>\n",
       "      <th></th>\n",
       "      <th></th>\n",
       "      <th></th>\n",
       "      <th></th>\n",
       "    </tr>\n",
       "  </thead>\n",
       "  <tbody>\n",
       "    <tr>\n",
       "      <th>0</th>\n",
       "      <td>2574916.0</td>\n",
       "      <td>4557</td>\n",
       "      <td>268884</td>\n",
       "      <td>377.0</td>\n",
       "    </tr>\n",
       "    <tr>\n",
       "      <th>1</th>\n",
       "      <td>1981155.5</td>\n",
       "      <td>5204</td>\n",
       "      <td>268607</td>\n",
       "      <td>404.5</td>\n",
       "    </tr>\n",
       "    <tr>\n",
       "      <th>2</th>\n",
       "      <td>1985671.5</td>\n",
       "      <td>3468</td>\n",
       "      <td>284886</td>\n",
       "      <td>374.0</td>\n",
       "    </tr>\n",
       "    <tr>\n",
       "      <th>3</th>\n",
       "      <td>2047661.0</td>\n",
       "      <td>2989</td>\n",
       "      <td>253706</td>\n",
       "      <td>393.0</td>\n",
       "    </tr>\n",
       "    <tr>\n",
       "      <th>4</th>\n",
       "      <td>2303002.0</td>\n",
       "      <td>2839</td>\n",
       "      <td>285535</td>\n",
       "      <td>366.0</td>\n",
       "    </tr>\n",
       "    <tr>\n",
       "      <th>5</th>\n",
       "      <td>2074552.0</td>\n",
       "      <td>3283</td>\n",
       "      <td>286221</td>\n",
       "      <td>368.0</td>\n",
       "    </tr>\n",
       "    <tr>\n",
       "      <th>6</th>\n",
       "      <td>2637534.0</td>\n",
       "      <td>3966</td>\n",
       "      <td>293091</td>\n",
       "      <td>351.0</td>\n",
       "    </tr>\n",
       "  </tbody>\n",
       "</table>\n",
       "</div>"
      ],
      "text/plain": [
       "             count_auctions  count_clicks  count_events  count_installs\n",
       "day_of_week                                                            \n",
       "0                 2574916.0          4557        268884           377.0\n",
       "1                 1981155.5          5204        268607           404.5\n",
       "2                 1985671.5          3468        284886           374.0\n",
       "3                 2047661.0          2989        253706           393.0\n",
       "4                 2303002.0          2839        285535           366.0\n",
       "5                 2074552.0          3283        286221           368.0\n",
       "6                 2637534.0          3966        293091           351.0"
      ]
     },
     "execution_count": 141,
     "metadata": {},
     "output_type": "execute_result"
    }
   ],
   "source": [
    "merged4 = merged4.join(installs_dow, on = 'day_of_week')\n",
    "merged4"
   ]
  },
  {
   "cell_type": "code",
   "execution_count": 142,
   "metadata": {},
   "outputs": [],
   "source": [
    "auctions_dow['alias'] = ['Lunes','Martes','Miercoles','Jueves','Viernes','Sabado','Domingo']\n",
    "clicks_dow['alias'] = ['Lunes','Martes','Miercoles','Jueves','Viernes','Sabado','Domingo']\n",
    "events_dow['alias'] = ['Lunes','Martes','Miercoles','Jueves','Viernes','Sabado','Domingo']\n",
    "installs_dow['alias'] = ['Lunes','Martes','Miercoles','Jueves','Viernes','Sabado','Domingo']"
   ]
  },
  {
   "cell_type": "code",
   "execution_count": 143,
   "metadata": {},
   "outputs": [],
   "source": [
    "auctions_dow.set_index('alias', drop =True, inplace = True)\n",
    "clicks_dow.set_index('alias', drop =True, inplace = True)\n",
    "events_dow.set_index('alias', drop =True, inplace = True)\n",
    "installs_dow.set_index('alias', drop =True, inplace = True)"
   ]
  },
  {
   "cell_type": "code",
   "execution_count": 144,
   "metadata": {},
   "outputs": [],
   "source": [
    "auctions_dow.reset_index(inplace = True)\n",
    "clicks_dow.reset_index(inplace = True)\n",
    "events_dow.reset_index(inplace = True)\n",
    "installs_dow.reset_index(inplace = True)"
   ]
  },
  {
   "cell_type": "code",
   "execution_count": 145,
   "metadata": {},
   "outputs": [
    {
     "data": {
      "image/png": "[encoded data removed]",
      "text/plain": [
       "<Figure size 720x720 with 1 Axes>"
      ]
     },
     "metadata": {
      "needs_background": "light"
     },
     "output_type": "display_data"
    }
   ],
   "source": [
    "grph4_1 = clicks_dow.plot.bar( x = 'alias', figsize = (10,10), grid = True, rot = 0, legend = False , title = 'Clicks por dia de la semana')\n",
    "grph4_1.set_ylabel(\"Cantidad de clicks\")\n",
    "grph4_1.set_xlabel(\"Dia de la semana\");"
   ]
  },
  {
   "cell_type": "code",
   "execution_count": 154,
   "metadata": {},
   "outputs": [
    {
     "data": {
      "image/png": "[encoded data removed]",
      "text/plain": [
       "<Figure size 720x720 with 1 Axes>"
      ]
     },
     "metadata": {
      "needs_background": "light"
     },
     "output_type": "display_data"
    }
   ],
   "source": [
    "grph4_2 = auctions_dow.plot.bar( x = 'alias', color = 'darkorange', figsize = (10,10), grid = True, rot = 0, legend = False , title = 'Auctions por dia de la semana')\n",
    "grph4_2.set_ylabel(\"Cantidad de auctions\")\n",
    "grph4_2.set_xlabel(\"Dia de la semana\");"
   ]
  },
  {
   "cell_type": "code",
   "execution_count": 156,
   "metadata": {},
   "outputs": [
    {
     "data": {
      "image/png": "[encoded data removed]",
      "text/plain": [
       "<Figure size 720x720 with 1 Axes>"
      ]
     },
     "metadata": {
      "needs_background": "light"
     },
     "output_type": "display_data"
    }
   ],
   "source": [
    "grph4_3 = events_dow.plot.bar( x = 'alias', color='darkgreen', figsize = (10,10), grid = True, rot = 0, legend = False , title = 'Events por dia de la semana')\n",
    "grph4_3.set_ylabel(\"Cantidad de events\")\n",
    "grph4_3.set_xlabel(\"Dia de la semana\");"
   ]
  },
  {
   "cell_type": "code",
   "execution_count": 157,
   "metadata": {},
   "outputs": [
    {
     "data": {
      "image/png": "[encoded data removed]",
      "text/plain": [
       "<Figure size 720x720 with 1 Axes>"
      ]
     },
     "metadata": {
      "needs_background": "light"
     },
     "output_type": "display_data"
    }
   ],
   "source": [
    "grph4_4 = installs_dow.plot.bar( x = 'alias', color = 'darkred', figsize = (10,10), grid = True, rot = 0, legend = False , title = 'Installs por dia de la semana')\n",
    "grph4_4.set_ylabel(\"Cantidad de installs\")\n",
    "grph4_4.set_xlabel(\"Dia de la semana\");"
   ]
  },
  {
   "cell_type": "code",
   "execution_count": 151,
   "metadata": {},
   "outputs": [],
   "source": [
    "merged4['alias'] = ['Lunes','Martes','Miercoles','Jueves','Viernes','Sabado','Domingo']\n",
    "merged4.set_index('alias', drop =True, inplace = True)"
   ]
  },
  {
   "cell_type": "code",
   "execution_count": 158,
   "metadata": {},
   "outputs": [
    {
     "data": {
      "image/png": "[encoded data removed]",
      "text/plain": [
       "<Figure size 1224x792 with 1 Axes>"
      ]
     },
     "metadata": {
      "needs_background": "light"
     },
     "output_type": "display_data"
    }
   ],
   "source": [
    "grph4 = merged4.plot.bar(figsize = (17,11), rot = 0, title = 'Comparacion por dia de la semana', grid = True)\n",
    "grph4.set_ylabel('Dias de la semana')\n",
    "grph4.set_xlabel('Cantidad ocurrencias')\n",
    "grph4.set_yscale('log')\n",
    "grph4.legend([\"Auctions\", \"Clicks\", \"Events\", \"Installs\"]);"
   ]
  },
  {
   "cell_type": "code",
   "execution_count": 173,
   "metadata": {},
   "outputs": [
    {
     "data": {
      "image/png": "[encoded data removed]",
      "text/plain": [
       "<Figure size 1080x576 with 2 Axes>"
      ]
     },
     "metadata": {
      "needs_background": "light"
     },
     "output_type": "display_data"
    }
   ],
   "source": [
    "fig, ax = plt.subplots()\n",
    "ax2 = ax.twiny()\n",
    "merged4.plot(kind='bar', ax=ax, figsize = (15,8), rot = 0, title = 'Comparacion por hora (menos populares)', grid =True)\n",
    "merged4.plot(kind='line',ax=ax2,linewidth = 3, style = '--', legend = False)\n",
    "#ax2.xaxis.get_major_formatter().set_useOffset(False)\n",
    "ax2.set_xticklabels([])\n",
    "ax2.set_xlabel('')\n",
    "ax.set_yscale('log')\n",
    "ax.set_xlabel('Horas')\n",
    "ax.set_ylabel('Cantidad de ocurrencias')\n",
    "ax.legend([\"Auctions\", \"Clicks\", \"Events\", \"Installs\"])\n",
    "plt.show()"
   ]
  },
  {
   "cell_type": "markdown",
   "metadata": {},
   "source": [
    "Como conclusion podemos poner que el dia de la semana no infuye en la cantidad de ocurrencias, informacion que en un principio podría parecer que iba a ser relevante."
   ]
  }
 ],
 "metadata": {
  "kernelspec": {
   "display_name": "Python 3",
   "language": "python",
   "name": "python3"
  },
  "language_info": {
   "codemirror_mode": {
    "name": "ipython",
    "version": 3
   },
   "file_extension": ".py",
   "mimetype": "text/x-python",
   "name": "python",
   "nbconvert_exporter": "python",
   "pygments_lexer": "ipython3",
   "version": "3.7.1"
  }
 },
 "nbformat": 4,
 "nbformat_minor": 2
}
