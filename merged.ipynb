{
 "cells": [
  {
   "cell_type": "code",
   "execution_count": 1,
   "metadata": {},
   "outputs": [],
   "source": [
    "import pandas as pd\n",
    "import numpy as np\n",
    "import matplotlib.pyplot as plt\n",
    "import seaborn as sns\n",
    "from pywaffle import Waffle  # pip install pywaffle\n",
    "\n",
    "%matplotlib inline"
   ]
  },
  {
   "cell_type": "code",
   "execution_count": 3,
   "metadata": {},
   "outputs": [],
   "source": [
    "dtypes_auc = { \"auction_type_id\": np.float16, \"country\": \"category\", \"platform\": \"category\", \"ref_type_id\": \"category\", \n",
    "               \"source_id\": \"category\", \"device_id\": \"category\"}"
   ]
  },
  {
   "cell_type": "code",
   "execution_count": 2,
   "metadata": {},
   "outputs": [],
   "source": [
    "dtypes_clk = { \"advertiser_id\": np.int8, \"action_id\": np.float16, \"source_id\": np.int8, \"country_code\": \"category\", \n",
    "               \"latitude\": np.float16, \"longitude\": np.float16, \"wifi_connection\": \"category\", \"carrier_id\": np.float16,\n",
    "               \"trans_id\": \"object\", \"os_major\":np.float32, \"brand\": np.float16, \"touchX\": np.float16,\n",
    "               \"touchY\": np.float16  }"
   ]
  },
  {
   "cell_type": "code",
   "execution_count": 226,
   "metadata": {},
   "outputs": [],
   "source": [
    "auctions = pd.read_csv('data/auctions.csv.gzip', compression = 'gzip', low_memory = False, dtype=dtypes_auc)\n",
    "installs = pd.read_csv('data/installs.csv.gzip', compression = 'gzip')\n",
    "events = pd.read_csv('data/events.csv.gzip', compression='gzip', low_memory = False)\n",
    "clicks = pd.read_csv('data/clicks.csv.gzip', compression = 'gzip', low_memory = False, dtype=dtypes_clk)"
   ]
  },
  {
   "cell_type": "markdown",
   "metadata": {},
   "source": [
    "### Se van a eliminar algunas columnas que no continen datos relevantes"
   ]
  },
  {
   "cell_type": "code",
   "execution_count": 227,
   "metadata": {},
   "outputs": [],
   "source": [
    "auct = auctions[['country', 'date', 'device_id', 'platform', 'ref_type_id', 'source_id']]\n",
    "inst = installs[['created', 'application_id', 'ref_type', 'ref_hash', 'implicit', 'device_model', 'session_user_agent', 'user_agent', \\\n",
    "                 'wifi', 'ip_address', 'device_language']]\n",
    "evnt = events.drop(['trans_id', 'device_countrycode'], axis = 'columns')\n",
    "clk = clicks.drop(['action_id', 'agent_device', 'brand'], axis = 'columns')"
   ]
  },
  {
   "cell_type": "markdown",
   "metadata": {},
   "source": [
    "installs -> user_agent y wifi son 1/2 null\n",
    "events -> device_os_version, device_brand, device_city, user_agent, carrier, device_os, wifi y connection_type tienen muchos null"
   ]
  },
  {
   "cell_type": "code",
   "execution_count": 228,
   "metadata": {},
   "outputs": [
    {
     "data": {
      "text/html": [
       "<div>\n",
       "<style scoped>\n",
       "    .dataframe tbody tr th:only-of-type {\n",
       "        vertical-align: middle;\n",
       "    }\n",
       "\n",
       "    .dataframe tbody tr th {\n",
       "        vertical-align: top;\n",
       "    }\n",
       "\n",
       "    .dataframe thead th {\n",
       "        text-align: right;\n",
       "    }\n",
       "</style>\n",
       "<table border=\"1\" class=\"dataframe\">\n",
       "  <thead>\n",
       "    <tr style=\"text-align: right;\">\n",
       "      <th></th>\n",
       "      <th>0</th>\n",
       "    </tr>\n",
       "  </thead>\n",
       "  <tbody>\n",
       "    <tr>\n",
       "      <th>country</th>\n",
       "      <td>6333597102633388268</td>\n",
       "    </tr>\n",
       "    <tr>\n",
       "      <th>date</th>\n",
       "      <td>2019-03-11 14:18:33.290763</td>\n",
       "    </tr>\n",
       "    <tr>\n",
       "      <th>device_id</th>\n",
       "      <td>6059599345986491085</td>\n",
       "    </tr>\n",
       "    <tr>\n",
       "      <th>platform</th>\n",
       "      <td>1</td>\n",
       "    </tr>\n",
       "    <tr>\n",
       "      <th>ref_type_id</th>\n",
       "      <td>1</td>\n",
       "    </tr>\n",
       "    <tr>\n",
       "      <th>source_id</th>\n",
       "      <td>0</td>\n",
       "    </tr>\n",
       "  </tbody>\n",
       "</table>\n",
       "</div>"
      ],
      "text/plain": [
       "                                      0\n",
       "country             6333597102633388268\n",
       "date         2019-03-11 14:18:33.290763\n",
       "device_id           6059599345986491085\n",
       "platform                              1\n",
       "ref_type_id                           1\n",
       "source_id                             0"
      ]
     },
     "execution_count": 228,
     "metadata": {},
     "output_type": "execute_result"
    }
   ],
   "source": [
    "auct.head(1).T"
   ]
  },
  {
   "cell_type": "code",
   "execution_count": 229,
   "metadata": {},
   "outputs": [
    {
     "data": {
      "text/html": [
       "<div>\n",
       "<style scoped>\n",
       "    .dataframe tbody tr th:only-of-type {\n",
       "        vertical-align: middle;\n",
       "    }\n",
       "\n",
       "    .dataframe tbody tr th {\n",
       "        vertical-align: top;\n",
       "    }\n",
       "\n",
       "    .dataframe thead th {\n",
       "        text-align: right;\n",
       "    }\n",
       "</style>\n",
       "<table border=\"1\" class=\"dataframe\">\n",
       "  <thead>\n",
       "    <tr style=\"text-align: right;\">\n",
       "      <th></th>\n",
       "      <th>0</th>\n",
       "    </tr>\n",
       "  </thead>\n",
       "  <tbody>\n",
       "    <tr>\n",
       "      <th>created</th>\n",
       "      <td>2019-03-13 01:43:33.445</td>\n",
       "    </tr>\n",
       "    <tr>\n",
       "      <th>application_id</th>\n",
       "      <td>0</td>\n",
       "    </tr>\n",
       "    <tr>\n",
       "      <th>ref_type</th>\n",
       "      <td>1891515180541284343</td>\n",
       "    </tr>\n",
       "    <tr>\n",
       "      <th>ref_hash</th>\n",
       "      <td>8464844987297247076</td>\n",
       "    </tr>\n",
       "    <tr>\n",
       "      <th>implicit</th>\n",
       "      <td>False</td>\n",
       "    </tr>\n",
       "    <tr>\n",
       "      <th>device_model</th>\n",
       "      <td>4.44525e+18</td>\n",
       "    </tr>\n",
       "    <tr>\n",
       "      <th>session_user_agent</th>\n",
       "      <td>NaN</td>\n",
       "    </tr>\n",
       "    <tr>\n",
       "      <th>user_agent</th>\n",
       "      <td>NaN</td>\n",
       "    </tr>\n",
       "    <tr>\n",
       "      <th>wifi</th>\n",
       "      <td>NaN</td>\n",
       "    </tr>\n",
       "    <tr>\n",
       "      <th>ip_address</th>\n",
       "      <td>5529284367937637301</td>\n",
       "    </tr>\n",
       "    <tr>\n",
       "      <th>device_language</th>\n",
       "      <td>NaN</td>\n",
       "    </tr>\n",
       "  </tbody>\n",
       "</table>\n",
       "</div>"
      ],
      "text/plain": [
       "                                          0\n",
       "created             2019-03-13 01:43:33.445\n",
       "application_id                            0\n",
       "ref_type                1891515180541284343\n",
       "ref_hash                8464844987297247076\n",
       "implicit                              False\n",
       "device_model                    4.44525e+18\n",
       "session_user_agent                      NaN\n",
       "user_agent                              NaN\n",
       "wifi                                    NaN\n",
       "ip_address              5529284367937637301\n",
       "device_language                         NaN"
      ]
     },
     "execution_count": 229,
     "metadata": {},
     "output_type": "execute_result"
    }
   ],
   "source": [
    "inst.head(1).T"
   ]
  },
  {
   "cell_type": "code",
   "execution_count": 230,
   "metadata": {},
   "outputs": [
    {
     "data": {
      "text/html": [
       "<div>\n",
       "<style scoped>\n",
       "    .dataframe tbody tr th:only-of-type {\n",
       "        vertical-align: middle;\n",
       "    }\n",
       "\n",
       "    .dataframe tbody tr th {\n",
       "        vertical-align: top;\n",
       "    }\n",
       "\n",
       "    .dataframe thead th {\n",
       "        text-align: right;\n",
       "    }\n",
       "</style>\n",
       "<table border=\"1\" class=\"dataframe\">\n",
       "  <thead>\n",
       "    <tr style=\"text-align: right;\">\n",
       "      <th></th>\n",
       "      <th>0</th>\n",
       "    </tr>\n",
       "  </thead>\n",
       "  <tbody>\n",
       "    <tr>\n",
       "      <th>date</th>\n",
       "      <td>2019-03-05 00:09:36.966</td>\n",
       "    </tr>\n",
       "    <tr>\n",
       "      <th>event_id</th>\n",
       "      <td>0</td>\n",
       "    </tr>\n",
       "    <tr>\n",
       "      <th>ref_type</th>\n",
       "      <td>1891515180541284343</td>\n",
       "    </tr>\n",
       "    <tr>\n",
       "      <th>ref_hash</th>\n",
       "      <td>2688759737656491380</td>\n",
       "    </tr>\n",
       "    <tr>\n",
       "      <th>application_id</th>\n",
       "      <td>38</td>\n",
       "    </tr>\n",
       "    <tr>\n",
       "      <th>attributed</th>\n",
       "      <td>False</td>\n",
       "    </tr>\n",
       "    <tr>\n",
       "      <th>device_os_version</th>\n",
       "      <td>5.9087e+17</td>\n",
       "    </tr>\n",
       "    <tr>\n",
       "      <th>device_brand</th>\n",
       "      <td>NaN</td>\n",
       "    </tr>\n",
       "    <tr>\n",
       "      <th>device_model</th>\n",
       "      <td>5.99012e+18</td>\n",
       "    </tr>\n",
       "    <tr>\n",
       "      <th>device_city</th>\n",
       "      <td>3.25822e+18</td>\n",
       "    </tr>\n",
       "    <tr>\n",
       "      <th>session_user_agent</th>\n",
       "      <td>7.16432e+18</td>\n",
       "    </tr>\n",
       "    <tr>\n",
       "      <th>user_agent</th>\n",
       "      <td>NaN</td>\n",
       "    </tr>\n",
       "    <tr>\n",
       "      <th>event_uuid</th>\n",
       "      <td>a9c0b263-acb2-4577-92c5-cbde5d7a5db1</td>\n",
       "    </tr>\n",
       "    <tr>\n",
       "      <th>carrier</th>\n",
       "      <td>2.24816e+17</td>\n",
       "    </tr>\n",
       "    <tr>\n",
       "      <th>kind</th>\n",
       "      <td>5.51662e+18</td>\n",
       "    </tr>\n",
       "    <tr>\n",
       "      <th>device_os</th>\n",
       "      <td>7.53167e+18</td>\n",
       "    </tr>\n",
       "    <tr>\n",
       "      <th>wifi</th>\n",
       "      <td>NaN</td>\n",
       "    </tr>\n",
       "    <tr>\n",
       "      <th>connection_type</th>\n",
       "      <td>Cable/DSL</td>\n",
       "    </tr>\n",
       "    <tr>\n",
       "      <th>ip_address</th>\n",
       "      <td>7858558567428669000</td>\n",
       "    </tr>\n",
       "    <tr>\n",
       "      <th>device_language</th>\n",
       "      <td>4.07706e+17</td>\n",
       "    </tr>\n",
       "  </tbody>\n",
       "</table>\n",
       "</div>"
      ],
      "text/plain": [
       "                                                       0\n",
       "date                             2019-03-05 00:09:36.966\n",
       "event_id                                               0\n",
       "ref_type                             1891515180541284343\n",
       "ref_hash                             2688759737656491380\n",
       "application_id                                        38\n",
       "attributed                                         False\n",
       "device_os_version                             5.9087e+17\n",
       "device_brand                                         NaN\n",
       "device_model                                 5.99012e+18\n",
       "device_city                                  3.25822e+18\n",
       "session_user_agent                           7.16432e+18\n",
       "user_agent                                           NaN\n",
       "event_uuid          a9c0b263-acb2-4577-92c5-cbde5d7a5db1\n",
       "carrier                                      2.24816e+17\n",
       "kind                                         5.51662e+18\n",
       "device_os                                    7.53167e+18\n",
       "wifi                                                 NaN\n",
       "connection_type                                Cable/DSL\n",
       "ip_address                           7858558567428669000\n",
       "device_language                              4.07706e+17"
      ]
     },
     "execution_count": 230,
     "metadata": {},
     "output_type": "execute_result"
    }
   ],
   "source": [
    "evnt.head(1).T"
   ]
  },
  {
   "cell_type": "code",
   "execution_count": 231,
   "metadata": {},
   "outputs": [
    {
     "data": {
      "text/html": [
       "<div>\n",
       "<style scoped>\n",
       "    .dataframe tbody tr th:only-of-type {\n",
       "        vertical-align: middle;\n",
       "    }\n",
       "\n",
       "    .dataframe tbody tr th {\n",
       "        vertical-align: top;\n",
       "    }\n",
       "\n",
       "    .dataframe thead th {\n",
       "        text-align: right;\n",
       "    }\n",
       "</style>\n",
       "<table border=\"1\" class=\"dataframe\">\n",
       "  <thead>\n",
       "    <tr style=\"text-align: right;\">\n",
       "      <th></th>\n",
       "      <th>0</th>\n",
       "    </tr>\n",
       "  </thead>\n",
       "  <tbody>\n",
       "    <tr>\n",
       "      <th>advertiser_id</th>\n",
       "      <td>2</td>\n",
       "    </tr>\n",
       "    <tr>\n",
       "      <th>source_id</th>\n",
       "      <td>4</td>\n",
       "    </tr>\n",
       "    <tr>\n",
       "      <th>created</th>\n",
       "      <td>2019-03-06T22:42:12.755Z</td>\n",
       "    </tr>\n",
       "    <tr>\n",
       "      <th>country_code</th>\n",
       "      <td>6333597102633388268</td>\n",
       "    </tr>\n",
       "    <tr>\n",
       "      <th>latitude</th>\n",
       "      <td>1.20605</td>\n",
       "    </tr>\n",
       "    <tr>\n",
       "      <th>longitude</th>\n",
       "      <td>1.07031</td>\n",
       "    </tr>\n",
       "    <tr>\n",
       "      <th>wifi_connection</th>\n",
       "      <td>False</td>\n",
       "    </tr>\n",
       "    <tr>\n",
       "      <th>carrier_id</th>\n",
       "      <td>1</td>\n",
       "    </tr>\n",
       "    <tr>\n",
       "      <th>trans_id</th>\n",
       "      <td>iGgClCM9exiHF4K31g94XmvHEBSLKIY</td>\n",
       "    </tr>\n",
       "    <tr>\n",
       "      <th>os_minor</th>\n",
       "      <td>6.76814e+18</td>\n",
       "    </tr>\n",
       "    <tr>\n",
       "      <th>os_major</th>\n",
       "      <td>3.07285e+18</td>\n",
       "    </tr>\n",
       "    <tr>\n",
       "      <th>specs_brand</th>\n",
       "      <td>2733035977666442898</td>\n",
       "    </tr>\n",
       "    <tr>\n",
       "      <th>timeToClick</th>\n",
       "      <td>1.563</td>\n",
       "    </tr>\n",
       "    <tr>\n",
       "      <th>touchX</th>\n",
       "      <td>0.904785</td>\n",
       "    </tr>\n",
       "    <tr>\n",
       "      <th>touchY</th>\n",
       "      <td>0.0780029</td>\n",
       "    </tr>\n",
       "    <tr>\n",
       "      <th>ref_type</th>\n",
       "      <td>1891515180541284343</td>\n",
       "    </tr>\n",
       "    <tr>\n",
       "      <th>ref_hash</th>\n",
       "      <td>1904083516767779093</td>\n",
       "    </tr>\n",
       "  </tbody>\n",
       "</table>\n",
       "</div>"
      ],
      "text/plain": [
       "                                               0\n",
       "advertiser_id                                  2\n",
       "source_id                                      4\n",
       "created                 2019-03-06T22:42:12.755Z\n",
       "country_code                 6333597102633388268\n",
       "latitude                                 1.20605\n",
       "longitude                                1.07031\n",
       "wifi_connection                            False\n",
       "carrier_id                                     1\n",
       "trans_id         iGgClCM9exiHF4K31g94XmvHEBSLKIY\n",
       "os_minor                             6.76814e+18\n",
       "os_major                             3.07285e+18\n",
       "specs_brand                  2733035977666442898\n",
       "timeToClick                                1.563\n",
       "touchX                                  0.904785\n",
       "touchY                                 0.0780029\n",
       "ref_type                     1891515180541284343\n",
       "ref_hash                     1904083516767779093"
      ]
     },
     "execution_count": 231,
     "metadata": {},
     "output_type": "execute_result"
    }
   ],
   "source": [
    "clk.head(1).T"
   ]
  },
  {
   "cell_type": "code",
   "execution_count": 232,
   "metadata": {},
   "outputs": [],
   "source": [
    "events['date'] = pd.to_datetime(events['date'])\n",
    "installs['created'] = pd.to_datetime(installs['created'])\n",
    "auctions['date'] = pd.to_datetime(auctions['date'])\n",
    "clicks['created'] = pd.to_datetime(clicks['created'])"
   ]
  },
  {
   "cell_type": "code",
   "execution_count": 233,
   "metadata": {},
   "outputs": [],
   "source": [
    "events['hour'] = events['date'].dt.hour\n",
    "installs['hour'] = installs['created'].dt.hour\n",
    "auctions['hour'] = auctions['date'].dt.hour\n",
    "clicks['hour'] = clicks['created'].dt.hour"
   ]
  },
  {
   "cell_type": "markdown",
   "metadata": {},
   "source": [
    "## 1 - Comparacion events, installs, clicks y auctions por hora"
   ]
  },
  {
   "cell_type": "code",
   "execution_count": 234,
   "metadata": {},
   "outputs": [],
   "source": [
    "evnt_hora = events.groupby('hour').agg({'hour':'count'})"
   ]
  },
  {
   "cell_type": "code",
   "execution_count": 235,
   "metadata": {},
   "outputs": [],
   "source": [
    "evnt_hora.columns = ['count_events']"
   ]
  },
  {
   "cell_type": "code",
   "execution_count": 236,
   "metadata": {},
   "outputs": [],
   "source": [
    "inst_hora = installs.groupby('hour').agg({'hour':'count'})"
   ]
  },
  {
   "cell_type": "code",
   "execution_count": 237,
   "metadata": {},
   "outputs": [],
   "source": [
    "inst_hora.columns = ['count_installs']"
   ]
  },
  {
   "cell_type": "code",
   "execution_count": 238,
   "metadata": {},
   "outputs": [],
   "source": [
    "clk_hora = clicks.groupby('hour').agg({'hour':'count'})"
   ]
  },
  {
   "cell_type": "code",
   "execution_count": 239,
   "metadata": {},
   "outputs": [],
   "source": [
    "clk_hora.columns = ['count_clicks']"
   ]
  },
  {
   "cell_type": "code",
   "execution_count": 240,
   "metadata": {},
   "outputs": [],
   "source": [
    "auct_hora = auctions.groupby('hour').agg({'hour':'count'})"
   ]
  },
  {
   "cell_type": "code",
   "execution_count": 241,
   "metadata": {},
   "outputs": [],
   "source": [
    "auct_hora.columns = ['count_auctions']"
   ]
  },
  {
   "cell_type": "code",
   "execution_count": 242,
   "metadata": {},
   "outputs": [],
   "source": [
    "merged1 = evnt_hora.join(inst_hora, on = 'hour')"
   ]
  },
  {
   "cell_type": "code",
   "execution_count": 243,
   "metadata": {},
   "outputs": [],
   "source": [
    "merged1 = merged1.join(clk_hora, on = 'hour')"
   ]
  },
  {
   "cell_type": "code",
   "execution_count": 244,
   "metadata": {},
   "outputs": [],
   "source": [
    "merged1 = merged1.join(auct_hora, on = 'hour')"
   ]
  },
  {
   "cell_type": "code",
   "execution_count": 245,
   "metadata": {},
   "outputs": [
    {
     "data": {
      "image/png": "[encoded data removed]",
      "text/plain": [
       "<Figure size 1224x792 with 1 Axes>"
      ]
     },
     "metadata": {
      "needs_background": "light"
     },
     "output_type": "display_data"
    }
   ],
   "source": [
    "grph1 = merged1.plot.barh(figsize = (17,11), rot = 0, title = 'Comparacion por hora')\n",
    "grph1.set_ylabel('Horas')\n",
    "grph1.set_xlabel('Cantidad ocurrencias')\n",
    "grph1.set_xscale('log')\n",
    "grph1.legend([\"Events\", \"Installs\", \"Clicks\", \"Auctions\"]);"
   ]
  },
  {
   "cell_type": "code",
   "execution_count": 246,
   "metadata": {},
   "outputs": [],
   "source": [
    "merged2 = merged1.loc[[4,5,6,7,8,9,10,11]]"
   ]
  },
  {
   "cell_type": "code",
   "execution_count": 247,
   "metadata": {},
   "outputs": [
    {
     "data": {
      "image/png": "[encoded data removed]",
      "text/plain": [
       "<Figure size 1080x576 with 1 Axes>"
      ]
     },
     "metadata": {
      "needs_background": "light"
     },
     "output_type": "display_data"
    }
   ],
   "source": [
    "grph2 = merged2.plot.bar(figsize = (15,8), rot = 0, title = 'Comparacion por hora (menos populares)', style = 'o--')\n",
    "grph2.set_ylabel('Cantidad ocurrencias')\n",
    "grph2.set_xlabel('Horas')\n",
    "grph2.set_yscale('log')\n",
    "grph2.legend([\"Events\", \"Installs\", \"Clicks\", \"Auctions\"]);"
   ]
  },
  {
   "cell_type": "code",
   "execution_count": 248,
   "metadata": {},
   "outputs": [
    {
     "data": {
      "image/png": "[encoded data removed]",
      "text/plain": [
       "<Figure size 1080x576 with 2 Axes>"
      ]
     },
     "metadata": {
      "needs_background": "light"
     },
     "output_type": "display_data"
    }
   ],
   "source": [
    "fig, ax = plt.subplots()\n",
    "ax2 = ax.twiny()\n",
    "merged2.plot(kind='bar', ax=ax, figsize = (15,8), rot = 0, title = 'Comparacion por hora (menos populares)')\n",
    "merged2.plot(kind='line',ax=ax2,linewidth = 3, style = '--', legend = False)\n",
    "ax2.xaxis.get_major_formatter().set_useOffset(False)\n",
    "ax2.set_xticklabels([])\n",
    "ax2.set_xlabel('')\n",
    "ax.set_yscale('log')\n",
    "ax.set_xlabel('Horas')\n",
    "ax.set_ylabel('Cantidad de ocurrencias')\n",
    "ax.legend([\"Events\", \"Installs\", \"Clicks\", \"Auctions\"])\n",
    "plt.show()"
   ]
  },
  {
   "cell_type": "markdown",
   "metadata": {},
   "source": [
    "## 2. Relacion click-install"
   ]
  },
  {
   "cell_type": "markdown",
   "metadata": {},
   "source": [
    "#### Pregunta: ¿De los usuarios que hicieron click, cuantos instalaron la aplicacion?"
   ]
  },
  {
   "cell_type": "code",
   "execution_count": 89,
   "metadata": {},
   "outputs": [],
   "source": [
    "#installs = pd.read_csv('data/installs.csv.gzip', compression = 'gzip')\n",
    "#clicks = pd.read_csv('data/clicks.csv.gzip', compression = 'gzip', low_memory = False, dtype=dtypes_clk)"
   ]
  },
  {
   "cell_type": "code",
   "execution_count": 90,
   "metadata": {},
   "outputs": [],
   "source": [
    "#inst = installs[['created', 'application_id', 'ref_type', 'ref_hash', 'implicit', 'device_model', 'session_user_agent', 'user_agent', \\\n",
    "#                 'wifi', 'ip_address', 'device_language']]\n",
    "#clk = clicks.drop(['action_id', 'agent_device', 'brand'], axis = 'columns')\n",
    "\n",
    "#Use esto para no volver a importar todo"
   ]
  },
  {
   "cell_type": "code",
   "execution_count": 91,
   "metadata": {},
   "outputs": [],
   "source": [
    "clkcount = clk.groupby('ref_hash').agg({'ref_hash' : 'count'})"
   ]
  },
  {
   "cell_type": "code",
   "execution_count": 92,
   "metadata": {},
   "outputs": [
    {
     "data": {
      "text/plain": [
       "17119"
      ]
     },
     "execution_count": 92,
     "metadata": {},
     "output_type": "execute_result"
    }
   ],
   "source": [
    "len(clkcount)"
   ]
  },
  {
   "cell_type": "code",
   "execution_count": 93,
   "metadata": {},
   "outputs": [],
   "source": [
    "clkcount = clkcount.rename(columns={'ref_hash':'cant_clicks'}).reset_index()"
   ]
  },
  {
   "cell_type": "code",
   "execution_count": 94,
   "metadata": {},
   "outputs": [
    {
     "data": {
      "text/html": [
       "<div>\n",
       "<style scoped>\n",
       "    .dataframe tbody tr th:only-of-type {\n",
       "        vertical-align: middle;\n",
       "    }\n",
       "\n",
       "    .dataframe tbody tr th {\n",
       "        vertical-align: top;\n",
       "    }\n",
       "\n",
       "    .dataframe thead th {\n",
       "        text-align: right;\n",
       "    }\n",
       "</style>\n",
       "<table border=\"1\" class=\"dataframe\">\n",
       "  <thead>\n",
       "    <tr style=\"text-align: right;\">\n",
       "      <th></th>\n",
       "      <th>ref_hash</th>\n",
       "      <th>cant_clicks</th>\n",
       "    </tr>\n",
       "  </thead>\n",
       "  <tbody>\n",
       "    <tr>\n",
       "      <th>7487</th>\n",
       "      <td>4063522808706112974</td>\n",
       "      <td>41</td>\n",
       "    </tr>\n",
       "    <tr>\n",
       "      <th>12676</th>\n",
       "      <td>6841615430383729819</td>\n",
       "      <td>32</td>\n",
       "    </tr>\n",
       "    <tr>\n",
       "      <th>2374</th>\n",
       "      <td>1244272413279716745</td>\n",
       "      <td>26</td>\n",
       "    </tr>\n",
       "    <tr>\n",
       "      <th>2794</th>\n",
       "      <td>1486699123421703687</td>\n",
       "      <td>21</td>\n",
       "    </tr>\n",
       "    <tr>\n",
       "      <th>1687</th>\n",
       "      <td>871778630200697460</td>\n",
       "      <td>21</td>\n",
       "    </tr>\n",
       "  </tbody>\n",
       "</table>\n",
       "</div>"
      ],
      "text/plain": [
       "                  ref_hash  cant_clicks\n",
       "7487   4063522808706112974           41\n",
       "12676  6841615430383729819           32\n",
       "2374   1244272413279716745           26\n",
       "2794   1486699123421703687           21\n",
       "1687    871778630200697460           21"
      ]
     },
     "execution_count": 94,
     "metadata": {},
     "output_type": "execute_result"
    }
   ],
   "source": [
    "clkcount.sort_values('cant_clicks', ascending = False).head()"
   ]
  },
  {
   "cell_type": "code",
   "execution_count": 95,
   "metadata": {},
   "outputs": [],
   "source": [
    "instcount = inst.groupby('ref_hash').agg({'ref_hash' : 'count'})"
   ]
  },
  {
   "cell_type": "code",
   "execution_count": 96,
   "metadata": {},
   "outputs": [],
   "source": [
    "instcount = instcount.rename(columns={'ref_hash':'cant_installs'}).reset_index()"
   ]
  },
  {
   "cell_type": "code",
   "execution_count": 97,
   "metadata": {},
   "outputs": [],
   "source": [
    "merged_cl_in = instcount.merge(clkcount, on = 'ref_hash', how = 'left')"
   ]
  },
  {
   "cell_type": "code",
   "execution_count": 98,
   "metadata": {},
   "outputs": [
    {
     "data": {
      "text/plain": [
       "3001"
      ]
     },
     "execution_count": 98,
     "metadata": {},
     "output_type": "execute_result"
    }
   ],
   "source": [
    "merged_cl_in['cant_clicks'].isna().sum()"
   ]
  },
  {
   "cell_type": "code",
   "execution_count": 103,
   "metadata": {},
   "outputs": [
    {
     "data": {
      "text/html": [
       "<div>\n",
       "<style scoped>\n",
       "    .dataframe tbody tr th:only-of-type {\n",
       "        vertical-align: middle;\n",
       "    }\n",
       "\n",
       "    .dataframe tbody tr th {\n",
       "        vertical-align: top;\n",
       "    }\n",
       "\n",
       "    .dataframe thead th {\n",
       "        text-align: right;\n",
       "    }\n",
       "</style>\n",
       "<table border=\"1\" class=\"dataframe\">\n",
       "  <thead>\n",
       "    <tr style=\"text-align: right;\">\n",
       "      <th></th>\n",
       "      <th>ref_hash</th>\n",
       "      <th>cant_installs</th>\n",
       "      <th>cant_clicks</th>\n",
       "    </tr>\n",
       "  </thead>\n",
       "  <tbody>\n",
       "    <tr>\n",
       "      <th>192</th>\n",
       "      <td>582930240149217282</td>\n",
       "      <td>1</td>\n",
       "      <td>4.0</td>\n",
       "    </tr>\n",
       "    <tr>\n",
       "      <th>422</th>\n",
       "      <td>1254317779988816837</td>\n",
       "      <td>1</td>\n",
       "      <td>1.0</td>\n",
       "    </tr>\n",
       "    <tr>\n",
       "      <th>793</th>\n",
       "      <td>2369915544093215150</td>\n",
       "      <td>1</td>\n",
       "      <td>1.0</td>\n",
       "    </tr>\n",
       "    <tr>\n",
       "      <th>1209</th>\n",
       "      <td>3685364020547088390</td>\n",
       "      <td>1</td>\n",
       "      <td>1.0</td>\n",
       "    </tr>\n",
       "    <tr>\n",
       "      <th>2355</th>\n",
       "      <td>7190737170444985036</td>\n",
       "      <td>1</td>\n",
       "      <td>1.0</td>\n",
       "    </tr>\n",
       "    <tr>\n",
       "      <th>2532</th>\n",
       "      <td>7759178785240189555</td>\n",
       "      <td>1</td>\n",
       "      <td>2.0</td>\n",
       "    </tr>\n",
       "    <tr>\n",
       "      <th>2666</th>\n",
       "      <td>8187571300120427764</td>\n",
       "      <td>1</td>\n",
       "      <td>1.0</td>\n",
       "    </tr>\n",
       "  </tbody>\n",
       "</table>\n",
       "</div>"
      ],
      "text/plain": [
       "                 ref_hash  cant_installs  cant_clicks\n",
       "192    582930240149217282              1          4.0\n",
       "422   1254317779988816837              1          1.0\n",
       "793   2369915544093215150              1          1.0\n",
       "1209  3685364020547088390              1          1.0\n",
       "2355  7190737170444985036              1          1.0\n",
       "2532  7759178785240189555              1          2.0\n",
       "2666  8187571300120427764              1          1.0"
      ]
     },
     "execution_count": 103,
     "metadata": {},
     "output_type": "execute_result"
    }
   ],
   "source": [
    "merged_cl_in = merged_cl_in.dropna()\n",
    "merged_cl_in"
   ]
  },
  {
   "cell_type": "code",
   "execution_count": 104,
   "metadata": {},
   "outputs": [
    {
     "data": {
      "text/plain": [
       "7"
      ]
     },
     "execution_count": 104,
     "metadata": {},
     "output_type": "execute_result"
    }
   ],
   "source": [
    "len(merged_cl_in)"
   ]
  },
  {
   "cell_type": "markdown",
   "metadata": {},
   "source": [
    "### Se ve entonces que de un numero tan elevado de clicks unicos (17119 usuarios diferentes) tan solo 7 de ellos instalaron la aplicacion que se publicita."
   ]
  },
  {
   "cell_type": "markdown",
   "metadata": {},
   "source": [
    "#### Es ademas notorio que ninguno de ellos hizo una gran cantidad de clicks en las publicidades, por lo menos en comparacion los usuarios que hicieron clicks mas veces."
   ]
  }
 ],
 "metadata": {
  "kernelspec": {
   "display_name": "Python 3",
   "language": "python",
   "name": "python3"
  },
  "language_info": {
   "codemirror_mode": {
    "name": "ipython",
    "version": 3
   },
   "file_extension": ".py",
   "mimetype": "text/x-python",
   "name": "python",
   "nbconvert_exporter": "python",
   "pygments_lexer": "ipython3",
   "version": "3.7.1"
  }
 },
 "nbformat": 4,
 "nbformat_minor": 2
}
