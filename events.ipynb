{
 "cells": [
  {
   "cell_type": "code",
   "execution_count": 1,
   "metadata": {},
   "outputs": [],
   "source": [
    "import pandas as pd\n",
    "import numpy as np\n",
    "import matplotlib.pyplot as plt\n",
    "import seaborn as sns\n",
    "from pywaffle import Waffle  # pip install pywaffle\n",
    "\n",
    "%matplotlib inline"
   ]
  },
  {
   "cell_type": "code",
   "execution_count": 2,
   "metadata": {},
   "outputs": [],
   "source": [
    "events = pd.read_csv('data/events.csv.gzip', compression='gzip', low_memory = False)"
   ]
  },
  {
   "cell_type": "markdown",
   "metadata": {},
   "source": [
    "## **Analisis inicial**"
   ]
  },
  {
   "cell_type": "code",
   "execution_count": 3,
   "metadata": {},
   "outputs": [
    {
     "data": {
      "text/html": [
       "<div>\n",
       "<style scoped>\n",
       "    .dataframe tbody tr th:only-of-type {\n",
       "        vertical-align: middle;\n",
       "    }\n",
       "\n",
       "    .dataframe tbody tr th {\n",
       "        vertical-align: top;\n",
       "    }\n",
       "\n",
       "    .dataframe thead th {\n",
       "        text-align: right;\n",
       "    }\n",
       "</style>\n",
       "<table border=\"1\" class=\"dataframe\">\n",
       "  <thead>\n",
       "    <tr style=\"text-align: right;\">\n",
       "      <th></th>\n",
       "      <th>date</th>\n",
       "      <th>event_id</th>\n",
       "      <th>ref_type</th>\n",
       "      <th>ref_hash</th>\n",
       "      <th>application_id</th>\n",
       "      <th>attributed</th>\n",
       "      <th>device_countrycode</th>\n",
       "      <th>device_os_version</th>\n",
       "      <th>device_brand</th>\n",
       "      <th>device_model</th>\n",
       "      <th>...</th>\n",
       "      <th>trans_id</th>\n",
       "      <th>user_agent</th>\n",
       "      <th>event_uuid</th>\n",
       "      <th>carrier</th>\n",
       "      <th>kind</th>\n",
       "      <th>device_os</th>\n",
       "      <th>wifi</th>\n",
       "      <th>connection_type</th>\n",
       "      <th>ip_address</th>\n",
       "      <th>device_language</th>\n",
       "    </tr>\n",
       "  </thead>\n",
       "  <tbody>\n",
       "    <tr>\n",
       "      <th>0</th>\n",
       "      <td>2019-03-05 00:09:36.966</td>\n",
       "      <td>0</td>\n",
       "      <td>1891515180541284343</td>\n",
       "      <td>2688759737656491380</td>\n",
       "      <td>38</td>\n",
       "      <td>False</td>\n",
       "      <td>6333597102633388268</td>\n",
       "      <td>5.908703e+17</td>\n",
       "      <td>NaN</td>\n",
       "      <td>5.990117e+18</td>\n",
       "      <td>...</td>\n",
       "      <td>NaN</td>\n",
       "      <td>NaN</td>\n",
       "      <td>a9c0b263-acb2-4577-92c5-cbde5d7a5db1</td>\n",
       "      <td>2.248157e+17</td>\n",
       "      <td>5.516623e+18</td>\n",
       "      <td>7.531669e+18</td>\n",
       "      <td>NaN</td>\n",
       "      <td>Cable/DSL</td>\n",
       "      <td>7858558567428669000</td>\n",
       "      <td>4.077062e+17</td>\n",
       "    </tr>\n",
       "    <tr>\n",
       "      <th>1</th>\n",
       "      <td>2019-03-05 00:09:38.920</td>\n",
       "      <td>1</td>\n",
       "      <td>1891515180541284343</td>\n",
       "      <td>2688759737656491380</td>\n",
       "      <td>38</td>\n",
       "      <td>False</td>\n",
       "      <td>6333597102633388268</td>\n",
       "      <td>5.908703e+17</td>\n",
       "      <td>NaN</td>\n",
       "      <td>5.990117e+18</td>\n",
       "      <td>...</td>\n",
       "      <td>NaN</td>\n",
       "      <td>NaN</td>\n",
       "      <td>1cd98205-0d97-4ec2-a019-667997dbfe7a</td>\n",
       "      <td>2.248157e+17</td>\n",
       "      <td>9.977660e+17</td>\n",
       "      <td>7.531669e+18</td>\n",
       "      <td>NaN</td>\n",
       "      <td>Cable/DSL</td>\n",
       "      <td>7858558567428669000</td>\n",
       "      <td>4.077062e+17</td>\n",
       "    </tr>\n",
       "    <tr>\n",
       "      <th>2</th>\n",
       "      <td>2019-03-05 00:09:26.195</td>\n",
       "      <td>0</td>\n",
       "      <td>1891515180541284343</td>\n",
       "      <td>2688759737656491380</td>\n",
       "      <td>38</td>\n",
       "      <td>False</td>\n",
       "      <td>6333597102633388268</td>\n",
       "      <td>5.908703e+17</td>\n",
       "      <td>NaN</td>\n",
       "      <td>5.990117e+18</td>\n",
       "      <td>...</td>\n",
       "      <td>NaN</td>\n",
       "      <td>NaN</td>\n",
       "      <td>f02e2924-21ae-492b-b625-9021ae0a4eca</td>\n",
       "      <td>2.248157e+17</td>\n",
       "      <td>5.516623e+18</td>\n",
       "      <td>7.531669e+18</td>\n",
       "      <td>NaN</td>\n",
       "      <td>Cable/DSL</td>\n",
       "      <td>7858558567428669000</td>\n",
       "      <td>4.077062e+17</td>\n",
       "    </tr>\n",
       "    <tr>\n",
       "      <th>3</th>\n",
       "      <td>2019-03-05 00:09:31.107</td>\n",
       "      <td>2</td>\n",
       "      <td>1891515180541284343</td>\n",
       "      <td>2688759737656491380</td>\n",
       "      <td>38</td>\n",
       "      <td>False</td>\n",
       "      <td>6333597102633388268</td>\n",
       "      <td>5.908703e+17</td>\n",
       "      <td>NaN</td>\n",
       "      <td>5.990117e+18</td>\n",
       "      <td>...</td>\n",
       "      <td>NaN</td>\n",
       "      <td>NaN</td>\n",
       "      <td>a813cf45-a36e-4668-85e2-5395f1564e98</td>\n",
       "      <td>2.248157e+17</td>\n",
       "      <td>8.561153e+18</td>\n",
       "      <td>7.531669e+18</td>\n",
       "      <td>NaN</td>\n",
       "      <td>Cable/DSL</td>\n",
       "      <td>6324037615828123965</td>\n",
       "      <td>4.077062e+17</td>\n",
       "    </tr>\n",
       "    <tr>\n",
       "      <th>4</th>\n",
       "      <td>2019-03-09 21:00:36.585</td>\n",
       "      <td>3</td>\n",
       "      <td>1891515180541284343</td>\n",
       "      <td>2635154697734164782</td>\n",
       "      <td>38</td>\n",
       "      <td>False</td>\n",
       "      <td>6333597102633388268</td>\n",
       "      <td>7.391844e+18</td>\n",
       "      <td>NaN</td>\n",
       "      <td>5.960896e+18</td>\n",
       "      <td>...</td>\n",
       "      <td>NaN</td>\n",
       "      <td>NaN</td>\n",
       "      <td>63a4f0aa-e147-469f-8c55-4ca4f8d0e310</td>\n",
       "      <td>2.248157e+17</td>\n",
       "      <td>8.731902e+17</td>\n",
       "      <td>7.531669e+18</td>\n",
       "      <td>NaN</td>\n",
       "      <td>Cable/DSL</td>\n",
       "      <td>2894495631302821483</td>\n",
       "      <td>3.301378e+18</td>\n",
       "    </tr>\n",
       "  </tbody>\n",
       "</table>\n",
       "<p>5 rows × 22 columns</p>\n",
       "</div>"
      ],
      "text/plain": [
       "                      date  event_id             ref_type  \\\n",
       "0  2019-03-05 00:09:36.966         0  1891515180541284343   \n",
       "1  2019-03-05 00:09:38.920         1  1891515180541284343   \n",
       "2  2019-03-05 00:09:26.195         0  1891515180541284343   \n",
       "3  2019-03-05 00:09:31.107         2  1891515180541284343   \n",
       "4  2019-03-09 21:00:36.585         3  1891515180541284343   \n",
       "\n",
       "              ref_hash  application_id  attributed   device_countrycode  \\\n",
       "0  2688759737656491380              38       False  6333597102633388268   \n",
       "1  2688759737656491380              38       False  6333597102633388268   \n",
       "2  2688759737656491380              38       False  6333597102633388268   \n",
       "3  2688759737656491380              38       False  6333597102633388268   \n",
       "4  2635154697734164782              38       False  6333597102633388268   \n",
       "\n",
       "   device_os_version  device_brand  device_model       ...        trans_id  \\\n",
       "0       5.908703e+17           NaN  5.990117e+18       ...             NaN   \n",
       "1       5.908703e+17           NaN  5.990117e+18       ...             NaN   \n",
       "2       5.908703e+17           NaN  5.990117e+18       ...             NaN   \n",
       "3       5.908703e+17           NaN  5.990117e+18       ...             NaN   \n",
       "4       7.391844e+18           NaN  5.960896e+18       ...             NaN   \n",
       "\n",
       "   user_agent                            event_uuid       carrier  \\\n",
       "0         NaN  a9c0b263-acb2-4577-92c5-cbde5d7a5db1  2.248157e+17   \n",
       "1         NaN  1cd98205-0d97-4ec2-a019-667997dbfe7a  2.248157e+17   \n",
       "2         NaN  f02e2924-21ae-492b-b625-9021ae0a4eca  2.248157e+17   \n",
       "3         NaN  a813cf45-a36e-4668-85e2-5395f1564e98  2.248157e+17   \n",
       "4         NaN  63a4f0aa-e147-469f-8c55-4ca4f8d0e310  2.248157e+17   \n",
       "\n",
       "           kind     device_os  wifi  connection_type           ip_address  \\\n",
       "0  5.516623e+18  7.531669e+18   NaN        Cable/DSL  7858558567428669000   \n",
       "1  9.977660e+17  7.531669e+18   NaN        Cable/DSL  7858558567428669000   \n",
       "2  5.516623e+18  7.531669e+18   NaN        Cable/DSL  7858558567428669000   \n",
       "3  8.561153e+18  7.531669e+18   NaN        Cable/DSL  6324037615828123965   \n",
       "4  8.731902e+17  7.531669e+18   NaN        Cable/DSL  2894495631302821483   \n",
       "\n",
       "  device_language  \n",
       "0    4.077062e+17  \n",
       "1    4.077062e+17  \n",
       "2    4.077062e+17  \n",
       "3    4.077062e+17  \n",
       "4    3.301378e+18  \n",
       "\n",
       "[5 rows x 22 columns]"
      ]
     },
     "execution_count": 3,
     "metadata": {},
     "output_type": "execute_result"
    }
   ],
   "source": [
    "events.head()"
   ]
  },
  {
   "cell_type": "code",
   "execution_count": 4,
   "metadata": {},
   "outputs": [
    {
     "data": {
      "text/plain": [
       "2494423"
      ]
     },
     "execution_count": 4,
     "metadata": {},
     "output_type": "execute_result"
    }
   ],
   "source": [
    "len(events)"
   ]
  },
  {
   "cell_type": "code",
   "execution_count": 5,
   "metadata": {},
   "outputs": [
    {
     "data": {
      "text/plain": [
       "date                        0\n",
       "event_id                    0\n",
       "ref_type                    0\n",
       "ref_hash                    0\n",
       "application_id              0\n",
       "attributed                  0\n",
       "device_countrycode          0\n",
       "device_os_version     1472357\n",
       "device_brand          1329460\n",
       "device_model            87967\n",
       "device_city           1879725\n",
       "session_user_agent      11786\n",
       "trans_id              2494341\n",
       "user_agent            1102896\n",
       "event_uuid               5099\n",
       "carrier               1877989\n",
       "kind                     5099\n",
       "device_os             1836756\n",
       "wifi                  1115551\n",
       "connection_type       1881960\n",
       "ip_address                  0\n",
       "device_language         87819\n",
       "dtype: int64"
      ]
     },
     "execution_count": 5,
     "metadata": {},
     "output_type": "execute_result"
    }
   ],
   "source": [
    "events.isnull().sum()\n",
    "# trans_id es todo null\n",
    "# mientras que device_os_version, device_brand, device_city, user_agent, carrier, device_os, wifi y connection_type #\n",
    "# tienen un numero muy alto de nulls (pueden trabajarse los datos pero no seran totalmente representativos de la muestra) #"
   ]
  },
  {
   "cell_type": "code",
   "execution_count": 6,
   "metadata": {},
   "outputs": [],
   "source": [
    "# Hay que chequear todas las columnas para ver si son valores unicos"
   ]
  },
  {
   "cell_type": "markdown",
   "metadata": {},
   "source": [
    "## 1 - Cantidad eventos por device_brand"
   ]
  },
  {
   "cell_type": "code",
   "execution_count": 7,
   "metadata": {},
   "outputs": [],
   "source": [
    "events['cantidad'] = 1\n",
    "events_graficable = events.groupby('device_brand').agg({'device_brand':'count'})\n",
    "events_graficable.columns= ['cantidad']"
   ]
  },
  {
   "cell_type": "code",
   "execution_count": 8,
   "metadata": {},
   "outputs": [],
   "source": [
    "events_graficable = events_graficable.sort_values(by=['cantidad'],ascending=False)\n",
    "events_graficable = events_graficable.head(10)\n",
    "events_graficable['Alias'] = ['A','B','C','D','E','F','G','H','I','J']"
   ]
  },
  {
   "cell_type": "code",
   "execution_count": 9,
   "metadata": {},
   "outputs": [
    {
     "data": {
      "image/png": "[encoded data removed]",
      "text/plain": [
       "<Figure size 1080x720 with 1 Axes>"
      ]
     },
     "metadata": {
      "needs_background": "light"
     },
     "output_type": "display_data"
    }
   ],
   "source": [
    "graf = events_graficable.plot.bar(grid = True, x='Alias',figsize = (15,10))"
   ]
  },
  {
   "cell_type": "raw",
   "metadata": {},
   "source": [
    "A = 3.083059e+17\n",
    "B = 3.812621e+18\n",
    "C = 2.208835e+18\n",
    "D = 2.987569e+18\n",
    "E = 2.523246e+18\n",
    "F = 5.137992e+17\n",
    "G = 3.228516e+18\n",
    "H = 2.262848e+18\n",
    "I = 6.538562e+18\n",
    "J = 1.083369e+18"
   ]
  },
  {
   "cell_type": "markdown",
   "metadata": {},
   "source": [
    "## 2 - Comparacion de cantidad total y atribuida por device brand"
   ]
  },
  {
   "cell_type": "code",
   "execution_count": 11,
   "metadata": {},
   "outputs": [
    {
     "data": {
      "text/plain": [
       "False    2489324\n",
       "True        5099\n",
       "Name: attributed, dtype: int64"
      ]
     },
     "execution_count": 11,
     "metadata": {},
     "output_type": "execute_result"
    }
   ],
   "source": [
    "events['attributed'].value_counts()"
   ]
  },
  {
   "cell_type": "code",
   "execution_count": 12,
   "metadata": {},
   "outputs": [],
   "source": [
    "events_graficable2 = events.groupby('device_brand').agg({'device_brand':'count', 'attributed':'sum'})\n",
    "events_graficable2.columns= ['total', 'attributed']"
   ]
  },
  {
   "cell_type": "code",
   "execution_count": 14,
   "metadata": {},
   "outputs": [],
   "source": [
    "events_graficable2 = events_graficable2.sort_values(by=['total'],ascending=False)\n",
    "events_graficable2 = events_graficable2.head(10)\n",
    "events_graficable2['Alias'] = ['A','B','C','D','E','F','G','H','I','J']"
   ]
  },
  {
   "cell_type": "code",
   "execution_count": 21,
   "metadata": {},
   "outputs": [
    {
     "data": {
      "image/png": "[encoded data removed]",
      "text/plain": [
       "<Figure size 1080x720 with 1 Axes>"
      ]
     },
     "metadata": {
      "needs_background": "light"
     },
     "output_type": "display_data"
    }
   ],
   "source": [
    "grph2 = events_graficable2.plot.bar(y = 'attributed', x='Alias',figsize = (15,10), grid = True, color = 'royalblue')"
   ]
  },
  {
   "cell_type": "raw",
   "metadata": {},
   "source": [
    "A = 3.083059e+17\n",
    "B = 3.812621e+18\n",
    "C = 2.208835e+18\n",
    "D = 2.987569e+18\n",
    "E = 2.523246e+18\n",
    "F = 5.137992e+17\n",
    "G = 3.228516e+18\n",
    "H = 2.262848e+18\n",
    "I = 6.538562e+18\n",
    "J = 1.083369e+18"
   ]
  },
  {
   "cell_type": "markdown",
   "metadata": {},
   "source": [
    "### Se puede apreciar una cierta tendencia que a mayor numero de events -> mayor numero de attributed sin importar la marca\n",
    "Caso especial en C (eventos mas propensos a ser atribuidos a jampp a menor cantidad)"
   ]
  },
  {
   "cell_type": "code",
   "execution_count": 23,
   "metadata": {},
   "outputs": [
    {
     "data": {
      "image/png": "[encoded data removed]",
      "text/plain": [
       "<Figure size 1080x720 with 1 Axes>"
      ]
     },
     "metadata": {
      "needs_background": "light"
     },
     "output_type": "display_data"
    }
   ],
   "source": [
    "grph3 = events_graficable2.plot.bar( x='Alias',figsize = (15,10), grid = True, title = 'Comparacion cantidad total y attributed (escala Log)')\n",
    "grph3.set_yscale('log')"
   ]
  }
 ],
 "metadata": {
  "kernelspec": {
   "display_name": "Python 3",
   "language": "python",
   "name": "python3"
  },
  "language_info": {
   "codemirror_mode": {
    "name": "ipython",
    "version": 3
   },
   "file_extension": ".py",
   "mimetype": "text/x-python",
   "name": "python",
   "nbconvert_exporter": "python",
   "pygments_lexer": "ipython3",
   "version": "3.7.1"
  }
 },
 "nbformat": 4,
 "nbformat_minor": 2
}
